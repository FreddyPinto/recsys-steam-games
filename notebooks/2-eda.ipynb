{
 "cells": [
  {
   "cell_type": "markdown",
   "metadata": {},
   "source": [
    "# Exploratory Data Analysis (EDA)"
   ]
  },
  {
   "cell_type": "markdown",
   "metadata": {},
   "source": [
    "El objetivo de este notebook es realizar un análisis exploratorio de datos sobre los juegos de Steam, una plataforma de distribución digital de videojuegos. Los datos que se van a analizar provienen de tres fuentes diferentes:\n",
    "\n",
    "- Un dataset `steam_games` que contiene información sobre los juegos disponibles en Steam, como el nombre, el precio, el año de lanzamiento, el género y el acceso anticipado.\n",
    "- Un dataset `user_items` que contiene información sobre los juegos de los usuarios, como el identificador del juego, el tiempo de juego acumulado y el identificador del usuario.\n",
    "- Un dataset `user_reviews` que contiene información sobre las reseñas de los usuarios, como el identificador del juego, la recomendación, el identificador del usuario, el año de publicación y el análisis de sentimiento.\n",
    "\n",
    "El análisis exploratorio de datos se realizará utilizando las librerías de Python pandas, seaborn y matplotlib, que permiten manipular, visualizar y explorar los datos de forma eficiente. El análisis se dividirá en las siguientes secciones:\n",
    "\n",
    "- Análisis de los juegos: se explorarán las características de los juegos disponibles en Steam, como el precio, el año de lanzamiento, el género y el acceso anticipado. Se mostrarán gráficos de distribución, de conteo y de caja para visualizar los datos.\n",
    "- Análisis del tiempo de juego: se explorarán las características del tiempo de juego de los usuarios, como el tiempo de juego acumulado, el tiempo de juego por juego y el tiempo de juego por usuario. Se mostrarán gráficos de distribución, de dispersión y de correlación para visualizar los datos.\n",
    "- Análisis de las reseñas: se explorarán las características de las reseñas de los usuarios, como la recomendación, el año de publicación y el análisis de sentimiento. Se mostrarán gráficos de conteo, de barras y de torta para visualizar los datos.\n",
    "\n",
    "El análisis exploratorio de datos nos permitirá obtener una mejor comprensión de los datos, identificar posibles patrones, anomalías y variables relevantes, y generar hipótesis e insights para futuros análisis o modelos.\n"
   ]
  },
  {
   "cell_type": "markdown",
   "metadata": {},
   "source": [
    "## 0 Configuraciones Globales e Importaciones"
   ]
  },
  {
   "cell_type": "markdown",
   "metadata": {},
   "source": [
    "En esta sección, importamos todas las bibliotecas y/o modulos necesarios para nuestro proceso de feature engineering y establecemos configuraciones globales de ser requerido."
   ]
  },
  {
   "cell_type": "code",
   "execution_count": 127,
   "metadata": {},
   "outputs": [
    {
     "name": "stdout",
     "output_type": "stream",
     "text": [
      "System version: 3.11.5 (tags/v3.11.5:cce6ba9, Aug 24 2023, 14:38:34) [MSC v.1936 64 bit (AMD64)]\n",
      "pandas version: 2.1.3\n",
      "matplotlib version: 3.8.2\n",
      "seaborn version: 0.13.0\n"
     ]
    }
   ],
   "source": [
    "import sys\n",
    "import pandas as pd\n",
    "import matplotlib\n",
    "import matplotlib.pyplot as plt\n",
    "import seaborn as sns\n",
    "\n",
    "custom_params = {\"axes.spines.right\": False, \"axes.spines.top\": False}\n",
    "sns.set_theme(style=\"ticks\", rc=custom_params)\n",
    "\n",
    "\n",
    "print(f\"System version: {sys.version}\")\n",
    "print(f\"pandas version: {pd.__version__}\")\n",
    "print(f\"matplotlib version: {matplotlib.__version__}\")\n",
    "print(f\"seaborn version: {sns.__version__}\")"
   ]
  },
  {
   "cell_type": "markdown",
   "metadata": {},
   "source": [
    "### 1.1 Extracción de los datos"
   ]
  },
  {
   "cell_type": "markdown",
   "metadata": {},
   "source": [
    "Creamos una función que lee cada archivo desde su directorio y lo carga a un DataFrame de `pandas`."
   ]
  },
  {
   "cell_type": "code",
   "execution_count": 125,
   "metadata": {},
   "outputs": [],
   "source": [
    "# Cargamos los archivos parquet\n",
    "def read_parquet_files(parquet_files):\n",
    "    dataframes = {}\n",
    "    for name in parquet_files:\n",
    "        dataframes[name] = pd.read_parquet(f'../data/interim/{name}.parquet', engine='pyarrow')\n",
    "    return dataframes\n",
    "\n",
    "parquet_files = ['steam_games','user_items', 'user_reviews']\n",
    "dataframes = read_parquet_files(parquet_files)\n",
    "\n",
    "# Convertimos a df.\n",
    "df_steam_games = dataframes['steam_games']\n",
    "df_user_items = dataframes['user_items']\n",
    "df_user_reviews = dataframes['user_reviews']"
   ]
  },
  {
   "cell_type": "markdown",
   "metadata": {},
   "source": [
    "## 1 Dataset `steam_games`"
   ]
  },
  {
   "cell_type": "code",
   "execution_count": 128,
   "metadata": {},
   "outputs": [
    {
     "data": {
      "text/html": [
       "<div>\n",
       "<style scoped>\n",
       "    .dataframe tbody tr th:only-of-type {\n",
       "        vertical-align: middle;\n",
       "    }\n",
       "\n",
       "    .dataframe tbody tr th {\n",
       "        vertical-align: top;\n",
       "    }\n",
       "\n",
       "    .dataframe thead th {\n",
       "        text-align: right;\n",
       "    }\n",
       "</style>\n",
       "<table border=\"1\" class=\"dataframe\">\n",
       "  <thead>\n",
       "    <tr style=\"text-align: right;\">\n",
       "      <th></th>\n",
       "      <th>publisher</th>\n",
       "      <th>item_name</th>\n",
       "      <th>price</th>\n",
       "      <th>early_access</th>\n",
       "      <th>item_id</th>\n",
       "      <th>developer</th>\n",
       "      <th>release_year</th>\n",
       "      <th>genres</th>\n",
       "    </tr>\n",
       "  </thead>\n",
       "  <tbody>\n",
       "    <tr>\n",
       "      <th>0</th>\n",
       "      <td>Kotoshiro</td>\n",
       "      <td>Lost Summoner Kitty</td>\n",
       "      <td>4.99</td>\n",
       "      <td>False</td>\n",
       "      <td>761140</td>\n",
       "      <td>Kotoshiro</td>\n",
       "      <td>2018</td>\n",
       "      <td>Strategy</td>\n",
       "    </tr>\n",
       "    <tr>\n",
       "      <th>0</th>\n",
       "      <td>Kotoshiro</td>\n",
       "      <td>Lost Summoner Kitty</td>\n",
       "      <td>4.99</td>\n",
       "      <td>False</td>\n",
       "      <td>761140</td>\n",
       "      <td>Kotoshiro</td>\n",
       "      <td>2018</td>\n",
       "      <td>Action</td>\n",
       "    </tr>\n",
       "    <tr>\n",
       "      <th>0</th>\n",
       "      <td>Kotoshiro</td>\n",
       "      <td>Lost Summoner Kitty</td>\n",
       "      <td>4.99</td>\n",
       "      <td>False</td>\n",
       "      <td>761140</td>\n",
       "      <td>Kotoshiro</td>\n",
       "      <td>2018</td>\n",
       "      <td>Indie</td>\n",
       "    </tr>\n",
       "    <tr>\n",
       "      <th>0</th>\n",
       "      <td>Kotoshiro</td>\n",
       "      <td>Lost Summoner Kitty</td>\n",
       "      <td>4.99</td>\n",
       "      <td>False</td>\n",
       "      <td>761140</td>\n",
       "      <td>Kotoshiro</td>\n",
       "      <td>2018</td>\n",
       "      <td>Casual</td>\n",
       "    </tr>\n",
       "    <tr>\n",
       "      <th>0</th>\n",
       "      <td>Kotoshiro</td>\n",
       "      <td>Lost Summoner Kitty</td>\n",
       "      <td>4.99</td>\n",
       "      <td>False</td>\n",
       "      <td>761140</td>\n",
       "      <td>Kotoshiro</td>\n",
       "      <td>2018</td>\n",
       "      <td>Simulation</td>\n",
       "    </tr>\n",
       "  </tbody>\n",
       "</table>\n",
       "</div>"
      ],
      "text/plain": [
       "   publisher            item_name  price  early_access item_id  developer  \\\n",
       "0  Kotoshiro  Lost Summoner Kitty   4.99         False  761140  Kotoshiro   \n",
       "0  Kotoshiro  Lost Summoner Kitty   4.99         False  761140  Kotoshiro   \n",
       "0  Kotoshiro  Lost Summoner Kitty   4.99         False  761140  Kotoshiro   \n",
       "0  Kotoshiro  Lost Summoner Kitty   4.99         False  761140  Kotoshiro   \n",
       "0  Kotoshiro  Lost Summoner Kitty   4.99         False  761140  Kotoshiro   \n",
       "\n",
       "  release_year      genres  \n",
       "0         2018    Strategy  \n",
       "0         2018      Action  \n",
       "0         2018       Indie  \n",
       "0         2018      Casual  \n",
       "0         2018  Simulation  "
      ]
     },
     "execution_count": 128,
     "metadata": {},
     "output_type": "execute_result"
    }
   ],
   "source": [
    "df_steam_games.head()"
   ]
  },
  {
   "cell_type": "code",
   "execution_count": 129,
   "metadata": {},
   "outputs": [
    {
     "name": "stdout",
     "output_type": "stream",
     "text": [
      "<class 'pandas.core.frame.DataFrame'>\n",
      "Index: 82806 entries, 0 to 32132\n",
      "Data columns (total 8 columns):\n",
      " #   Column        Non-Null Count  Dtype  \n",
      "---  ------        --------------  -----  \n",
      " 0   publisher     82806 non-null  object \n",
      " 1   item_name     82806 non-null  object \n",
      " 2   price         82806 non-null  float64\n",
      " 3   early_access  82806 non-null  bool   \n",
      " 4   item_id       82806 non-null  object \n",
      " 5   developer     82806 non-null  object \n",
      " 6   release_year  82806 non-null  object \n",
      " 7   genres        82806 non-null  object \n",
      "dtypes: bool(1), float64(1), object(6)\n",
      "memory usage: 5.1+ MB\n"
     ]
    }
   ],
   "source": [
    "df_steam_games.info()"
   ]
  },
  {
   "cell_type": "markdown",
   "metadata": {},
   "source": [
    "### 1.1 `publisher`"
   ]
  },
  {
   "cell_type": "code",
   "execution_count": 123,
   "metadata": {},
   "outputs": [
    {
     "name": "stdout",
     "output_type": "stream",
     "text": [
      "Tenemos registros de 8240 editoras de juegos.\n"
     ]
    }
   ],
   "source": [
    "publisher = df_steam_games.publisher.nunique()\n",
    "print(f'Tenemos registros de {publisher} editoras de juegos.')"
   ]
  },
  {
   "cell_type": "code",
   "execution_count": 130,
   "metadata": {},
   "outputs": [
    {
     "data": {
      "text/html": [
       "<div>\n",
       "<style scoped>\n",
       "    .dataframe tbody tr th:only-of-type {\n",
       "        vertical-align: middle;\n",
       "    }\n",
       "\n",
       "    .dataframe tbody tr th {\n",
       "        vertical-align: top;\n",
       "    }\n",
       "\n",
       "    .dataframe thead th {\n",
       "        text-align: right;\n",
       "    }\n",
       "</style>\n",
       "<table border=\"1\" class=\"dataframe\">\n",
       "  <thead>\n",
       "    <tr style=\"text-align: right;\">\n",
       "      <th></th>\n",
       "      <th>publisher</th>\n",
       "      <th>counts</th>\n",
       "      <th>percentage</th>\n",
       "    </tr>\n",
       "  </thead>\n",
       "  <tbody>\n",
       "    <tr>\n",
       "      <th>0</th>\n",
       "      <td>unknown</td>\n",
       "      <td>19751</td>\n",
       "      <td>23.85%</td>\n",
       "    </tr>\n",
       "    <tr>\n",
       "      <th>1</th>\n",
       "      <td>KISS ltd</td>\n",
       "      <td>813</td>\n",
       "      <td>0.98%</td>\n",
       "    </tr>\n",
       "    <tr>\n",
       "      <th>2</th>\n",
       "      <td>Ubisoft</td>\n",
       "      <td>789</td>\n",
       "      <td>0.95%</td>\n",
       "    </tr>\n",
       "    <tr>\n",
       "      <th>3</th>\n",
       "      <td>Paradox Interactive</td>\n",
       "      <td>478</td>\n",
       "      <td>0.58%</td>\n",
       "    </tr>\n",
       "    <tr>\n",
       "      <th>4</th>\n",
       "      <td>SEGA</td>\n",
       "      <td>447</td>\n",
       "      <td>0.54%</td>\n",
       "    </tr>\n",
       "    <tr>\n",
       "      <th>...</th>\n",
       "      <td>...</td>\n",
       "      <td>...</td>\n",
       "      <td>...</td>\n",
       "    </tr>\n",
       "    <tr>\n",
       "      <th>7898</th>\n",
       "      <td>Get Color Games</td>\n",
       "      <td>1</td>\n",
       "      <td>0.0%</td>\n",
       "    </tr>\n",
       "    <tr>\n",
       "      <th>7897</th>\n",
       "      <td>Eric Lipschutz</td>\n",
       "      <td>1</td>\n",
       "      <td>0.0%</td>\n",
       "    </tr>\n",
       "    <tr>\n",
       "      <th>7896</th>\n",
       "      <td>RTK Entertainment</td>\n",
       "      <td>1</td>\n",
       "      <td>0.0%</td>\n",
       "    </tr>\n",
       "    <tr>\n",
       "      <th>7895</th>\n",
       "      <td>Richard Haraším</td>\n",
       "      <td>1</td>\n",
       "      <td>0.0%</td>\n",
       "    </tr>\n",
       "    <tr>\n",
       "      <th>8239</th>\n",
       "      <td>牛学者</td>\n",
       "      <td>1</td>\n",
       "      <td>0.0%</td>\n",
       "    </tr>\n",
       "  </tbody>\n",
       "</table>\n",
       "<p>8240 rows × 3 columns</p>\n",
       "</div>"
      ],
      "text/plain": [
       "                publisher  counts percentage\n",
       "0                 unknown   19751     23.85%\n",
       "1                KISS ltd     813      0.98%\n",
       "2                 Ubisoft     789      0.95%\n",
       "3     Paradox Interactive     478      0.58%\n",
       "4                    SEGA     447      0.54%\n",
       "...                   ...     ...        ...\n",
       "7898      Get Color Games       1       0.0%\n",
       "7897       Eric Lipschutz       1       0.0%\n",
       "7896    RTK Entertainment       1       0.0%\n",
       "7895      Richard Haraším       1       0.0%\n",
       "8239                  牛学者       1       0.0%\n",
       "\n",
       "[8240 rows x 3 columns]"
      ]
     },
     "execution_count": 130,
     "metadata": {},
     "output_type": "execute_result"
    }
   ],
   "source": [
    "counts = df_steam_games[\"publisher\"].value_counts()\n",
    "percentage = df_steam_games[\"publisher\"].value_counts(normalize=True).mul(100).round(2).astype(str) + \"%\"\n",
    "\n",
    "df_publisher = pd.DataFrame({\"publisher\": counts.index, \"counts\": counts.values, \"percentage\": percentage.values})\n",
    "df_publisher.sort_values(\"counts\", ascending=False)"
   ]
  },
  {
   "cell_type": "markdown",
   "metadata": {},
   "source": [
    "* Hay 19751 juegos que no registran un editor. Esto que nos deja a KISS ltd y Ubisoft como las principales editoras. "
   ]
  },
  {
   "cell_type": "markdown",
   "metadata": {},
   "source": [
    "### 1.2 `item_name`"
   ]
  },
  {
   "cell_type": "code",
   "execution_count": 86,
   "metadata": {},
   "outputs": [
    {
     "name": "stdout",
     "output_type": "stream",
     "text": [
      "Tenemos 32095 títulos disponibles.\n"
     ]
    }
   ],
   "source": [
    "titles = df_steam_games.item_name.nunique()\n",
    "print(f'Tenemos {titles} títulos disponibles.')"
   ]
  },
  {
   "cell_type": "code",
   "execution_count": 131,
   "metadata": {},
   "outputs": [
    {
     "data": {
      "text/html": [
       "<div>\n",
       "<style scoped>\n",
       "    .dataframe tbody tr th:only-of-type {\n",
       "        vertical-align: middle;\n",
       "    }\n",
       "\n",
       "    .dataframe tbody tr th {\n",
       "        vertical-align: top;\n",
       "    }\n",
       "\n",
       "    .dataframe thead th {\n",
       "        text-align: right;\n",
       "    }\n",
       "</style>\n",
       "<table border=\"1\" class=\"dataframe\">\n",
       "  <thead>\n",
       "    <tr style=\"text-align: right;\">\n",
       "      <th></th>\n",
       "      <th>publisher</th>\n",
       "      <th>item_name</th>\n",
       "      <th>price</th>\n",
       "      <th>early_access</th>\n",
       "      <th>item_id</th>\n",
       "      <th>developer</th>\n",
       "      <th>release_year</th>\n",
       "      <th>genres</th>\n",
       "    </tr>\n",
       "  </thead>\n",
       "  <tbody>\n",
       "    <tr>\n",
       "      <th>2579</th>\n",
       "      <td>unknown</td>\n",
       "      <td>unknown</td>\n",
       "      <td>4.99</td>\n",
       "      <td>False</td>\n",
       "      <td>317160</td>\n",
       "      <td>unknown</td>\n",
       "      <td>2014</td>\n",
       "      <td>Action</td>\n",
       "    </tr>\n",
       "    <tr>\n",
       "      <th>2579</th>\n",
       "      <td>unknown</td>\n",
       "      <td>unknown</td>\n",
       "      <td>4.99</td>\n",
       "      <td>False</td>\n",
       "      <td>317160</td>\n",
       "      <td>unknown</td>\n",
       "      <td>2014</td>\n",
       "      <td>Indie</td>\n",
       "    </tr>\n",
       "  </tbody>\n",
       "</table>\n",
       "</div>"
      ],
      "text/plain": [
       "     publisher item_name  price  early_access item_id developer release_year  \\\n",
       "2579   unknown   unknown   4.99         False  317160   unknown         2014   \n",
       "2579   unknown   unknown   4.99         False  317160   unknown         2014   \n",
       "\n",
       "      genres  \n",
       "2579  Action  \n",
       "2579   Indie  "
      ]
     },
     "execution_count": 131,
     "metadata": {},
     "output_type": "execute_result"
    }
   ],
   "source": [
    "df_steam_games[df_steam_games[\"item_name\"] == 'unknown']"
   ]
  },
  {
   "cell_type": "markdown",
   "metadata": {},
   "source": [
    "* Solo tenemos 2 nombres para juegos faltantes que notamos por el item_id que es el mismo pero con un genero distinto para cada registro."
   ]
  },
  {
   "cell_type": "markdown",
   "metadata": {},
   "source": [
    "### 1.3 `price`"
   ]
  },
  {
   "cell_type": "code",
   "execution_count": 21,
   "metadata": {},
   "outputs": [
    {
     "data": {
      "text/html": [
       "<div>\n",
       "<style scoped>\n",
       "    .dataframe tbody tr th:only-of-type {\n",
       "        vertical-align: middle;\n",
       "    }\n",
       "\n",
       "    .dataframe tbody tr th {\n",
       "        vertical-align: top;\n",
       "    }\n",
       "\n",
       "    .dataframe thead th {\n",
       "        text-align: right;\n",
       "    }\n",
       "</style>\n",
       "<table border=\"1\" class=\"dataframe\">\n",
       "  <thead>\n",
       "    <tr style=\"text-align: right;\">\n",
       "      <th></th>\n",
       "      <th>price</th>\n",
       "    </tr>\n",
       "  </thead>\n",
       "  <tbody>\n",
       "    <tr>\n",
       "      <th>count</th>\n",
       "      <td>82806.000000</td>\n",
       "    </tr>\n",
       "    <tr>\n",
       "      <th>mean</th>\n",
       "      <td>8.744736</td>\n",
       "    </tr>\n",
       "    <tr>\n",
       "      <th>std</th>\n",
       "      <td>15.765811</td>\n",
       "    </tr>\n",
       "    <tr>\n",
       "      <th>min</th>\n",
       "      <td>0.000000</td>\n",
       "    </tr>\n",
       "    <tr>\n",
       "      <th>25%</th>\n",
       "      <td>2.990000</td>\n",
       "    </tr>\n",
       "    <tr>\n",
       "      <th>50%</th>\n",
       "      <td>4.990000</td>\n",
       "    </tr>\n",
       "    <tr>\n",
       "      <th>75%</th>\n",
       "      <td>9.990000</td>\n",
       "    </tr>\n",
       "    <tr>\n",
       "      <th>max</th>\n",
       "      <td>995.000000</td>\n",
       "    </tr>\n",
       "  </tbody>\n",
       "</table>\n",
       "</div>"
      ],
      "text/plain": [
       "              price\n",
       "count  82806.000000\n",
       "mean       8.744736\n",
       "std       15.765811\n",
       "min        0.000000\n",
       "25%        2.990000\n",
       "50%        4.990000\n",
       "75%        9.990000\n",
       "max      995.000000"
      ]
     },
     "execution_count": 21,
     "metadata": {},
     "output_type": "execute_result"
    }
   ],
   "source": [
    "df_steam_games.describe()"
   ]
  },
  {
   "cell_type": "code",
   "execution_count": 121,
   "metadata": {},
   "outputs": [
    {
     "data": {
      "text/html": [
       "<div>\n",
       "<style scoped>\n",
       "    .dataframe tbody tr th:only-of-type {\n",
       "        vertical-align: middle;\n",
       "    }\n",
       "\n",
       "    .dataframe tbody tr th {\n",
       "        vertical-align: top;\n",
       "    }\n",
       "\n",
       "    .dataframe thead th {\n",
       "        text-align: right;\n",
       "    }\n",
       "</style>\n",
       "<table border=\"1\" class=\"dataframe\">\n",
       "  <thead>\n",
       "    <tr style=\"text-align: right;\">\n",
       "      <th></th>\n",
       "      <th>price</th>\n",
       "      <th>counts</th>\n",
       "      <th>percentage</th>\n",
       "    </tr>\n",
       "  </thead>\n",
       "  <tbody>\n",
       "    <tr>\n",
       "      <th>0</th>\n",
       "      <td>4.99</td>\n",
       "      <td>13577</td>\n",
       "      <td>16.4%</td>\n",
       "    </tr>\n",
       "    <tr>\n",
       "      <th>1</th>\n",
       "      <td>9.99</td>\n",
       "      <td>10270</td>\n",
       "      <td>12.4%</td>\n",
       "    </tr>\n",
       "    <tr>\n",
       "      <th>2</th>\n",
       "      <td>2.99</td>\n",
       "      <td>8153</td>\n",
       "      <td>9.85%</td>\n",
       "    </tr>\n",
       "    <tr>\n",
       "      <th>3</th>\n",
       "      <td>0.00</td>\n",
       "      <td>7112</td>\n",
       "      <td>8.59%</td>\n",
       "    </tr>\n",
       "    <tr>\n",
       "      <th>4</th>\n",
       "      <td>0.99</td>\n",
       "      <td>6544</td>\n",
       "      <td>7.9%</td>\n",
       "    </tr>\n",
       "    <tr>\n",
       "      <th>...</th>\n",
       "      <td>...</td>\n",
       "      <td>...</td>\n",
       "      <td>...</td>\n",
       "    </tr>\n",
       "    <tr>\n",
       "      <th>136</th>\n",
       "      <td>99.00</td>\n",
       "      <td>1</td>\n",
       "      <td>0.0%</td>\n",
       "    </tr>\n",
       "    <tr>\n",
       "      <th>135</th>\n",
       "      <td>499.00</td>\n",
       "      <td>1</td>\n",
       "      <td>0.0%</td>\n",
       "    </tr>\n",
       "    <tr>\n",
       "      <th>133</th>\n",
       "      <td>124.99</td>\n",
       "      <td>1</td>\n",
       "      <td>0.0%</td>\n",
       "    </tr>\n",
       "    <tr>\n",
       "      <th>132</th>\n",
       "      <td>42.99</td>\n",
       "      <td>1</td>\n",
       "      <td>0.0%</td>\n",
       "    </tr>\n",
       "    <tr>\n",
       "      <th>146</th>\n",
       "      <td>234.99</td>\n",
       "      <td>1</td>\n",
       "      <td>0.0%</td>\n",
       "    </tr>\n",
       "  </tbody>\n",
       "</table>\n",
       "<p>147 rows × 3 columns</p>\n",
       "</div>"
      ],
      "text/plain": [
       "      price  counts percentage\n",
       "0      4.99   13577      16.4%\n",
       "1      9.99   10270      12.4%\n",
       "2      2.99    8153      9.85%\n",
       "3      0.00    7112      8.59%\n",
       "4      0.99    6544       7.9%\n",
       "..      ...     ...        ...\n",
       "136   99.00       1       0.0%\n",
       "135  499.00       1       0.0%\n",
       "133  124.99       1       0.0%\n",
       "132   42.99       1       0.0%\n",
       "146  234.99       1       0.0%\n",
       "\n",
       "[147 rows x 3 columns]"
      ]
     },
     "execution_count": 121,
     "metadata": {},
     "output_type": "execute_result"
    }
   ],
   "source": [
    "counts = df_steam_games[\"price\"].value_counts()\n",
    "percentage = df_steam_games[\"price\"].value_counts(normalize=True).mul(100).round(2).astype(str) + \"%\"\n",
    "\n",
    "df_price = pd.DataFrame({\"price\": counts.index, \"counts\": counts.values, \"percentage\": percentage.values})\n",
    "df_price.sort_values(\"counts\", ascending=False)"
   ]
  },
  {
   "cell_type": "markdown",
   "metadata": {},
   "source": [
    "* Notamos que la gran mayoria de los juegos tienen precio de 4.99. Ademas de que tenemos 7112 juegos gratuitos."
   ]
  },
  {
   "cell_type": "code",
   "execution_count": 115,
   "metadata": {},
   "outputs": [
    {
     "data": {
      "image/png": "[encoded data removed]",
      "text/plain": [
       "<Figure size 640x480 with 1 Axes>"
      ]
     },
     "metadata": {},
     "output_type": "display_data"
    }
   ],
   "source": [
    "sns.boxplot(data=df_steam_games, y=\"price\")\n",
    "plt.xlabel(\"Precio (USD)\")\n",
    "plt.title(\"Distribución del precio de los juegos\")\n",
    "plt.show()\n"
   ]
  },
  {
   "cell_type": "markdown",
   "metadata": {},
   "source": [
    "* Hay valores muy extremos entre los precios. Lo que hace que el rango sea amplio. El maximo se encuentra 995."
   ]
  },
  {
   "cell_type": "code",
   "execution_count": 133,
   "metadata": {},
   "outputs": [
    {
     "data": {
      "text/html": [
       "<div>\n",
       "<style scoped>\n",
       "    .dataframe tbody tr th:only-of-type {\n",
       "        vertical-align: middle;\n",
       "    }\n",
       "\n",
       "    .dataframe tbody tr th {\n",
       "        vertical-align: top;\n",
       "    }\n",
       "\n",
       "    .dataframe thead th {\n",
       "        text-align: right;\n",
       "    }\n",
       "</style>\n",
       "<table border=\"1\" class=\"dataframe\">\n",
       "  <thead>\n",
       "    <tr style=\"text-align: right;\">\n",
       "      <th></th>\n",
       "      <th>publisher</th>\n",
       "      <th>item_name</th>\n",
       "      <th>price</th>\n",
       "      <th>early_access</th>\n",
       "      <th>item_id</th>\n",
       "      <th>developer</th>\n",
       "      <th>release_year</th>\n",
       "      <th>genres</th>\n",
       "    </tr>\n",
       "  </thead>\n",
       "  <tbody>\n",
       "    <tr>\n",
       "      <th>12087</th>\n",
       "      <td>Strata Mixed Reality, Inc.</td>\n",
       "      <td>Strata Spaces VR – Professional Edition Upgrade</td>\n",
       "      <td>995.00</td>\n",
       "      <td>False</td>\n",
       "      <td>719000</td>\n",
       "      <td>Strata Mixed Reality, Inc.</td>\n",
       "      <td>2017</td>\n",
       "      <td>Design &amp;amp; Illustration</td>\n",
       "    </tr>\n",
       "    <tr>\n",
       "      <th>12087</th>\n",
       "      <td>Strata Mixed Reality, Inc.</td>\n",
       "      <td>Strata Spaces VR – Professional Edition Upgrade</td>\n",
       "      <td>995.00</td>\n",
       "      <td>False</td>\n",
       "      <td>719000</td>\n",
       "      <td>Strata Mixed Reality, Inc.</td>\n",
       "      <td>2017</td>\n",
       "      <td>Animation &amp;amp; Modeling</td>\n",
       "    </tr>\n",
       "    <tr>\n",
       "      <th>2391</th>\n",
       "      <td>Aerosoft GmbH</td>\n",
       "      <td>X-Plane 10 Global - 64 Bit</td>\n",
       "      <td>771.71</td>\n",
       "      <td>False</td>\n",
       "      <td>292180</td>\n",
       "      <td>Laminar Research</td>\n",
       "      <td>2014</td>\n",
       "      <td>Simulation</td>\n",
       "    </tr>\n",
       "    <tr>\n",
       "      <th>2391</th>\n",
       "      <td>Aerosoft GmbH</td>\n",
       "      <td>X-Plane 10 Global - 64 Bit</td>\n",
       "      <td>771.71</td>\n",
       "      <td>False</td>\n",
       "      <td>292180</td>\n",
       "      <td>Laminar Research</td>\n",
       "      <td>2014</td>\n",
       "      <td>Free to Play</td>\n",
       "    </tr>\n",
       "    <tr>\n",
       "      <th>2391</th>\n",
       "      <td>Aerosoft GmbH</td>\n",
       "      <td>X-Plane 10 Global - 64 Bit</td>\n",
       "      <td>771.71</td>\n",
       "      <td>False</td>\n",
       "      <td>292180</td>\n",
       "      <td>Laminar Research</td>\n",
       "      <td>2014</td>\n",
       "      <td>Adventure</td>\n",
       "    </tr>\n",
       "    <tr>\n",
       "      <th>23593</th>\n",
       "      <td>unknown</td>\n",
       "      <td>HTC Vive</td>\n",
       "      <td>599.00</td>\n",
       "      <td>False</td>\n",
       "      <td>358040</td>\n",
       "      <td>unknown</td>\n",
       "      <td>2016</td>\n",
       "      <td>Free to Play</td>\n",
       "    </tr>\n",
       "    <tr>\n",
       "      <th>23593</th>\n",
       "      <td>unknown</td>\n",
       "      <td>HTC Vive</td>\n",
       "      <td>599.00</td>\n",
       "      <td>False</td>\n",
       "      <td>358040</td>\n",
       "      <td>unknown</td>\n",
       "      <td>2016</td>\n",
       "      <td>Simulation</td>\n",
       "    </tr>\n",
       "    <tr>\n",
       "      <th>23593</th>\n",
       "      <td>unknown</td>\n",
       "      <td>HTC Vive</td>\n",
       "      <td>599.00</td>\n",
       "      <td>False</td>\n",
       "      <td>358040</td>\n",
       "      <td>unknown</td>\n",
       "      <td>2016</td>\n",
       "      <td>Action</td>\n",
       "    </tr>\n",
       "    <tr>\n",
       "      <th>23593</th>\n",
       "      <td>unknown</td>\n",
       "      <td>HTC Vive</td>\n",
       "      <td>599.00</td>\n",
       "      <td>False</td>\n",
       "      <td>358040</td>\n",
       "      <td>unknown</td>\n",
       "      <td>2016</td>\n",
       "      <td>RPG</td>\n",
       "    </tr>\n",
       "    <tr>\n",
       "      <th>17793</th>\n",
       "      <td>CCP</td>\n",
       "      <td>EVE Online: 15400 PLEX</td>\n",
       "      <td>499.99</td>\n",
       "      <td>False</td>\n",
       "      <td>629796</td>\n",
       "      <td>CCP</td>\n",
       "      <td>2017</td>\n",
       "      <td>Massively Multiplayer</td>\n",
       "    </tr>\n",
       "    <tr>\n",
       "      <th>14303</th>\n",
       "      <td>RUHRSOURCE GmbH</td>\n",
       "      <td>CUR3D Maker Edition - Permission for commercia...</td>\n",
       "      <td>499.99</td>\n",
       "      <td>False</td>\n",
       "      <td>691560</td>\n",
       "      <td>RUHRSOURCE GmbH</td>\n",
       "      <td>2017</td>\n",
       "      <td>Education</td>\n",
       "    </tr>\n",
       "    <tr>\n",
       "      <th>14303</th>\n",
       "      <td>RUHRSOURCE GmbH</td>\n",
       "      <td>CUR3D Maker Edition - Permission for commercia...</td>\n",
       "      <td>499.99</td>\n",
       "      <td>False</td>\n",
       "      <td>691560</td>\n",
       "      <td>RUHRSOURCE GmbH</td>\n",
       "      <td>2017</td>\n",
       "      <td>Utilities</td>\n",
       "    </tr>\n",
       "    <tr>\n",
       "      <th>17793</th>\n",
       "      <td>CCP</td>\n",
       "      <td>EVE Online: 15400 PLEX</td>\n",
       "      <td>499.99</td>\n",
       "      <td>False</td>\n",
       "      <td>629796</td>\n",
       "      <td>CCP</td>\n",
       "      <td>2017</td>\n",
       "      <td>RPG</td>\n",
       "    </tr>\n",
       "    <tr>\n",
       "      <th>17793</th>\n",
       "      <td>CCP</td>\n",
       "      <td>EVE Online: 15400 PLEX</td>\n",
       "      <td>499.99</td>\n",
       "      <td>False</td>\n",
       "      <td>629796</td>\n",
       "      <td>CCP</td>\n",
       "      <td>2017</td>\n",
       "      <td>Free to Play</td>\n",
       "    </tr>\n",
       "    <tr>\n",
       "      <th>24999</th>\n",
       "      <td>unknown</td>\n",
       "      <td>Syber Steam Machine</td>\n",
       "      <td>499.00</td>\n",
       "      <td>False</td>\n",
       "      <td>353420</td>\n",
       "      <td>unknown</td>\n",
       "      <td>2015</td>\n",
       "      <td>unknown</td>\n",
       "    </tr>\n",
       "  </tbody>\n",
       "</table>\n",
       "</div>"
      ],
      "text/plain": [
       "                        publisher  \\\n",
       "12087  Strata Mixed Reality, Inc.   \n",
       "12087  Strata Mixed Reality, Inc.   \n",
       "2391                Aerosoft GmbH   \n",
       "2391                Aerosoft GmbH   \n",
       "2391                Aerosoft GmbH   \n",
       "23593                     unknown   \n",
       "23593                     unknown   \n",
       "23593                     unknown   \n",
       "23593                     unknown   \n",
       "17793                         CCP   \n",
       "14303             RUHRSOURCE GmbH   \n",
       "14303             RUHRSOURCE GmbH   \n",
       "17793                         CCP   \n",
       "17793                         CCP   \n",
       "24999                     unknown   \n",
       "\n",
       "                                               item_name   price  \\\n",
       "12087    Strata Spaces VR – Professional Edition Upgrade  995.00   \n",
       "12087    Strata Spaces VR – Professional Edition Upgrade  995.00   \n",
       "2391                          X-Plane 10 Global - 64 Bit  771.71   \n",
       "2391                          X-Plane 10 Global - 64 Bit  771.71   \n",
       "2391                          X-Plane 10 Global - 64 Bit  771.71   \n",
       "23593                                           HTC Vive  599.00   \n",
       "23593                                           HTC Vive  599.00   \n",
       "23593                                           HTC Vive  599.00   \n",
       "23593                                           HTC Vive  599.00   \n",
       "17793                             EVE Online: 15400 PLEX  499.99   \n",
       "14303  CUR3D Maker Edition - Permission for commercia...  499.99   \n",
       "14303  CUR3D Maker Edition - Permission for commercia...  499.99   \n",
       "17793                             EVE Online: 15400 PLEX  499.99   \n",
       "17793                             EVE Online: 15400 PLEX  499.99   \n",
       "24999                                Syber Steam Machine  499.00   \n",
       "\n",
       "       early_access item_id                   developer release_year  \\\n",
       "12087         False  719000  Strata Mixed Reality, Inc.         2017   \n",
       "12087         False  719000  Strata Mixed Reality, Inc.         2017   \n",
       "2391          False  292180            Laminar Research         2014   \n",
       "2391          False  292180            Laminar Research         2014   \n",
       "2391          False  292180            Laminar Research         2014   \n",
       "23593         False  358040                     unknown         2016   \n",
       "23593         False  358040                     unknown         2016   \n",
       "23593         False  358040                     unknown         2016   \n",
       "23593         False  358040                     unknown         2016   \n",
       "17793         False  629796                         CCP         2017   \n",
       "14303         False  691560             RUHRSOURCE GmbH         2017   \n",
       "14303         False  691560             RUHRSOURCE GmbH         2017   \n",
       "17793         False  629796                         CCP         2017   \n",
       "17793         False  629796                         CCP         2017   \n",
       "24999         False  353420                     unknown         2015   \n",
       "\n",
       "                          genres  \n",
       "12087  Design &amp; Illustration  \n",
       "12087   Animation &amp; Modeling  \n",
       "2391                  Simulation  \n",
       "2391                Free to Play  \n",
       "2391                   Adventure  \n",
       "23593               Free to Play  \n",
       "23593                 Simulation  \n",
       "23593                     Action  \n",
       "23593                        RPG  \n",
       "17793      Massively Multiplayer  \n",
       "14303                  Education  \n",
       "14303                  Utilities  \n",
       "17793                        RPG  \n",
       "17793               Free to Play  \n",
       "24999                    unknown  "
      ]
     },
     "execution_count": 133,
     "metadata": {},
     "output_type": "execute_result"
    }
   ],
   "source": [
    "df_steam_games[df_steam_games[\"price\"] > 200].sort_values('price', ascending=False).head(15)\n"
   ]
  },
  {
   "cell_type": "markdown",
   "metadata": {},
   "source": [
    "* Estos precios altos no parecen representar juegos sino consolas o perifericos de gaming mucho mas costosos que el promedio de los juegos de ahi que se aprecien como outliers. "
   ]
  },
  {
   "cell_type": "code",
   "execution_count": 114,
   "metadata": {},
   "outputs": [
    {
     "data": {
      "image/png": "[encoded data removed]",
      "text/plain": [
       "<Figure size 640x480 with 1 Axes>"
      ]
     },
     "metadata": {},
     "output_type": "display_data"
    }
   ],
   "source": [
    "df_price_no_outliers = df_steam_games[(df_steam_games[\"price\"] > 0) & (df_steam_games[\"price\"] < 20)]\n",
    "\n",
    "sns.boxplot(data=df_price_no_outliers, y=\"price\")\n",
    "plt.xlabel(\"Precio (USD)\")\n",
    "plt.title(\"Distribución del precio de los juegos sin outliers\")\n",
    "plt.show()\n"
   ]
  },
  {
   "cell_type": "markdown",
   "metadata": {},
   "source": [
    "* Aca podemos apreciar mejor la disribucion de los precios sin outliers."
   ]
  },
  {
   "cell_type": "markdown",
   "metadata": {},
   "source": [
    "### 1.4 `early_access`"
   ]
  },
  {
   "cell_type": "code",
   "execution_count": 92,
   "metadata": {},
   "outputs": [
    {
     "data": {
      "text/html": [
       "<div>\n",
       "<style scoped>\n",
       "    .dataframe tbody tr th:only-of-type {\n",
       "        vertical-align: middle;\n",
       "    }\n",
       "\n",
       "    .dataframe tbody tr th {\n",
       "        vertical-align: top;\n",
       "    }\n",
       "\n",
       "    .dataframe thead th {\n",
       "        text-align: right;\n",
       "    }\n",
       "</style>\n",
       "<table border=\"1\" class=\"dataframe\">\n",
       "  <thead>\n",
       "    <tr style=\"text-align: right;\">\n",
       "      <th></th>\n",
       "      <th>early_access</th>\n",
       "      <th>counts</th>\n",
       "      <th>percentage</th>\n",
       "    </tr>\n",
       "  </thead>\n",
       "  <tbody>\n",
       "    <tr>\n",
       "      <th>0</th>\n",
       "      <td>False</td>\n",
       "      <td>74668</td>\n",
       "      <td>90.17%</td>\n",
       "    </tr>\n",
       "    <tr>\n",
       "      <th>1</th>\n",
       "      <td>True</td>\n",
       "      <td>8138</td>\n",
       "      <td>9.83%</td>\n",
       "    </tr>\n",
       "  </tbody>\n",
       "</table>\n",
       "</div>"
      ],
      "text/plain": [
       "   early_access  counts percentage\n",
       "0         False   74668     90.17%\n",
       "1          True    8138      9.83%"
      ]
     },
     "execution_count": 92,
     "metadata": {},
     "output_type": "execute_result"
    }
   ],
   "source": [
    "counts = df_steam_games[\"early_access\"].value_counts()\n",
    "percentage = df_steam_games[\"early_access\"].value_counts(normalize=True).mul(100).round(2).astype(str) + \"%\"\n",
    "\n",
    "df_early_access = pd.DataFrame({\"early_access\": counts.index, \"counts\": counts.values, \"percentage\": percentage.values})\n",
    "df_early_access"
   ]
  },
  {
   "cell_type": "code",
   "execution_count": 98,
   "metadata": {},
   "outputs": [
    {
     "data": {
      "image/png": "[encoded data removed]",
      "text/plain": [
       "<Figure size 640x480 with 1 Axes>"
      ]
     },
     "metadata": {},
     "output_type": "display_data"
    }
   ],
   "source": [
    "sns.countplot(data=df_steam_games, x=\"early_access\", hue=\"early_access\")\n",
    "plt.xlabel(\"Acceso anticipado\")\n",
    "plt.ylabel(\"Cantidad\")\n",
    "plt.title(\"Cantidad de juegos con acceso anticipado\")\n",
    "\n",
    "percentage = df_steam_games[\"early_access\"].value_counts(normalize=True).mul(100).round(2).astype(str) + \"%\"\n",
    "\n",
    "for i, p in enumerate(percentage):\n",
    "    plt.text(i, 0, p, ha=\"center\", va=\"bottom\")\n",
    "\n",
    "plt.show()\n"
   ]
  },
  {
   "cell_type": "markdown",
   "metadata": {},
   "source": [
    "* Notamos que son pocos los juegos con acceso temprano. Solo cerca del 10% ha tenido acceso temprano."
   ]
  },
  {
   "cell_type": "markdown",
   "metadata": {},
   "source": [
    "### 1.5 `item_id`"
   ]
  },
  {
   "cell_type": "code",
   "execution_count": 78,
   "metadata": {},
   "outputs": [
    {
     "name": "stdout",
     "output_type": "stream",
     "text": [
      "Tenemos registros de 32132 juegos.\n"
     ]
    }
   ],
   "source": [
    "games = df_steam_games.item_id.nunique()\n",
    "print(f'Tenemos registros de {games} juegos.')"
   ]
  },
  {
   "cell_type": "markdown",
   "metadata": {},
   "source": [
    "### 1.6 `developer`"
   ]
  },
  {
   "cell_type": "code",
   "execution_count": 75,
   "metadata": {},
   "outputs": [
    {
     "name": "stdout",
     "output_type": "stream",
     "text": [
      "Tenemos 10993 desarrrolladores.\n"
     ]
    }
   ],
   "source": [
    "developer = df_steam_games.developer.nunique()\n",
    "print(f'Tenemos {developer} desarrrolladores.')"
   ]
  },
  {
   "cell_type": "code",
   "execution_count": 99,
   "metadata": {},
   "outputs": [
    {
     "data": {
      "text/html": [
       "<div>\n",
       "<style scoped>\n",
       "    .dataframe tbody tr th:only-of-type {\n",
       "        vertical-align: middle;\n",
       "    }\n",
       "\n",
       "    .dataframe tbody tr th {\n",
       "        vertical-align: top;\n",
       "    }\n",
       "\n",
       "    .dataframe thead th {\n",
       "        text-align: right;\n",
       "    }\n",
       "</style>\n",
       "<table border=\"1\" class=\"dataframe\">\n",
       "  <thead>\n",
       "    <tr style=\"text-align: right;\">\n",
       "      <th></th>\n",
       "      <th>developer</th>\n",
       "      <th>counts</th>\n",
       "      <th>percentage</th>\n",
       "    </tr>\n",
       "  </thead>\n",
       "  <tbody>\n",
       "    <tr>\n",
       "      <th>0</th>\n",
       "      <td>unknown</td>\n",
       "      <td>7462</td>\n",
       "      <td>9.01%</td>\n",
       "    </tr>\n",
       "    <tr>\n",
       "      <th>1</th>\n",
       "      <td>SmiteWorks USA, LLC</td>\n",
       "      <td>2603</td>\n",
       "      <td>3.14%</td>\n",
       "    </tr>\n",
       "    <tr>\n",
       "      <th>2</th>\n",
       "      <td>Ubisoft - San Francisco</td>\n",
       "      <td>2518</td>\n",
       "      <td>3.04%</td>\n",
       "    </tr>\n",
       "    <tr>\n",
       "      <th>3</th>\n",
       "      <td>DL Softworks</td>\n",
       "      <td>496</td>\n",
       "      <td>0.6%</td>\n",
       "    </tr>\n",
       "    <tr>\n",
       "      <th>4</th>\n",
       "      <td>Ronimo Games</td>\n",
       "      <td>379</td>\n",
       "      <td>0.46%</td>\n",
       "    </tr>\n",
       "    <tr>\n",
       "      <th>5</th>\n",
       "      <td>Paradox Development Studio</td>\n",
       "      <td>322</td>\n",
       "      <td>0.39%</td>\n",
       "    </tr>\n",
       "    <tr>\n",
       "      <th>6</th>\n",
       "      <td>Musopia</td>\n",
       "      <td>302</td>\n",
       "      <td>0.36%</td>\n",
       "    </tr>\n",
       "    <tr>\n",
       "      <th>7</th>\n",
       "      <td>Dovetail Games</td>\n",
       "      <td>287</td>\n",
       "      <td>0.35%</td>\n",
       "    </tr>\n",
       "    <tr>\n",
       "      <th>8</th>\n",
       "      <td>Arcane Raise</td>\n",
       "      <td>263</td>\n",
       "      <td>0.32%</td>\n",
       "    </tr>\n",
       "    <tr>\n",
       "      <th>9</th>\n",
       "      <td>KOEI TECMO GAMES CO., LTD.</td>\n",
       "      <td>251</td>\n",
       "      <td>0.3%</td>\n",
       "    </tr>\n",
       "    <tr>\n",
       "      <th>10</th>\n",
       "      <td>Choice of Games</td>\n",
       "      <td>248</td>\n",
       "      <td>0.3%</td>\n",
       "    </tr>\n",
       "    <tr>\n",
       "      <th>11</th>\n",
       "      <td>Boogygames Studios</td>\n",
       "      <td>239</td>\n",
       "      <td>0.29%</td>\n",
       "    </tr>\n",
       "    <tr>\n",
       "      <th>12</th>\n",
       "      <td>Milestone S.r.l.</td>\n",
       "      <td>216</td>\n",
       "      <td>0.26%</td>\n",
       "    </tr>\n",
       "    <tr>\n",
       "      <th>13</th>\n",
       "      <td>Magic Pixel Kft.</td>\n",
       "      <td>207</td>\n",
       "      <td>0.25%</td>\n",
       "    </tr>\n",
       "    <tr>\n",
       "      <th>14</th>\n",
       "      <td>Capcom</td>\n",
       "      <td>181</td>\n",
       "      <td>0.22%</td>\n",
       "    </tr>\n",
       "  </tbody>\n",
       "</table>\n",
       "</div>"
      ],
      "text/plain": [
       "                     developer  counts percentage\n",
       "0                      unknown    7462      9.01%\n",
       "1          SmiteWorks USA, LLC    2603      3.14%\n",
       "2      Ubisoft - San Francisco    2518      3.04%\n",
       "3                 DL Softworks     496       0.6%\n",
       "4                 Ronimo Games     379      0.46%\n",
       "5   Paradox Development Studio     322      0.39%\n",
       "6                      Musopia     302      0.36%\n",
       "7               Dovetail Games     287      0.35%\n",
       "8                 Arcane Raise     263      0.32%\n",
       "9   KOEI TECMO GAMES CO., LTD.     251       0.3%\n",
       "10             Choice of Games     248       0.3%\n",
       "11          Boogygames Studios     239      0.29%\n",
       "12            Milestone S.r.l.     216      0.26%\n",
       "13            Magic Pixel Kft.     207      0.25%\n",
       "14                      Capcom     181      0.22%"
      ]
     },
     "execution_count": 99,
     "metadata": {},
     "output_type": "execute_result"
    }
   ],
   "source": [
    "counts = df_steam_games[\"developer\"].value_counts()\n",
    "percentage = df_steam_games[\"developer\"].value_counts(normalize=True).mul(100).round(2).astype(str) + \"%\"\n",
    "\n",
    "df_developer = pd.DataFrame({\"developer\": counts.index, \"counts\": counts.values, \"percentage\": percentage.values})\n",
    "df_developer.head(15)"
   ]
  },
  {
   "cell_type": "markdown",
   "metadata": {},
   "source": [
    "* Tenemos 7462 valores faltantes. Siendo SmiteWorks USA, LLC con 2603 juegos el desarrollador con mayor cantidad de juegos desarrollados, seguido de Ubisoft - San Francisco con 2518 juegos desarrollados."
   ]
  },
  {
   "cell_type": "markdown",
   "metadata": {},
   "source": [
    "### 1.7 `release_year`"
   ]
  },
  {
   "cell_type": "code",
   "execution_count": 62,
   "metadata": {},
   "outputs": [
    {
     "name": "stdout",
     "output_type": "stream",
     "text": [
      "['1970', '1975', '1980', '1981', '1982', '1983', '1984', '1985', '1986', '1987', '1988', '1989', '1990', '1991', '1992', '1993', '1994', '1995', '1996', '1997', '1998', '1999', '2000', '2001', '2002', '2003', '2004', '2005', '2006', '2007', '2008', '2009', '2010', '2011', '2012', '2013', '2014', '2015', '2016', '2017', '2018', '2019', '2021', 'unknown']\n",
      "Tenemos registros de 44 años distintos.\n"
     ]
    }
   ],
   "source": [
    "year = df_steam_games.release_year.nunique()\n",
    "unique_year =df_steam_games.release_year.unique()\n",
    "print(sorted(unique_year))\n",
    "print(f'Tenemos registros de {year} años distintos.')"
   ]
  },
  {
   "cell_type": "code",
   "execution_count": 100,
   "metadata": {},
   "outputs": [
    {
     "data": {
      "text/html": [
       "<div>\n",
       "<style scoped>\n",
       "    .dataframe tbody tr th:only-of-type {\n",
       "        vertical-align: middle;\n",
       "    }\n",
       "\n",
       "    .dataframe tbody tr th {\n",
       "        vertical-align: top;\n",
       "    }\n",
       "\n",
       "    .dataframe thead th {\n",
       "        text-align: right;\n",
       "    }\n",
       "</style>\n",
       "<table border=\"1\" class=\"dataframe\">\n",
       "  <thead>\n",
       "    <tr style=\"text-align: right;\">\n",
       "      <th></th>\n",
       "      <th>year</th>\n",
       "      <th>counts</th>\n",
       "      <th>percentage</th>\n",
       "    </tr>\n",
       "  </thead>\n",
       "  <tbody>\n",
       "    <tr>\n",
       "      <th>0</th>\n",
       "      <td>2017</td>\n",
       "      <td>26236</td>\n",
       "      <td>31.68%</td>\n",
       "    </tr>\n",
       "    <tr>\n",
       "      <th>1</th>\n",
       "      <td>2016</td>\n",
       "      <td>18602</td>\n",
       "      <td>22.46%</td>\n",
       "    </tr>\n",
       "    <tr>\n",
       "      <th>2</th>\n",
       "      <td>2015</td>\n",
       "      <td>13125</td>\n",
       "      <td>15.85%</td>\n",
       "    </tr>\n",
       "    <tr>\n",
       "      <th>3</th>\n",
       "      <td>2014</td>\n",
       "      <td>7080</td>\n",
       "      <td>8.55%</td>\n",
       "    </tr>\n",
       "    <tr>\n",
       "      <th>4</th>\n",
       "      <td>unknown</td>\n",
       "      <td>6328</td>\n",
       "      <td>7.64%</td>\n",
       "    </tr>\n",
       "    <tr>\n",
       "      <th>5</th>\n",
       "      <td>2013</td>\n",
       "      <td>3358</td>\n",
       "      <td>4.06%</td>\n",
       "    </tr>\n",
       "    <tr>\n",
       "      <th>6</th>\n",
       "      <td>2012</td>\n",
       "      <td>2373</td>\n",
       "      <td>2.87%</td>\n",
       "    </tr>\n",
       "    <tr>\n",
       "      <th>7</th>\n",
       "      <td>2011</td>\n",
       "      <td>1213</td>\n",
       "      <td>1.46%</td>\n",
       "    </tr>\n",
       "    <tr>\n",
       "      <th>8</th>\n",
       "      <td>2010</td>\n",
       "      <td>833</td>\n",
       "      <td>1.01%</td>\n",
       "    </tr>\n",
       "    <tr>\n",
       "      <th>9</th>\n",
       "      <td>2009</td>\n",
       "      <td>629</td>\n",
       "      <td>0.76%</td>\n",
       "    </tr>\n",
       "    <tr>\n",
       "      <th>10</th>\n",
       "      <td>2018</td>\n",
       "      <td>506</td>\n",
       "      <td>0.61%</td>\n",
       "    </tr>\n",
       "    <tr>\n",
       "      <th>11</th>\n",
       "      <td>2008</td>\n",
       "      <td>435</td>\n",
       "      <td>0.53%</td>\n",
       "    </tr>\n",
       "    <tr>\n",
       "      <th>12</th>\n",
       "      <td>2007</td>\n",
       "      <td>345</td>\n",
       "      <td>0.42%</td>\n",
       "    </tr>\n",
       "    <tr>\n",
       "      <th>13</th>\n",
       "      <td>2006</td>\n",
       "      <td>300</td>\n",
       "      <td>0.36%</td>\n",
       "    </tr>\n",
       "    <tr>\n",
       "      <th>14</th>\n",
       "      <td>2005</td>\n",
       "      <td>192</td>\n",
       "      <td>0.23%</td>\n",
       "    </tr>\n",
       "  </tbody>\n",
       "</table>\n",
       "</div>"
      ],
      "text/plain": [
       "       year  counts percentage\n",
       "0      2017   26236     31.68%\n",
       "1      2016   18602     22.46%\n",
       "2      2015   13125     15.85%\n",
       "3      2014    7080      8.55%\n",
       "4   unknown    6328      7.64%\n",
       "5      2013    3358      4.06%\n",
       "6      2012    2373      2.87%\n",
       "7      2011    1213      1.46%\n",
       "8      2010     833      1.01%\n",
       "9      2009     629      0.76%\n",
       "10     2018     506      0.61%\n",
       "11     2008     435      0.53%\n",
       "12     2007     345      0.42%\n",
       "13     2006     300      0.36%\n",
       "14     2005     192      0.23%"
      ]
     },
     "execution_count": 100,
     "metadata": {},
     "output_type": "execute_result"
    }
   ],
   "source": [
    "counts = df_steam_games[\"release_year\"].value_counts()\n",
    "percentage = df_steam_games[\"release_year\"].value_counts(normalize=True).mul(100).round(2).astype(str) + \"%\"\n",
    "\n",
    "df_release_year = pd.DataFrame({\"year\": counts.index, \"counts\": counts.values, \"percentage\": percentage.values})\n",
    "df_release_year.head(15)"
   ]
  },
  {
   "cell_type": "markdown",
   "metadata": {},
   "source": [
    "* Tenemos 6328 valores faltantes y el año con mas lanzamientos de juegos es el 2017."
   ]
  },
  {
   "cell_type": "code",
   "execution_count": 69,
   "metadata": {},
   "outputs": [
    {
     "data": {
      "image/png": "[encoded data removed]",
      "text/plain": [
       "<Figure size 640x480 with 1 Axes>"
      ]
     },
     "metadata": {},
     "output_type": "display_data"
    }
   ],
   "source": [
    "percentage = df_steam_games[\"release_year\"].value_counts(normalize=True).mul(100).round(2)\n",
    "top_15 = percentage.nlargest(15).index.tolist()\n",
    "df_steam_games[\"grouped_years\"] = df_steam_games[\"release_year\"].apply(lambda x: x if x in top_15 else \"other\")\n",
    "grouped_percentage = df_steam_games[\"grouped_years\"].value_counts(normalize=True).mul(100).round(2)\n",
    "\n",
    "\n",
    "sns.barplot(y=grouped_percentage.index, x=grouped_percentage.values)\n",
    "plt.ylabel(\"Años\")\n",
    "plt.xlabel(\"Porcentaje (%)\")\n",
    "plt.title(\"Años con más lanzamientos\")\n",
    "plt.show()"
   ]
  },
  {
   "cell_type": "markdown",
   "metadata": {},
   "source": [
    "### 1.8 `genres`"
   ]
  },
  {
   "cell_type": "code",
   "execution_count": 32,
   "metadata": {},
   "outputs": [
    {
     "name": "stdout",
     "output_type": "stream",
     "text": [
      "Tenemos 23 géneros distintos\n"
     ]
    }
   ],
   "source": [
    "genre = df_steam_games.genres.nunique()\n",
    "print(f'Tenemos {genre} géneros distintos')"
   ]
  },
  {
   "cell_type": "code",
   "execution_count": 67,
   "metadata": {},
   "outputs": [
    {
     "data": {
      "text/html": [
       "<div>\n",
       "<style scoped>\n",
       "    .dataframe tbody tr th:only-of-type {\n",
       "        vertical-align: middle;\n",
       "    }\n",
       "\n",
       "    .dataframe tbody tr th {\n",
       "        vertical-align: top;\n",
       "    }\n",
       "\n",
       "    .dataframe thead th {\n",
       "        text-align: right;\n",
       "    }\n",
       "</style>\n",
       "<table border=\"1\" class=\"dataframe\">\n",
       "  <thead>\n",
       "    <tr style=\"text-align: right;\">\n",
       "      <th></th>\n",
       "      <th>genres</th>\n",
       "      <th>counts</th>\n",
       "      <th>percentage</th>\n",
       "    </tr>\n",
       "  </thead>\n",
       "  <tbody>\n",
       "    <tr>\n",
       "      <th>0</th>\n",
       "      <td>Indie</td>\n",
       "      <td>17633</td>\n",
       "      <td>21.29%</td>\n",
       "    </tr>\n",
       "    <tr>\n",
       "      <th>1</th>\n",
       "      <td>Action</td>\n",
       "      <td>13009</td>\n",
       "      <td>15.71%</td>\n",
       "    </tr>\n",
       "    <tr>\n",
       "      <th>2</th>\n",
       "      <td>Adventure</td>\n",
       "      <td>9835</td>\n",
       "      <td>11.88%</td>\n",
       "    </tr>\n",
       "    <tr>\n",
       "      <th>3</th>\n",
       "      <td>Casual</td>\n",
       "      <td>9758</td>\n",
       "      <td>11.78%</td>\n",
       "    </tr>\n",
       "    <tr>\n",
       "      <th>4</th>\n",
       "      <td>Simulation</td>\n",
       "      <td>7735</td>\n",
       "      <td>9.34%</td>\n",
       "    </tr>\n",
       "    <tr>\n",
       "      <th>5</th>\n",
       "      <td>Strategy</td>\n",
       "      <td>7571</td>\n",
       "      <td>9.14%</td>\n",
       "    </tr>\n",
       "    <tr>\n",
       "      <th>6</th>\n",
       "      <td>RPG</td>\n",
       "      <td>5920</td>\n",
       "      <td>7.15%</td>\n",
       "    </tr>\n",
       "    <tr>\n",
       "      <th>7</th>\n",
       "      <td>Free to Play</td>\n",
       "      <td>2406</td>\n",
       "      <td>2.91%</td>\n",
       "    </tr>\n",
       "    <tr>\n",
       "      <th>8</th>\n",
       "      <td>Early Access</td>\n",
       "      <td>1947</td>\n",
       "      <td>2.35%</td>\n",
       "    </tr>\n",
       "    <tr>\n",
       "      <th>9</th>\n",
       "      <td>Sports</td>\n",
       "      <td>1598</td>\n",
       "      <td>1.93%</td>\n",
       "    </tr>\n",
       "    <tr>\n",
       "      <th>10</th>\n",
       "      <td>Massively Multiplayer</td>\n",
       "      <td>1286</td>\n",
       "      <td>1.55%</td>\n",
       "    </tr>\n",
       "    <tr>\n",
       "      <th>11</th>\n",
       "      <td>Racing</td>\n",
       "      <td>1229</td>\n",
       "      <td>1.48%</td>\n",
       "    </tr>\n",
       "    <tr>\n",
       "      <th>12</th>\n",
       "      <td>unknown</td>\n",
       "      <td>1030</td>\n",
       "      <td>1.24%</td>\n",
       "    </tr>\n",
       "    <tr>\n",
       "      <th>13</th>\n",
       "      <td>Utilities</td>\n",
       "      <td>613</td>\n",
       "      <td>0.74%</td>\n",
       "    </tr>\n",
       "    <tr>\n",
       "      <th>14</th>\n",
       "      <td>Education</td>\n",
       "      <td>376</td>\n",
       "      <td>0.45%</td>\n",
       "    </tr>\n",
       "  </tbody>\n",
       "</table>\n",
       "</div>"
      ],
      "text/plain": [
       "                   genres  counts percentage\n",
       "0                   Indie   17633     21.29%\n",
       "1                  Action   13009     15.71%\n",
       "2               Adventure    9835     11.88%\n",
       "3                  Casual    9758     11.78%\n",
       "4              Simulation    7735      9.34%\n",
       "5                Strategy    7571      9.14%\n",
       "6                     RPG    5920      7.15%\n",
       "7            Free to Play    2406      2.91%\n",
       "8            Early Access    1947      2.35%\n",
       "9                  Sports    1598      1.93%\n",
       "10  Massively Multiplayer    1286      1.55%\n",
       "11                 Racing    1229      1.48%\n",
       "12                unknown    1030      1.24%\n",
       "13              Utilities     613      0.74%\n",
       "14              Education     376      0.45%"
      ]
     },
     "execution_count": 67,
     "metadata": {},
     "output_type": "execute_result"
    }
   ],
   "source": [
    "counts = df_steam_games[\"genres\"].value_counts()\n",
    "percentage = df_steam_games[\"genres\"].value_counts(normalize=True).mul(100).round(2).astype(str) + \"%\"\n",
    "\n",
    "df_steam_games_genres = pd.DataFrame({\"genres\": counts.index, \"counts\": counts.values, \"percentage\": percentage.values})\n",
    "df_steam_games_genres.head(15)\n"
   ]
  },
  {
   "cell_type": "markdown",
   "metadata": {},
   "source": [
    "* Hay 1030 valores faltantes, siendo Indie el género mas frecuente."
   ]
  },
  {
   "cell_type": "code",
   "execution_count": 53,
   "metadata": {},
   "outputs": [
    {
     "data": {
      "image/png": "[encoded data removed]",
      "text/plain": [
       "<Figure size 640x480 with 1 Axes>"
      ]
     },
     "metadata": {},
     "output_type": "display_data"
    }
   ],
   "source": [
    "percentage = df_steam_games[\"genres\"].value_counts(normalize=True).mul(100).round(2)\n",
    "top_15 = percentage.nlargest(15).index.tolist()\n",
    "df_steam_games[\"grouped_genres\"] = df_steam_games[\"genres\"].apply(lambda x: x if x in top_15 else \"other\")\n",
    "grouped_percentage = df_steam_games[\"grouped_genres\"].value_counts(normalize=True).mul(100).round(2)\n",
    "\n",
    "\n",
    "sns.barplot(y=grouped_percentage.index, x=grouped_percentage.values)\n",
    "plt.ylabel(\"Géneros\")\n",
    "plt.xlabel(\"Porcentaje (%)\")\n",
    "plt.title(\"Top Géneros\")\n",
    "plt.show()"
   ]
  },
  {
   "cell_type": "code",
   "execution_count": 13,
   "metadata": {},
   "outputs": [
    {
     "name": "stdout",
     "output_type": "stream",
     "text": [
      "<class 'pandas.core.frame.DataFrame'>\n",
      "Index: 82806 entries, 0 to 32132\n",
      "Data columns (total 8 columns):\n",
      " #   Column        Non-Null Count  Dtype  \n",
      "---  ------        --------------  -----  \n",
      " 0   publisher     82806 non-null  object \n",
      " 1   item_name     82806 non-null  object \n",
      " 2   price         82806 non-null  float64\n",
      " 3   early_access  82806 non-null  bool   \n",
      " 4   item_id       82806 non-null  object \n",
      " 5   developer     82806 non-null  object \n",
      " 6   release_year  82806 non-null  object \n",
      " 7   genres        82806 non-null  object \n",
      "dtypes: bool(1), float64(1), object(6)\n",
      "memory usage: 5.1+ MB\n"
     ]
    }
   ],
   "source": [
    "df_steam_games.info()"
   ]
  },
  {
   "cell_type": "code",
   "execution_count": 29,
   "metadata": {},
   "outputs": [
    {
     "ename": "ValueError",
     "evalue": "Could not interpret value `genre` for `x`. An entry with this name does not appear in `data`.",
     "output_type": "error",
     "traceback": [
      "\u001b[1;31m---------------------------------------------------------------------------\u001b[0m",
      "\u001b[1;31mValueError\u001b[0m                                Traceback (most recent call last)",
      "\u001b[1;32mc:\\Users\\Freddy\\Desktop\\Workspace\\Henry\\recsys-steam-games\\notebooks\\2-eda.ipynb Cell 20\u001b[0m line \u001b[0;36m1\n\u001b[1;32m----> <a href='vscode-notebook-cell:/c%3A/Users/Freddy/Desktop/Workspace/Henry/recsys-steam-games/notebooks/2-eda.ipynb#X43sZmlsZQ%3D%3D?line=0'>1</a>\u001b[0m sns\u001b[39m.\u001b[39;49mbarplot(data\u001b[39m=\u001b[39;49mdf_steam_games, x\u001b[39m=\u001b[39;49m\u001b[39m\"\u001b[39;49m\u001b[39mgenre\u001b[39;49m\u001b[39m\"\u001b[39;49m, y\u001b[39m=\u001b[39;49m\u001b[39m\"\u001b[39;49m\u001b[39mpercentage\u001b[39;49m\u001b[39m\"\u001b[39;49m)\n\u001b[0;32m      <a href='vscode-notebook-cell:/c%3A/Users/Freddy/Desktop/Workspace/Henry/recsys-steam-games/notebooks/2-eda.ipynb#X43sZmlsZQ%3D%3D?line=1'>2</a>\u001b[0m plt\u001b[39m.\u001b[39mxlabel(\u001b[39m\"\u001b[39m\u001b[39mCategoría\u001b[39m\u001b[39m\"\u001b[39m)\n\u001b[0;32m      <a href='vscode-notebook-cell:/c%3A/Users/Freddy/Desktop/Workspace/Henry/recsys-steam-games/notebooks/2-eda.ipynb#X43sZmlsZQ%3D%3D?line=2'>3</a>\u001b[0m plt\u001b[39m.\u001b[39mylabel(\u001b[39m\"\u001b[39m\u001b[39mPorcentaje (\u001b[39m\u001b[39m%\u001b[39m\u001b[39m)\u001b[39m\u001b[39m\"\u001b[39m)\n",
      "File \u001b[1;32mc:\\Users\\Freddy\\Desktop\\Workspace\\Henry\\recsys-steam-games\\venv\\Lib\\site-packages\\seaborn\\categorical.py:2326\u001b[0m, in \u001b[0;36mbarplot\u001b[1;34m(data, x, y, hue, order, hue_order, estimator, errorbar, n_boot, units, seed, orient, color, palette, saturation, fill, hue_norm, width, dodge, gap, log_scale, native_scale, formatter, legend, capsize, err_kws, ci, errcolor, errwidth, ax, **kwargs)\u001b[0m\n\u001b[0;32m   2323\u001b[0m \u001b[39mif\u001b[39;00m estimator \u001b[39mis\u001b[39;00m \u001b[39mlen\u001b[39m:\n\u001b[0;32m   2324\u001b[0m     estimator \u001b[39m=\u001b[39m \u001b[39m\"\u001b[39m\u001b[39msize\u001b[39m\u001b[39m\"\u001b[39m\n\u001b[1;32m-> 2326\u001b[0m p \u001b[39m=\u001b[39m _CategoricalAggPlotter(\n\u001b[0;32m   2327\u001b[0m     data\u001b[39m=\u001b[39;49mdata,\n\u001b[0;32m   2328\u001b[0m     variables\u001b[39m=\u001b[39;49m\u001b[39mdict\u001b[39;49m(x\u001b[39m=\u001b[39;49mx, y\u001b[39m=\u001b[39;49my, hue\u001b[39m=\u001b[39;49mhue, units\u001b[39m=\u001b[39;49munits),\n\u001b[0;32m   2329\u001b[0m     order\u001b[39m=\u001b[39;49morder,\n\u001b[0;32m   2330\u001b[0m     orient\u001b[39m=\u001b[39;49morient,\n\u001b[0;32m   2331\u001b[0m     color\u001b[39m=\u001b[39;49mcolor,\n\u001b[0;32m   2332\u001b[0m     legend\u001b[39m=\u001b[39;49mlegend,\n\u001b[0;32m   2333\u001b[0m )\n\u001b[0;32m   2335\u001b[0m \u001b[39mif\u001b[39;00m ax \u001b[39mis\u001b[39;00m \u001b[39mNone\u001b[39;00m:\n\u001b[0;32m   2336\u001b[0m     ax \u001b[39m=\u001b[39m plt\u001b[39m.\u001b[39mgca()\n",
      "File \u001b[1;32mc:\\Users\\Freddy\\Desktop\\Workspace\\Henry\\recsys-steam-games\\venv\\Lib\\site-packages\\seaborn\\categorical.py:62\u001b[0m, in \u001b[0;36m_CategoricalPlotter.__init__\u001b[1;34m(self, data, variables, order, orient, require_numeric, color, legend)\u001b[0m\n\u001b[0;32m     51\u001b[0m \u001b[39mdef\u001b[39;00m \u001b[39m__init__\u001b[39m(\n\u001b[0;32m     52\u001b[0m     \u001b[39mself\u001b[39m,\n\u001b[0;32m     53\u001b[0m     data\u001b[39m=\u001b[39m\u001b[39mNone\u001b[39;00m,\n\u001b[1;32m   (...)\u001b[0m\n\u001b[0;32m     59\u001b[0m     legend\u001b[39m=\u001b[39m\u001b[39m\"\u001b[39m\u001b[39mauto\u001b[39m\u001b[39m\"\u001b[39m,\n\u001b[0;32m     60\u001b[0m ):\n\u001b[1;32m---> 62\u001b[0m     \u001b[39msuper\u001b[39;49m()\u001b[39m.\u001b[39;49m\u001b[39m__init__\u001b[39;49m(data\u001b[39m=\u001b[39;49mdata, variables\u001b[39m=\u001b[39;49mvariables)\n\u001b[0;32m     64\u001b[0m     \u001b[39m# This method takes care of some bookkeeping that is necessary because the\u001b[39;00m\n\u001b[0;32m     65\u001b[0m     \u001b[39m# original categorical plots (prior to the 2021 refactor) had some rules that\u001b[39;00m\n\u001b[0;32m     66\u001b[0m     \u001b[39m# don't fit exactly into VectorPlotter logic. It may be wise to have a second\u001b[39;00m\n\u001b[1;32m   (...)\u001b[0m\n\u001b[0;32m     71\u001b[0m     \u001b[39m# default VectorPlotter rules. If we do decide to make orient part of the\u001b[39;00m\n\u001b[0;32m     72\u001b[0m     \u001b[39m# _base variable assignment, we'll want to figure out how to express that.\u001b[39;00m\n\u001b[0;32m     73\u001b[0m     \u001b[39mif\u001b[39;00m \u001b[39mself\u001b[39m\u001b[39m.\u001b[39minput_format \u001b[39m==\u001b[39m \u001b[39m\"\u001b[39m\u001b[39mwide\u001b[39m\u001b[39m\"\u001b[39m \u001b[39mand\u001b[39;00m orient \u001b[39min\u001b[39;00m [\u001b[39m\"\u001b[39m\u001b[39mh\u001b[39m\u001b[39m\"\u001b[39m, \u001b[39m\"\u001b[39m\u001b[39my\u001b[39m\u001b[39m\"\u001b[39m]:\n",
      "File \u001b[1;32mc:\\Users\\Freddy\\Desktop\\Workspace\\Henry\\recsys-steam-games\\venv\\Lib\\site-packages\\seaborn\\_base.py:634\u001b[0m, in \u001b[0;36mVectorPlotter.__init__\u001b[1;34m(self, data, variables)\u001b[0m\n\u001b[0;32m    629\u001b[0m \u001b[39m# var_ordered is relevant only for categorical axis variables, and may\u001b[39;00m\n\u001b[0;32m    630\u001b[0m \u001b[39m# be better handled by an internal axis information object that tracks\u001b[39;00m\n\u001b[0;32m    631\u001b[0m \u001b[39m# such information and is set up by the scale_* methods. The analogous\u001b[39;00m\n\u001b[0;32m    632\u001b[0m \u001b[39m# information for numeric axes would be information about log scales.\u001b[39;00m\n\u001b[0;32m    633\u001b[0m \u001b[39mself\u001b[39m\u001b[39m.\u001b[39m_var_ordered \u001b[39m=\u001b[39m {\u001b[39m\"\u001b[39m\u001b[39mx\u001b[39m\u001b[39m\"\u001b[39m: \u001b[39mFalse\u001b[39;00m, \u001b[39m\"\u001b[39m\u001b[39my\u001b[39m\u001b[39m\"\u001b[39m: \u001b[39mFalse\u001b[39;00m}  \u001b[39m# alt., used DefaultDict\u001b[39;00m\n\u001b[1;32m--> 634\u001b[0m \u001b[39mself\u001b[39;49m\u001b[39m.\u001b[39;49massign_variables(data, variables)\n\u001b[0;32m    636\u001b[0m \u001b[39m# TODO Lots of tests assume that these are called to initialize the\u001b[39;00m\n\u001b[0;32m    637\u001b[0m \u001b[39m# mappings to default values on class initialization. I'd prefer to\u001b[39;00m\n\u001b[0;32m    638\u001b[0m \u001b[39m# move away from that and only have a mapping when explicitly called.\u001b[39;00m\n\u001b[0;32m    639\u001b[0m \u001b[39mfor\u001b[39;00m var \u001b[39min\u001b[39;00m [\u001b[39m\"\u001b[39m\u001b[39mhue\u001b[39m\u001b[39m\"\u001b[39m, \u001b[39m\"\u001b[39m\u001b[39msize\u001b[39m\u001b[39m\"\u001b[39m, \u001b[39m\"\u001b[39m\u001b[39mstyle\u001b[39m\u001b[39m\"\u001b[39m]:\n",
      "File \u001b[1;32mc:\\Users\\Freddy\\Desktop\\Workspace\\Henry\\recsys-steam-games\\venv\\Lib\\site-packages\\seaborn\\_base.py:679\u001b[0m, in \u001b[0;36mVectorPlotter.assign_variables\u001b[1;34m(self, data, variables)\u001b[0m\n\u001b[0;32m    674\u001b[0m \u001b[39melse\u001b[39;00m:\n\u001b[0;32m    675\u001b[0m     \u001b[39m# When dealing with long-form input, use the newer PlotData\u001b[39;00m\n\u001b[0;32m    676\u001b[0m     \u001b[39m# object (internal but introduced for the objects interface)\u001b[39;00m\n\u001b[0;32m    677\u001b[0m     \u001b[39m# to centralize / standardize data consumption logic.\u001b[39;00m\n\u001b[0;32m    678\u001b[0m     \u001b[39mself\u001b[39m\u001b[39m.\u001b[39minput_format \u001b[39m=\u001b[39m \u001b[39m\"\u001b[39m\u001b[39mlong\u001b[39m\u001b[39m\"\u001b[39m\n\u001b[1;32m--> 679\u001b[0m     plot_data \u001b[39m=\u001b[39m PlotData(data, variables)\n\u001b[0;32m    680\u001b[0m     frame \u001b[39m=\u001b[39m plot_data\u001b[39m.\u001b[39mframe\n\u001b[0;32m    681\u001b[0m     names \u001b[39m=\u001b[39m plot_data\u001b[39m.\u001b[39mnames\n",
      "File \u001b[1;32mc:\\Users\\Freddy\\Desktop\\Workspace\\Henry\\recsys-steam-games\\venv\\Lib\\site-packages\\seaborn\\_core\\data.py:58\u001b[0m, in \u001b[0;36mPlotData.__init__\u001b[1;34m(self, data, variables)\u001b[0m\n\u001b[0;32m     51\u001b[0m \u001b[39mdef\u001b[39;00m \u001b[39m__init__\u001b[39m(\n\u001b[0;32m     52\u001b[0m     \u001b[39mself\u001b[39m,\n\u001b[0;32m     53\u001b[0m     data: DataSource,\n\u001b[0;32m     54\u001b[0m     variables: \u001b[39mdict\u001b[39m[\u001b[39mstr\u001b[39m, VariableSpec],\n\u001b[0;32m     55\u001b[0m ):\n\u001b[0;32m     57\u001b[0m     data \u001b[39m=\u001b[39m handle_data_source(data)\n\u001b[1;32m---> 58\u001b[0m     frame, names, ids \u001b[39m=\u001b[39m \u001b[39mself\u001b[39;49m\u001b[39m.\u001b[39;49m_assign_variables(data, variables)\n\u001b[0;32m     60\u001b[0m     \u001b[39mself\u001b[39m\u001b[39m.\u001b[39mframe \u001b[39m=\u001b[39m frame\n\u001b[0;32m     61\u001b[0m     \u001b[39mself\u001b[39m\u001b[39m.\u001b[39mnames \u001b[39m=\u001b[39m names\n",
      "File \u001b[1;32mc:\\Users\\Freddy\\Desktop\\Workspace\\Henry\\recsys-steam-games\\venv\\Lib\\site-packages\\seaborn\\_core\\data.py:232\u001b[0m, in \u001b[0;36mPlotData._assign_variables\u001b[1;34m(self, data, variables)\u001b[0m\n\u001b[0;32m    230\u001b[0m     \u001b[39melse\u001b[39;00m:\n\u001b[0;32m    231\u001b[0m         err \u001b[39m+\u001b[39m\u001b[39m=\u001b[39m \u001b[39m\"\u001b[39m\u001b[39mAn entry with this name does not appear in `data`.\u001b[39m\u001b[39m\"\u001b[39m\n\u001b[1;32m--> 232\u001b[0m     \u001b[39mraise\u001b[39;00m \u001b[39mValueError\u001b[39;00m(err)\n\u001b[0;32m    234\u001b[0m \u001b[39melse\u001b[39;00m:\n\u001b[0;32m    235\u001b[0m \n\u001b[0;32m    236\u001b[0m     \u001b[39m# Otherwise, assume the value somehow represents data\u001b[39;00m\n\u001b[0;32m    237\u001b[0m \n\u001b[0;32m    238\u001b[0m     \u001b[39m# Ignore empty data structures\u001b[39;00m\n\u001b[0;32m    239\u001b[0m     \u001b[39mif\u001b[39;00m \u001b[39misinstance\u001b[39m(val, Sized) \u001b[39mand\u001b[39;00m \u001b[39mlen\u001b[39m(val) \u001b[39m==\u001b[39m \u001b[39m0\u001b[39m:\n",
      "\u001b[1;31mValueError\u001b[0m: Could not interpret value `genre` for `x`. An entry with this name does not appear in `data`."
     ]
    }
   ],
   "source": [
    "sns.barplot(data=df_steam_games, x=\"genre\", y=\"percentage\")\n",
    "plt.xlabel(\"Géneros\")\n",
    "plt.ylabel(\"Porcentaje (%)\")\n",
    "plt.title(\"Géneros más populares de los juegos\")\n",
    "plt.show()\n"
   ]
  },
  {
   "cell_type": "markdown",
   "metadata": {},
   "source": [
    "## 3 Dataset `user_items`"
   ]
  },
  {
   "cell_type": "code",
   "execution_count": 14,
   "metadata": {},
   "outputs": [
    {
     "data": {
      "text/html": [
       "<div>\n",
       "<style scoped>\n",
       "    .dataframe tbody tr th:only-of-type {\n",
       "        vertical-align: middle;\n",
       "    }\n",
       "\n",
       "    .dataframe tbody tr th {\n",
       "        vertical-align: top;\n",
       "    }\n",
       "\n",
       "    .dataframe thead th {\n",
       "        text-align: right;\n",
       "    }\n",
       "</style>\n",
       "<table border=\"1\" class=\"dataframe\">\n",
       "  <thead>\n",
       "    <tr style=\"text-align: right;\">\n",
       "      <th></th>\n",
       "      <th>item_id</th>\n",
       "      <th>playtime_forever</th>\n",
       "      <th>user_id</th>\n",
       "    </tr>\n",
       "  </thead>\n",
       "  <tbody>\n",
       "    <tr>\n",
       "      <th>0</th>\n",
       "      <td>10</td>\n",
       "      <td>0.100000</td>\n",
       "      <td>76561197970982479</td>\n",
       "    </tr>\n",
       "    <tr>\n",
       "      <th>1</th>\n",
       "      <td>20</td>\n",
       "      <td>0.000000</td>\n",
       "      <td>76561197970982479</td>\n",
       "    </tr>\n",
       "    <tr>\n",
       "      <th>2</th>\n",
       "      <td>30</td>\n",
       "      <td>0.116667</td>\n",
       "      <td>76561197970982479</td>\n",
       "    </tr>\n",
       "    <tr>\n",
       "      <th>3</th>\n",
       "      <td>40</td>\n",
       "      <td>0.000000</td>\n",
       "      <td>76561197970982479</td>\n",
       "    </tr>\n",
       "    <tr>\n",
       "      <th>4</th>\n",
       "      <td>50</td>\n",
       "      <td>0.000000</td>\n",
       "      <td>76561197970982479</td>\n",
       "    </tr>\n",
       "  </tbody>\n",
       "</table>\n",
       "</div>"
      ],
      "text/plain": [
       "  item_id  playtime_forever            user_id\n",
       "0      10          0.100000  76561197970982479\n",
       "1      20          0.000000  76561197970982479\n",
       "2      30          0.116667  76561197970982479\n",
       "3      40          0.000000  76561197970982479\n",
       "4      50          0.000000  76561197970982479"
      ]
     },
     "execution_count": 14,
     "metadata": {},
     "output_type": "execute_result"
    }
   ],
   "source": [
    "df_user_items.head()"
   ]
  },
  {
   "cell_type": "code",
   "execution_count": 15,
   "metadata": {},
   "outputs": [
    {
     "name": "stdout",
     "output_type": "stream",
     "text": [
      "<class 'pandas.core.frame.DataFrame'>\n",
      "Index: 5094092 entries, 0 to 5153208\n",
      "Data columns (total 3 columns):\n",
      " #   Column            Dtype  \n",
      "---  ------            -----  \n",
      " 0   item_id           object \n",
      " 1   playtime_forever  float64\n",
      " 2   user_id           object \n",
      "dtypes: float64(1), object(2)\n",
      "memory usage: 155.5+ MB\n"
     ]
    }
   ],
   "source": [
    "df_user_items.info()"
   ]
  },
  {
   "cell_type": "code",
   "execution_count": null,
   "metadata": {},
   "outputs": [],
   "source": []
  },
  {
   "cell_type": "code",
   "execution_count": null,
   "metadata": {},
   "outputs": [],
   "source": [
    "sns.barplot(data=df, x=\"release_year\", y=\"sum_playtime_forever\", hue=\"genres\")\n",
    "plt.xlabel(\"Año de lanzamiento\")\n",
    "plt.ylabel(\"Tiempo de juego acumulado (minutos)\")\n",
    "plt.title(\"Juegos más jugados por año y género\")\n",
    "plt.show()"
   ]
  },
  {
   "cell_type": "markdown",
   "metadata": {},
   "source": [
    "## 4 Dataset `user_reviews`"
   ]
  },
  {
   "cell_type": "code",
   "execution_count": 16,
   "metadata": {},
   "outputs": [
    {
     "data": {
      "text/html": [
       "<div>\n",
       "<style scoped>\n",
       "    .dataframe tbody tr th:only-of-type {\n",
       "        vertical-align: middle;\n",
       "    }\n",
       "\n",
       "    .dataframe tbody tr th {\n",
       "        vertical-align: top;\n",
       "    }\n",
       "\n",
       "    .dataframe thead th {\n",
       "        text-align: right;\n",
       "    }\n",
       "</style>\n",
       "<table border=\"1\" class=\"dataframe\">\n",
       "  <thead>\n",
       "    <tr style=\"text-align: right;\">\n",
       "      <th></th>\n",
       "      <th>item_id</th>\n",
       "      <th>recommend</th>\n",
       "      <th>user_id</th>\n",
       "      <th>posted_year</th>\n",
       "      <th>sentiment_analysis</th>\n",
       "    </tr>\n",
       "  </thead>\n",
       "  <tbody>\n",
       "    <tr>\n",
       "      <th>0</th>\n",
       "      <td>1250</td>\n",
       "      <td>True</td>\n",
       "      <td>76561197970982479</td>\n",
       "      <td>2011</td>\n",
       "      <td>2</td>\n",
       "    </tr>\n",
       "    <tr>\n",
       "      <th>1</th>\n",
       "      <td>22200</td>\n",
       "      <td>True</td>\n",
       "      <td>76561197970982479</td>\n",
       "      <td>2011</td>\n",
       "      <td>2</td>\n",
       "    </tr>\n",
       "    <tr>\n",
       "      <th>2</th>\n",
       "      <td>43110</td>\n",
       "      <td>True</td>\n",
       "      <td>76561197970982479</td>\n",
       "      <td>2011</td>\n",
       "      <td>2</td>\n",
       "    </tr>\n",
       "    <tr>\n",
       "      <th>3</th>\n",
       "      <td>251610</td>\n",
       "      <td>True</td>\n",
       "      <td>js41637</td>\n",
       "      <td>2014</td>\n",
       "      <td>2</td>\n",
       "    </tr>\n",
       "    <tr>\n",
       "      <th>4</th>\n",
       "      <td>227300</td>\n",
       "      <td>True</td>\n",
       "      <td>js41637</td>\n",
       "      <td>2013</td>\n",
       "      <td>0</td>\n",
       "    </tr>\n",
       "  </tbody>\n",
       "</table>\n",
       "</div>"
      ],
      "text/plain": [
       "  item_id  recommend            user_id posted_year  sentiment_analysis\n",
       "0    1250       True  76561197970982479        2011                   2\n",
       "1   22200       True  76561197970982479        2011                   2\n",
       "2   43110       True  76561197970982479        2011                   2\n",
       "3  251610       True            js41637        2014                   2\n",
       "4  227300       True            js41637        2013                   0"
      ]
     },
     "execution_count": 16,
     "metadata": {},
     "output_type": "execute_result"
    }
   ],
   "source": [
    "df_user_reviews.head()"
   ]
  },
  {
   "cell_type": "code",
   "execution_count": 17,
   "metadata": {},
   "outputs": [
    {
     "name": "stdout",
     "output_type": "stream",
     "text": [
      "<class 'pandas.core.frame.DataFrame'>\n",
      "Index: 58431 entries, 0 to 59304\n",
      "Data columns (total 5 columns):\n",
      " #   Column              Non-Null Count  Dtype \n",
      "---  ------              --------------  ----- \n",
      " 0   item_id             58431 non-null  object\n",
      " 1   recommend           58431 non-null  bool  \n",
      " 2   user_id             58431 non-null  object\n",
      " 3   posted_year         58431 non-null  object\n",
      " 4   sentiment_analysis  58431 non-null  int64 \n",
      "dtypes: bool(1), int64(1), object(3)\n",
      "memory usage: 2.3+ MB\n"
     ]
    }
   ],
   "source": [
    "df_user_reviews.info()"
   ]
  },
  {
   "cell_type": "code",
   "execution_count": null,
   "metadata": {},
   "outputs": [],
   "source": []
  }
 ],
 "metadata": {
  "kernelspec": {
   "display_name": "venv",
   "language": "python",
   "name": "python3"
  },
  "language_info": {
   "codemirror_mode": {
    "name": "ipython",
    "version": 3
   },
   "file_extension": ".py",
   "mimetype": "text/x-python",
   "name": "python",
   "nbconvert_exporter": "python",
   "pygments_lexer": "ipython3",
   "version": "3.11.5"
  }
 },
 "nbformat": 4,
 "nbformat_minor": 2
}
