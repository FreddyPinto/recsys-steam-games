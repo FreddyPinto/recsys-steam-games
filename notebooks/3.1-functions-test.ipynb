{
  "cells": [
    {
      "cell_type": "markdown",
      "metadata": {
        "id": "view-in-github",
        "colab_type": "text"
      },
      "source": [
        "<a href=\"https://colab.research.google.com/github/FreddyPinto/recsys-steam-games/blob/feature/notebooks/3.1-functions-test.ipynb\" target=\"_parent\"><img src=\"https://colab.research.google.com/assets/colab-badge.svg\" alt=\"Open In Colab\"/></a>"
      ]
    },
    {
      "cell_type": "markdown",
      "metadata": {
        "id": "1lXSwiQx3jCc"
      },
      "source": [
        "# Functions Test"
      ]
    },
    {
      "cell_type": "markdown",
      "metadata": {
        "id": "2qgeZ0h0BBn2"
      },
      "source": [
        "El objetivo de este notebook es crear las funciones para los endpoints que se consumirán en la API. Además, se realizarán pruebas para asegurar su funcionamiento adecuado utilizando los dataset creados específicamente para este fin."
      ]
    },
    {
      "cell_type": "markdown",
      "metadata": {
        "id": "MAAHYNr13nLW"
      },
      "source": [
        "## 0 Configuraciones Globales e Importaciones"
      ]
    },
    {
      "cell_type": "markdown",
      "metadata": {
        "id": "minb4-nsBSdR"
      },
      "source": [
        "En esta sección, importamos todas las bibliotecas y/o modulos necesarios para nuestro proceso de feature engineering y establecemos configuraciones globales de ser requerido."
      ]
    },
    {
      "cell_type": "code",
      "execution_count": 1,
      "metadata": {
        "colab": {
          "base_uri": "https://localhost:8080/"
        },
        "id": "SL5F1X0GETo0",
        "outputId": "89a89443-29cd-44de-c084-b943706edd2f"
      },
      "outputs": [
        {
          "output_type": "stream",
          "name": "stdout",
          "text": [
            "System version: 3.10.12 (main, Jun 11 2023, 05:26:28) [GCC 11.4.0]\n",
            "Pandas version: 1.5.3\n"
          ]
        }
      ],
      "source": [
        "import sys\n",
        "import pandas as pd\n",
        "\n",
        "print(f\"System version: {sys.version}\")\n",
        "print(f\"Pandas version: {pd.__version__}\")"
      ]
    },
    {
      "cell_type": "markdown",
      "metadata": {
        "id": "3735XSBx7a23"
      },
      "source": [
        "## 1 Extracción"
      ]
    },
    {
      "cell_type": "markdown",
      "metadata": {
        "id": "e2yZ74Q8Gpv6"
      },
      "source": [
        "En esta sección, extraemos los datos de los archivos `pseudo_db1` y `pseudo_db2` en formato parquet que serán utilizados como pseudo base de datos para los endpoints."
      ]
    },
    {
      "cell_type": "markdown",
      "metadata": {
        "id": "OhTA5DDP79w6"
      },
      "source": [
        "### 1.1 Extracción de los datos"
      ]
    },
    {
      "cell_type": "markdown",
      "metadata": {
        "id": "f_oRjdvhtRF3"
      },
      "source": [
        "Creamos una función que lee cada archivo desde su directorio y lo carga a un DataFrame de `pandas`."
      ]
    },
    {
      "cell_type": "code",
      "execution_count": 2,
      "metadata": {
        "id": "BiL1eeLrDfs9"
      },
      "outputs": [],
      "source": [
        "# Cargamos los archivos parquet\n",
        "def read_parquet_files(parquet_files):\n",
        "    dataframes = {}\n",
        "    for name in parquet_files:\n",
        "        dataframes[name] = pd.read_parquet(f'data/processed/{name}.parquet', engine='pyarrow')\n",
        "    return dataframes\n",
        "\n",
        "parquet_files = ['pseudo-db1','pseudo-db2']\n",
        "dataframes = read_parquet_files(parquet_files)\n",
        "\n",
        "# Convertimos a df.\n",
        "df_pseudo_db1 = dataframes['pseudo-db1']\n",
        "df_pseudo_db2 = dataframes['pseudo-db2']"
      ]
    },
    {
      "cell_type": "markdown",
      "metadata": {
        "id": "ROFPPzUskDCZ"
      },
      "source": [
        "## 2 Endpoints"
      ]
    },
    {
      "cell_type": "markdown",
      "metadata": {
        "id": "4MBkJcN9kIsL"
      },
      "source": [
        "### 2.1 Endpoint 1"
      ]
    },
    {
      "cell_type": "markdown",
      "metadata": {
        "id": "IeiZl0XdQuP-"
      },
      "source": [
        "def **PlayTimeGenre( *`genero` : str* )**:\n",
        "    Retorna `año` con mas horas jugadas para el género dado.\n",
        "Ejemplo de retorno:\n",
        "\n",
        "``` js\n",
        "{\n",
        "   \"Año de lanzamiento con más horas jugadas para Género X\": 2013\n",
        "}\n",
        "```"
      ]
    },
    {
      "cell_type": "code",
      "execution_count": 3,
      "metadata": {
        "id": "TnRtcIyTFRyc"
      },
      "outputs": [],
      "source": [
        "def PlayTimeGenre(genre: str):\n",
        "  \"\"\"\n",
        "  Devuelve el año con más horas jugadas para un género dado.\n",
        "\n",
        "  Args:\n",
        "    genre: El género del juego.\n",
        "\n",
        "  Returns:\n",
        "    El año de lanzamiento con más horas jugadas para un género dado.\n",
        "    Ejemplo de retorno:\n",
        "        {\n",
        "          \"Año de lanzamiento con más horas jugadas para Género X\": 2013\n",
        "        }\n",
        "  \"\"\"\n",
        "\n",
        "  # Filtra el DataFrame por género\n",
        "  df_genre = df_pseudo_db1[df_pseudo_db1['genres'].str.contains(genre)]\n",
        "\n",
        "  # Agrupa por año y calcula la suma total de horas jugadas para cada año\n",
        "  playtime_by_year = df_genre.groupby('release_year')['playtime_forever'].sum()\n",
        "\n",
        "  # Encuentra el año con más horas jugadas\n",
        "  max_playtime_year = playtime_by_year.idxmax()\n",
        "  response = {f\"Año de lanzamiento con más horas jugadas para el género {genre}\" : max_playtime_year}\n",
        "\n",
        "  return response"
      ]
    },
    {
      "cell_type": "code",
      "execution_count": 6,
      "metadata": {
        "colab": {
          "base_uri": "https://localhost:8080/"
        },
        "id": "aoyqXAy3IZIw",
        "outputId": "53e69d96-e383-4845-dce6-11d278832c5c"
      },
      "outputs": [
        {
          "output_type": "execute_result",
          "data": {
            "text/plain": [
              "{'Año de lanzamiento con más horas jugadas para el género Casual': 2015}"
            ]
          },
          "metadata": {},
          "execution_count": 6
        }
      ],
      "source": [
        "PlayTimeGenre('Casual')"
      ]
    },
    {
      "cell_type": "markdown",
      "metadata": {
        "id": "loZ-T51ykRV6"
      },
      "source": [
        "### 2.2 Endpoint 2"
      ]
    },
    {
      "cell_type": "markdown",
      "metadata": {
        "id": "N2_GI187KOCp"
      },
      "source": [
        "+ def **UserForGenre( *`genero` : str* )**:\n",
        "    Debe devolver el usuario que acumula más horas jugadas para el género dado y una lista de la acumulación de horas jugadas por año.\n",
        "\n",
        "Ejemplo de retorno:\n",
        "```js\n",
        "{\n",
        "   \"Usuario con más horas jugadas para Género X\":\"us213ndjss09sdf\",\n",
        "   \"Horas jugadas\":[\n",
        "      {\n",
        "         \"Año\":2013,\n",
        "         \"Horas\":203\n",
        "      },\n",
        "      {\n",
        "         \"Año\":2012,\n",
        "         \"Horas\":100\n",
        "      },\n",
        "      {\n",
        "         \"Año\":2011,\n",
        "         \"Horas\":23\n",
        "      }\n",
        "   ]\n",
        "}\n",
        "```"
      ]
    },
    {
      "cell_type": "code",
      "execution_count": 7,
      "metadata": {
        "id": "rmCM-VZ9IZCL"
      },
      "outputs": [],
      "source": [
        "def UserForGenre(genre: str):\n",
        "  \"\"\"\n",
        "  Devuelve el usuario que acumula más horas jugadas para un género dado.\n",
        "\n",
        "  Args:\n",
        "    genre: El género del juego.\n",
        "\n",
        "  Returns:\n",
        "    El usuario con más horas jugadas y una lista de la acumulación de horas jugadas por año.\n",
        "    Ejemplo de retorno:\n",
        "        {\n",
        "          \"Usuario con más horas jugadas para Género X\":\"us213ndjss09sdf\",\n",
        "          \"Horas jugadas\":[\n",
        "              {\n",
        "                \"Año\":2013,\n",
        "                \"Horas\":203\n",
        "              },\n",
        "              {\n",
        "                \"Año\":2012,\n",
        "                \"Horas\":100\n",
        "              },\n",
        "              {\n",
        "                \"Año\":2011,\n",
        "                \"Horas\":23\n",
        "              }\n",
        "          ]\n",
        "        }\n",
        "    \"\"\"\n",
        "\n",
        "  # Filtra el DataFrame por género\n",
        "  df_genre = df_pseudo_db1[df_pseudo_db1[\"genres\"].str.contains(genre)]\n",
        "\n",
        "  # Agrupa por usuario y año, y calcula la suma total de horas jugadas para cada usuario y año\n",
        "  playtime_by_user_year = df_genre.groupby(['user_id', 'release_year'])['playtime_forever'].sum().reset_index()\n",
        "\n",
        "  # Encuentra el usuario con más horas jugadas\n",
        "  max_playtime_user = playtime_by_user_year.groupby('user_id')['playtime_forever'].sum().idxmax()\n",
        "\n",
        "  # Obtiene una lista de la acumulación de horas jugadas por año para el usuario con más horas jugadas\n",
        "  playtime_by_year = playtime_by_user_year[playtime_by_user_year['user_id'] == max_playtime_user][['release_year', 'playtime_forever']].rename(columns={'release_year': 'Año', 'playtime_forever': 'Horas'}).to_dict('records')\n",
        "\n",
        "  response = {f\"Usuario con más horas jugadas para el género {genre}\" : max_playtime_user, \"Horas jugadas\": playtime_by_year}\n",
        "\n",
        "  return response\n"
      ]
    },
    {
      "cell_type": "code",
      "execution_count": 9,
      "metadata": {
        "colab": {
          "base_uri": "https://localhost:8080/"
        },
        "id": "V7t-2PT6IY3N",
        "outputId": "52042e6f-b790-4d8e-dd4f-232948fc911d"
      },
      "outputs": [
        {
          "output_type": "execute_result",
          "data": {
            "text/plain": [
              "{'Usuario con más horas jugadas para el género Action': 'Sp3ctre',\n",
              " 'Horas jugadas': [{'Año': 1995, 'Horas': 3.616666555404663},\n",
              "  {'Año': 1997, 'Horas': 4.0333333015441895},\n",
              "  {'Año': 1999, 'Horas': 0.7333333492279053},\n",
              "  {'Año': 2000, 'Horas': 1177.4000244140625},\n",
              "  {'Año': 2001, 'Horas': 4.166666507720947},\n",
              "  {'Año': 2002, 'Horas': 3.9666666984558105},\n",
              "  {'Año': 2003, 'Horas': 129.06666564941406},\n",
              "  {'Año': 2004, 'Horas': 2123.5166015625},\n",
              "  {'Año': 2005, 'Horas': 355.6499938964844},\n",
              "  {'Año': 2006, 'Horas': 1504.2166748046875},\n",
              "  {'Año': 2007, 'Horas': 1879.9000244140625},\n",
              "  {'Año': 2008, 'Horas': 142.2166748046875},\n",
              "  {'Año': 2009, 'Horas': 1812.8499755859375},\n",
              "  {'Año': 2010, 'Horas': 1379.433349609375},\n",
              "  {'Año': 2011, 'Horas': 2590.9833984375},\n",
              "  {'Año': 2012, 'Horas': 6403.96630859375},\n",
              "  {'Año': 2013, 'Horas': 2035.9666748046875},\n",
              "  {'Año': 2014, 'Horas': 2214.39990234375},\n",
              "  {'Año': 2015, 'Horas': 6571.89990234375},\n",
              "  {'Año': 2016, 'Horas': 503.25},\n",
              "  {'Año': 2017, 'Horas': 722.11669921875}]}"
            ]
          },
          "metadata": {},
          "execution_count": 9
        }
      ],
      "source": [
        "UserForGenre('Action')"
      ]
    },
    {
      "cell_type": "markdown",
      "metadata": {
        "id": "x2zFcxAYkYtI"
      },
      "source": [
        "### 2.3 Endpoint 3\n"
      ]
    },
    {
      "cell_type": "markdown",
      "metadata": {
        "id": "-hX3X1F0RV8g"
      },
      "source": [
        "+ def **UsersRecommend( *`año` : int* )**:\n",
        "   Devuelve el top 3 de juegos MÁS recomendados por usuarios para el año dado. (reviews.recommend = True y comentarios positivos/neutrales)\n",
        "  \n",
        "\n",
        "Ejemplo de retorno:\n",
        "```js\n",
        "[\n",
        "   {\n",
        "      \"Puesto 1\":\"X\"\n",
        "   },\n",
        "   {\n",
        "      \"Puesto 2\":\"Y\"\n",
        "   },\n",
        "   {\n",
        "      \"Puesto 3\":\"Z\"\n",
        "   }\n",
        "]\n",
        "```\n"
      ]
    },
    {
      "cell_type": "code",
      "source": [
        "def UsersRecommend(year: int):\n",
        "    \"\"\"\n",
        "    Devuelve el top 3 de juegos MÁS recomendados por usuarios para el año dado.\n",
        "    (reviews.recommend = True y comentarios positivos/neutrales)\n",
        "\n",
        "    Args:\n",
        "      year: El año a filtrar.\n",
        "\n",
        "    Returns:\n",
        "      El top 3 de juegos recomendados.\n",
        "      Ejemplo de retorno:\n",
        "          [\n",
        "            {\n",
        "                \"Puesto 1\":\"X\"\n",
        "            },\n",
        "            {\n",
        "                \"Puesto 2\":\"Y\"\n",
        "            },\n",
        "            {\n",
        "                \"Puesto 3\":\"Z\"\n",
        "            }\n",
        "          ]\n",
        "    \"\"\"\n",
        "\n",
        "    # Filtra el DataFrame por año y recomendación\n",
        "    df_year = df_pseudo_db2[(df_pseudo_db2['posted_year'] == year) & (df_pseudo_db2['recommend'] == True) & (df_pseudo_db2['sentiment_analysis'] > 1)]\n",
        "\n",
        "    # Agrupa por juego y cuenta el número de recomendaciones para cada juego\n",
        "    recommendations = df_year.groupby('item_name').size()\n",
        "\n",
        "    # Ordena los juegos en función del número de recomendaciones y toma el top 3\n",
        "    top_games = recommendations.sort_values(ascending=False).head(3)\n",
        "\n",
        "    response = [{\"Puesto {}\".format(i+1): game} for i, game in enumerate(top_games.index)]\n",
        "\n",
        "    return response"
      ],
      "metadata": {
        "id": "6s_PTaTlylKw"
      },
      "execution_count": 10,
      "outputs": []
    },
    {
      "cell_type": "code",
      "source": [
        "UsersRecommend(2013)"
      ],
      "metadata": {
        "id": "2FeX3YVMy35R",
        "outputId": "5fe87647-d993-4392-df2e-861a0e82a8e2",
        "colab": {
          "base_uri": "https://localhost:8080/"
        }
      },
      "execution_count": 25,
      "outputs": [
        {
          "output_type": "execute_result",
          "data": {
            "text/plain": [
              "[{'Puesto 1': 'Team Fortress 2'},\n",
              " {'Puesto 2': \"Garry's Mod\"},\n",
              " {'Puesto 3': 'Dota 2'}]"
            ]
          },
          "metadata": {},
          "execution_count": 25
        }
      ]
    },
    {
      "cell_type": "markdown",
      "metadata": {
        "id": "tTGXo45Okazk"
      },
      "source": [
        "### 2.4 Endpoint 4"
      ]
    },
    {
      "cell_type": "markdown",
      "metadata": {
        "id": "cLL5TAo3Kwq1"
      },
      "source": [
        "+ def **UsersWorstDeveloper( *`año` : int* )**:\n",
        "   Devuelve el top 3 de desarrolladoras con juegos MENOS recomendados por usuarios para el año dado. (reviews.recommend = False y comentarios negativos)\n",
        "  \n",
        "Ejemplo de retorno:\n",
        "```js\n",
        "[\n",
        "   {\n",
        "      \"Puesto 1\":\"X\"\n",
        "   },\n",
        "   {\n",
        "      \"Puesto 2\":\"Y\"\n",
        "   },\n",
        "   {\n",
        "      \"Puesto 3\":\"Z\"\n",
        "   }\n",
        "]\n",
        "```"
      ]
    },
    {
      "cell_type": "code",
      "execution_count": 28,
      "metadata": {
        "id": "Su-4MOpkfmk4"
      },
      "outputs": [],
      "source": [
        "def UsersWorstDeveloper(year: int):\n",
        "    \"\"\"\n",
        "    Devuelve el top 3 de desarrolladoras con juegos MENOS recomendados por usuarios para el año dado. (reviews.recommend = False y comentarios negativos)\n",
        "\n",
        "    Args:\n",
        "      year: El año a filtrar.\n",
        "\n",
        "    Returns:\n",
        "      El top 3 de desarrolladoras con juegos MENOS recomendados\n",
        "      Ejemplo de retorno:\n",
        "          [\n",
        "            {\n",
        "                \"Puesto 1\":\"X\"\n",
        "            },\n",
        "            {\n",
        "                \"Puesto 2\":\"Y\"\n",
        "            },\n",
        "            {\n",
        "                \"Puesto 3\":\"Z\"\n",
        "            }\n",
        "          ]\n",
        "    \"\"\"\n",
        "\n",
        "    # Filtra el DataFrame por año y no recomendación\n",
        "    df_year = df_pseudo_db2[(df_pseudo_db2['posted_year'] == year) & (df_pseudo_db2['recommend'] == False) & (df_pseudo_db2['sentiment_analysis'] == 0)]\n",
        "\n",
        "    # Agrupa por juego y cuenta el número de no recomendaciones para cada juego\n",
        "    not_recommendations = df_year.groupby('developer').size()\n",
        "\n",
        "    # Ordena los juegos en función del número de no recomendaciones y toma el top 3\n",
        "    top_games = not_recommendations.sort_values(ascending=False).head(3)\n",
        "\n",
        "    response = [{\"Puesto {}\".format(i+1): game} for i, game in enumerate(top_games.index)]\n",
        "\n",
        "    return response\n"
      ]
    },
    {
      "cell_type": "code",
      "execution_count": 11,
      "metadata": {
        "colab": {
          "base_uri": "https://localhost:8080/"
        },
        "id": "h6AFJcRzIYlI",
        "outputId": "ed1ee6d9-9af1-4adc-d0fd-4213ea7800e4"
      },
      "outputs": [
        {
          "output_type": "execute_result",
          "data": {
            "text/plain": [
              "[{'Puesto 1': 'Valve'},\n",
              " {'Puesto 2': 'Bohemia Interactive'},\n",
              " {'Puesto 3': 'Facepunch Studios'}]"
            ]
          },
          "metadata": {},
          "execution_count": 11
        }
      ],
      "source": [
        "UsersWorstDeveloper(2014)"
      ]
    },
    {
      "cell_type": "markdown",
      "metadata": {
        "id": "OFBIbcotkcGl"
      },
      "source": [
        "### 2.5 Endpoint 5"
      ]
    },
    {
      "cell_type": "markdown",
      "metadata": {
        "id": "HQwz5QUvh1WA"
      },
      "source": [
        "def **sentiment_analysis( *`empresa desarrolladora` : str* )**:\n",
        "    Según la empresa desarrolladora, se devuelve un diccionario con el nombre de la desarrolladora como llave y una lista con la cantidad total\n",
        "    de registros de reseñas de usuarios que se encuentren categorizados con un análisis de sentimiento como valor.\n",
        "\n",
        "Ejemplo de retorno:\n",
        "```js\n",
        "{\n",
        "   \"Valve\":[\n",
        "      {\n",
        "         \"Negative\":1352\n",
        "      },\n",
        "      {\n",
        "         \"Neutral\":2202\n",
        "      },\n",
        "      {\n",
        "         \"Positive\":4840\n",
        "      }\n",
        "   ]\n",
        "}\n",
        "```\n"
      ]
    },
    {
      "cell_type": "code",
      "execution_count": 29,
      "metadata": {
        "id": "AdXg3cHuh0kt"
      },
      "outputs": [],
      "source": [
        "def sentiment_analysis(developer: str):\n",
        "\n",
        "    \"\"\"\n",
        "    Según la empresa desarrolladora, se devuelve un diccionario con el nombre de la desarrolladora como llave y una lista con la cantidad total de registros de reseñas de usuarios que se encuentren categorizados con un análisis de sentimiento como valor.\n",
        "\n",
        "    Args:\n",
        "      developer: La desarrolladora a filtrar.\n",
        "\n",
        "    Returns:\n",
        "      El análisis de sentimiento para la desarrolladora dada.\n",
        "      Ejemplo de retorno:\n",
        "          {\n",
        "            \"Valve\":[\n",
        "                {\n",
        "                  \"Negative\":1352\n",
        "                },\n",
        "                {\n",
        "                  \"Neutral\":2202\n",
        "                },\n",
        "                {\n",
        "                  \"Positive\":4840\n",
        "                }\n",
        "            ]\n",
        "          }\n",
        "    \"\"\"\n",
        "\n",
        "    # Filtramos el DataFrame por el nombre de la empresa desarrolladora\n",
        "    df_dev = df_pseudo_db2[df_pseudo_db2['developer'] == developer]\n",
        "\n",
        "     # Contamos el número de registros por cada categoría de sentimiento\n",
        "    sentiment_counts = df_dev['sentiment_analysis'].value_counts()\n",
        "    negative_reviews = sentiment_counts.get(0, 0)\n",
        "    neutral_reviews = sentiment_counts.get(1, 0)\n",
        "    positive_reviews = sentiment_counts.get(2, 0)\n",
        "\n",
        "    # Creamos el diccionario con el nombre de la empresa desarrolladora como llave y la lista con los conteos como valor\n",
        "    response = {\n",
        "        developer : [\n",
        "            {\"Negative\" : negative_reviews},\n",
        "            {\"Neutral\" : neutral_reviews},\n",
        "            {\"Positive\" : positive_reviews}\n",
        "        ]\n",
        "    }\n",
        "\n",
        "    return response"
      ]
    },
    {
      "cell_type": "code",
      "execution_count": 27,
      "metadata": {
        "colab": {
          "base_uri": "https://localhost:8080/"
        },
        "id": "6hP8YUPWiNIE",
        "outputId": "7218f94b-abf9-40c1-fc5d-9340809a5837"
      },
      "outputs": [
        {
          "output_type": "execute_result",
          "data": {
            "text/plain": [
              "{'Valve': [{'Negative': 1352}, {'Neutral': 2202}, {'Positive': 4840}]}"
            ]
          },
          "metadata": {},
          "execution_count": 27
        }
      ],
      "source": [
        "sentiment_analysis('Valve')"
      ]
    }
  ],
  "metadata": {
    "colab": {
      "provenance": [],
      "include_colab_link": true
    },
    "kernelspec": {
      "display_name": "Python 3",
      "name": "python3"
    },
    "language_info": {
      "name": "python"
    }
  },
  "nbformat": 4,
  "nbformat_minor": 0
}