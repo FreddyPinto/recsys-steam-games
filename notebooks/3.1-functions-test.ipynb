{
  "cells": [
    {
      "cell_type": "markdown",
      "metadata": {
        "colab_type": "text",
        "id": "view-in-github"
      },
      "source": [
        "<a href=\"https://colab.research.google.com/github/FreddyPinto/recsys-steam-games/blob/feature/notebooks/3.1-functions-test.ipynb\" target=\"_parent\"><img src=\"https://colab.research.google.com/assets/colab-badge.svg\" alt=\"Open In Colab\"/></a>\n"
      ]
    },
    {
      "cell_type": "markdown",
      "metadata": {
        "id": "1lXSwiQx3jCc"
      },
      "source": [
        "# Functions Test\n"
      ]
    },
    {
      "cell_type": "markdown",
      "metadata": {
        "id": "2qgeZ0h0BBn2"
      },
      "source": [
        "El objetivo de este notebook es crear las funciones para los endpoints que se consumirán en la API. Además, se realizarán pruebas para asegurar su funcionamiento adecuado utilizando los dataset creados específicamente para este fin.\n"
      ]
    },
    {
      "cell_type": "markdown",
      "metadata": {
        "id": "MAAHYNr13nLW"
      },
      "source": [
        "## 0 Configuraciones Globales e Importaciones\n"
      ]
    },
    {
      "cell_type": "markdown",
      "metadata": {
        "id": "minb4-nsBSdR"
      },
      "source": [
        "En esta sección, importamos todas las bibliotecas y/o modulos necesarios para nuestro proceso de feature engineering y establecemos configuraciones globales de ser requerido.\n"
      ]
    },
    {
      "cell_type": "code",
      "execution_count": 2,
      "metadata": {
        "colab": {
          "base_uri": "https://localhost:8080/"
        },
        "id": "SL5F1X0GETo0",
        "outputId": "89a89443-29cd-44de-c084-b943706edd2f"
      },
      "outputs": [
        {
          "name": "stdout",
          "output_type": "stream",
          "text": [
            "System version: 3.11.5 (tags/v3.11.5:cce6ba9, Aug 24 2023, 14:38:34) [MSC v.1936 64 bit (AMD64)]\n",
            "Pandas version: 2.1.3\n"
          ]
        }
      ],
      "source": [
        "import sys\n",
        "import pandas as pd\n",
        "\n",
        "print(f\"System version: {sys.version}\")\n",
        "print(f\"Pandas version: {pd.__version__}\")"
      ]
    },
    {
      "cell_type": "markdown",
      "metadata": {
        "id": "3735XSBx7a23"
      },
      "source": [
        "## 1 Extracción\n"
      ]
    },
    {
      "cell_type": "markdown",
      "metadata": {
        "id": "e2yZ74Q8Gpv6"
      },
      "source": [
        "En esta sección, extraemos los datos de los archivos `pseudo_db1` y `pseudo_db2` en formato parquet que serán utilizados como pseudo base de datos para los endpoints.\n"
      ]
    },
    {
      "cell_type": "markdown",
      "metadata": {
        "id": "OhTA5DDP79w6"
      },
      "source": [
        "### 1.1 Extracción de los datos\n"
      ]
    },
    {
      "cell_type": "markdown",
      "metadata": {
        "id": "f_oRjdvhtRF3"
      },
      "source": [
        "Creamos una función que lee cada archivo desde su directorio y lo carga a un DataFrame de `pandas`.\n"
      ]
    },
    {
      "cell_type": "code",
      "execution_count": 3,
      "metadata": {
        "id": "BiL1eeLrDfs9"
      },
      "outputs": [],
      "source": [
        "# Cargamos los archivos parquet\n",
        "def read_parquet_files(parquet_files):\n",
        "    dataframes = {}\n",
        "    for name in parquet_files:\n",
        "        dataframes[name] = pd.read_parquet(\n",
        "            f'../data/processed/{name}.parquet', engine='pyarrow')\n",
        "    return dataframes\n",
        "\n",
        "\n",
        "parquet_files = ['pseudo-db1', 'pseudo-db2', 'user_sim', 'items_sim', 'matrix']\n",
        "dataframes = read_parquet_files(parquet_files)\n",
        "\n",
        "# Convertimos a df.\n",
        "df_pseudo_db1 = dataframes['pseudo-db1']\n",
        "df_pseudo_db2 = dataframes['pseudo-db2']\n",
        "df_user_sim = dataframes['user_sim']\n",
        "df_item_sim = dataframes['items_sim']\n",
        "df_matrix = dataframes['matrix']"
      ]
    },
    {
      "cell_type": "markdown",
      "metadata": {
        "id": "ROFPPzUskDCZ"
      },
      "source": [
        "## 2 Endpoints\n"
      ]
    },
    {
      "cell_type": "markdown",
      "metadata": {
        "id": "4MBkJcN9kIsL"
      },
      "source": [
        "### 2.1 Endpoint 1\n"
      ]
    },
    {
      "cell_type": "markdown",
      "metadata": {
        "id": "IeiZl0XdQuP-"
      },
      "source": [
        "def **PlayTimeGenre( _`genero` : str_ )**:\n",
        "Retorna `año` con mas horas jugadas para el género dado.\n",
        "Ejemplo de retorno:\n",
        "\n",
        "```js\n",
        "{\n",
        "   \"Año de lanzamiento con más horas jugadas para Género X\": 2013\n",
        "}\n",
        "```\n"
      ]
    },
    {
      "cell_type": "code",
      "execution_count": 76,
      "metadata": {
        "id": "TnRtcIyTFRyc"
      },
      "outputs": [],
      "source": [
        "def PlayTimeGenre(genre: str):\n",
        "    \"\"\"\n",
        "    Devuelve el año con más horas jugadas para un género dado.\n",
        "\n",
        "    Args:\n",
        "        genre: El género del juego.\n",
        "\n",
        "    Returns:\n",
        "        El año de lanzamiento con más horas jugadas para un género dado.\n",
        "    Ejemplo de retorno:\n",
        "        {\n",
        "            \"Año de lanzamiento con más horas jugadas para Género X\": 2013\n",
        "        }\n",
        "    \"\"\"\n",
        "\n",
        "    # Verifica si el argumento es un str\n",
        "    if not isinstance(genre, str):\n",
        "        # Devuelve un mensaje de error\n",
        "        return f\"El género debe ser un string. Por favor, ingrese un género válido.\"\n",
        "\n",
        "    # Convierte el género a título o a mayúsculas según corresponda\n",
        "    if genre.upper() == \"RPG\":\n",
        "        genre = genre.upper()\n",
        "    else:\n",
        "        genre = genre.title()\n",
        "\n",
        "    # Verifica si el género existe\n",
        "    if genre not in df_pseudo_db1.columns:\n",
        "        # Devuelve un mensaje de error\n",
        "        return f\"Genre {genre} not found\"\n",
        "\n",
        "    # Filtra por género y resetea el índice para poder obtener el año de lanzamiento correcto\n",
        "    df_genre = df_pseudo_db1[genre].reset_index()\n",
        "\n",
        "    # Agrupa por año y calcula la suma total de horas jugadas para cada año\n",
        "    playtime_by_year = df_genre.groupby('release_year')[genre].sum()\n",
        "\n",
        "    # Encuentra el año con más horas jugadas\n",
        "    max_playtime_year = (playtime_by_year.idxmax())\n",
        "    response = {\n",
        "        f\"Año de lanzamiento con más horas jugadas para el género {genre}\": max_playtime_year}\n",
        "\n",
        "    return response"
      ]
    },
    {
      "cell_type": "code",
      "execution_count": 77,
      "metadata": {
        "colab": {
          "base_uri": "https://localhost:8080/"
        },
        "id": "PKvHEo_RfvVR",
        "outputId": "ec2894a3-d394-491e-982c-2211b363db80"
      },
      "outputs": [
        {
          "data": {
            "text/plain": [
              "{'Año de lanzamiento con más horas jugadas para el género Casual': 2015}"
            ]
          },
          "execution_count": 77,
          "metadata": {},
          "output_type": "execute_result"
        }
      ],
      "source": [
        "PlayTimeGenre('Casual')"
      ]
    },
    {
      "cell_type": "code",
      "execution_count": 81,
      "metadata": {
        "colab": {
          "base_uri": "https://localhost:8080/"
        },
        "id": "aoyqXAy3IZIw",
        "outputId": "f2dd2a33-40c3-4929-d571-06774b70663d"
      },
      "outputs": [
        {
          "data": {
            "text/plain": [
              "{'Año de lanzamiento con más horas jugadas para el género Action': 2012}"
            ]
          },
          "execution_count": 81,
          "metadata": {},
          "output_type": "execute_result"
        }
      ],
      "source": [
        "PlayTimeGenre('ActiOn')"
      ]
    },
    {
      "cell_type": "code",
      "execution_count": 78,
      "metadata": {
        "colab": {
          "base_uri": "https://localhost:8080/"
        },
        "id": "viovc2qmf0j-",
        "outputId": "ee0cad6b-d015-4d47-ffb2-1a3081f8cb98"
      },
      "outputs": [
        {
          "data": {
            "text/plain": [
              "'Genre Casuals not found'"
            ]
          },
          "execution_count": 78,
          "metadata": {},
          "output_type": "execute_result"
        }
      ],
      "source": [
        "PlayTimeGenre('CaSuals')"
      ]
    },
    {
      "cell_type": "code",
      "execution_count": 82,
      "metadata": {},
      "outputs": [
        {
          "data": {
            "text/plain": [
              "'El género debe ser un string. Por favor, ingrese un género válido.'"
            ]
          },
          "execution_count": 82,
          "metadata": {},
          "output_type": "execute_result"
        }
      ],
      "source": [
        "PlayTimeGenre(12)"
      ]
    },
    {
      "cell_type": "markdown",
      "metadata": {
        "id": "loZ-T51ykRV6"
      },
      "source": [
        "### 2.2 Endpoint 2\n"
      ]
    },
    {
      "cell_type": "markdown",
      "metadata": {
        "id": "N2_GI187KOCp"
      },
      "source": [
        "- def **UserForGenre( _`genero` : str_ )**:\n",
        "  Debe devolver el usuario que acumula más horas jugadas para el género dado y una lista de la acumulación de horas jugadas por año.\n",
        "\n",
        "Ejemplo de retorno:\n",
        "\n",
        "```js\n",
        "{\n",
        "   \"Usuario con más horas jugadas para Género X\":\"us213ndjss09sdf\",\n",
        "   \"Horas jugadas\":[\n",
        "      {\n",
        "         \"Año\":2013,\n",
        "         \"Horas\":203\n",
        "      },\n",
        "      {\n",
        "         \"Año\":2012,\n",
        "         \"Horas\":100\n",
        "      },\n",
        "      {\n",
        "         \"Año\":2011,\n",
        "         \"Horas\":23\n",
        "      }\n",
        "   ]\n",
        "}\n",
        "```\n"
      ]
    },
    {
      "cell_type": "code",
      "execution_count": 57,
      "metadata": {
        "id": "rmCM-VZ9IZCL"
      },
      "outputs": [],
      "source": [
        "def UserForGenre(genre: str):\n",
        "  \"\"\"\n",
        "  Devuelve el usuario que acumula más horas jugadas para un género dado.\n",
        "\n",
        "  Args:\n",
        "    genre: El género del juego.\n",
        "\n",
        "  Returns:\n",
        "    El usuario con más horas jugadas y una lista de la acumulación de horas jugadas por año.\n",
        "    Ejemplo de retorno:\n",
        "        {\n",
        "          \"Usuario con más horas jugadas para Género X\":\"us213ndjss09sdf\",\n",
        "          \"Horas jugadas\":[\n",
        "              {\n",
        "                \"Año\":2013,\n",
        "                \"Horas\":203\n",
        "              },\n",
        "              {\n",
        "                \"Año\":2012,\n",
        "                \"Horas\":100\n",
        "              },\n",
        "              {\n",
        "                \"Año\":2011,\n",
        "                \"Horas\":23\n",
        "              }\n",
        "          ]\n",
        "        }\n",
        "    \"\"\"\n",
        "  # Verificar si el argumento es un str\n",
        "  if not isinstance(genre, str):\n",
        "      # Devolver un mensaje de error\n",
        "      return f\"El argumento debe ser un str. Por favor, ingrese un género válido.\"\n",
        "  \n",
        "  # Convertir el argumento a título o a mayúsculas según corresponda\n",
        "  if genre.upper() ==\"RPG\":\n",
        "      genre = genre.upper()\n",
        "  else:\n",
        "      genre = genre.title()\n",
        "\n",
        "  if genre not in df_pseudo_db1.columns:\n",
        "        # Devolver un mensaje de error\n",
        "        return f\"Genre {genre} not found\"\n",
        "  \n",
        "  df_genre = df_pseudo_db1[genre].reset_index()\n",
        "  user_max_hours = df_genre.groupby('user_id')[genre].sum().idxmax()\n",
        "  hours_by_year = df_genre[df_genre['user_id'] == user_max_hours].groupby('release_year')[genre].sum().reset_index()\n",
        "  hours_by_year.columns = ['Año', 'Horas']\n",
        "  hours_by_year = hours_by_year[hours_by_year['Horas'] > 0]\n",
        "  hours_by_year['Horas'] = hours_by_year['Horas'].round().astype(int)\n",
        "\n",
        "  response = {\n",
        "      f\"Usuario con más horas jugadas para Género {genre} \" : user_max_hours,\n",
        "      \"Horas jugadas\": hours_by_year.to_dict('records')\n",
        "  }\n",
        "\n",
        "  return response\n"
      ]
    },
    {
      "cell_type": "code",
      "execution_count": 62,
      "metadata": {
        "colab": {
          "base_uri": "https://localhost:8080/"
        },
        "id": "V7t-2PT6IY3N",
        "outputId": "f4655a02-0866-4f8b-b07b-c751e83a15fd"
      },
      "outputs": [
        {
          "data": {
            "text/plain": [
              "{'Usuario con más horas jugadas para Género RPG ': 'shinomegami',\n",
              " 'Horas jugadas': [{'Año': 1999, 'Horas': 6},\n",
              "  {'Año': 2000, 'Horas': 140},\n",
              "  {'Año': 2003, 'Horas': 8849},\n",
              "  {'Año': 2004, 'Horas': 30},\n",
              "  {'Año': 2005, 'Horas': 3},\n",
              "  {'Año': 2006, 'Horas': 34},\n",
              "  {'Año': 2007, 'Horas': 2278},\n",
              "  {'Año': 2008, 'Horas': 22},\n",
              "  {'Año': 2009, 'Horas': 23},\n",
              "  {'Año': 2010, 'Horas': 690},\n",
              "  {'Año': 2011, 'Horas': 351},\n",
              "  {'Año': 2012, 'Horas': 459},\n",
              "  {'Año': 2013, 'Horas': 2108},\n",
              "  {'Año': 2014, 'Horas': 2456},\n",
              "  {'Año': 2015, 'Horas': 2132},\n",
              "  {'Año': 2016, 'Horas': 259}]}"
            ]
          },
          "execution_count": 62,
          "metadata": {},
          "output_type": "execute_result"
        }
      ],
      "source": [
        "UserForGenre('rPg')"
      ]
    },
    {
      "cell_type": "code",
      "execution_count": 59,
      "metadata": {
        "colab": {
          "base_uri": "https://localhost:8080/"
        },
        "id": "R4hxlgKehjiF",
        "outputId": "ab67c96a-095e-407b-ebfa-dfe7f61d5862"
      },
      "outputs": [
        {
          "data": {
            "text/plain": [
              "{'Usuario con más horas jugadas para Género Action ': 'Sp3ctre',\n",
              " 'Horas jugadas': [{'Año': 1995, 'Horas': 4},\n",
              "  {'Año': 1997, 'Horas': 4},\n",
              "  {'Año': 1999, 'Horas': 1},\n",
              "  {'Año': 2000, 'Horas': 1177},\n",
              "  {'Año': 2001, 'Horas': 4},\n",
              "  {'Año': 2002, 'Horas': 4},\n",
              "  {'Año': 2003, 'Horas': 129},\n",
              "  {'Año': 2004, 'Horas': 2124},\n",
              "  {'Año': 2005, 'Horas': 356},\n",
              "  {'Año': 2006, 'Horas': 1504},\n",
              "  {'Año': 2007, 'Horas': 1880},\n",
              "  {'Año': 2008, 'Horas': 142},\n",
              "  {'Año': 2009, 'Horas': 1813},\n",
              "  {'Año': 2010, 'Horas': 1379},\n",
              "  {'Año': 2011, 'Horas': 2591},\n",
              "  {'Año': 2012, 'Horas': 6404},\n",
              "  {'Año': 2013, 'Horas': 2036},\n",
              "  {'Año': 2014, 'Horas': 2214},\n",
              "  {'Año': 2015, 'Horas': 6572},\n",
              "  {'Año': 2016, 'Horas': 503},\n",
              "  {'Año': 2017, 'Horas': 722}]}"
            ]
          },
          "execution_count": 59,
          "metadata": {},
          "output_type": "execute_result"
        }
      ],
      "source": [
        "UserForGenre('actiOn')"
      ]
    },
    {
      "cell_type": "code",
      "execution_count": 60,
      "metadata": {
        "colab": {
          "base_uri": "https://localhost:8080/"
        },
        "id": "Ncq5xQs8hsBj",
        "outputId": "a1f4a6c6-2f87-431c-dd03-3d0abad4d0b7"
      },
      "outputs": [
        {
          "data": {
            "text/plain": [
              "'El género Ajjioni no está en el dataframe. Por favor, ingrese un género válido.'"
            ]
          },
          "execution_count": 60,
          "metadata": {},
          "output_type": "execute_result"
        }
      ],
      "source": [
        "UserForGenre('Ajjioni')"
      ]
    },
    {
      "cell_type": "code",
      "execution_count": 61,
      "metadata": {},
      "outputs": [
        {
          "data": {
            "text/plain": [
              "{'El argumento debe ser un str. Por favor, ingrese un género válido.'}"
            ]
          },
          "execution_count": 61,
          "metadata": {},
          "output_type": "execute_result"
        }
      ],
      "source": [
        "UserForGenre(123)"
      ]
    },
    {
      "cell_type": "markdown",
      "metadata": {
        "id": "x2zFcxAYkYtI"
      },
      "source": [
        "### 2.3 Endpoint 3\n"
      ]
    },
    {
      "cell_type": "markdown",
      "metadata": {
        "id": "-hX3X1F0RV8g"
      },
      "source": [
        "- def **UsersRecommend( _`año` : int_ )**:\n",
        "  Devuelve el top 3 de juegos MÁS recomendados por usuarios para el año dado. (reviews.recommend = True y comentarios positivos/neutrales)\n",
        "\n",
        "Ejemplo de retorno:\n",
        "\n",
        "```js\n",
        "[\n",
        "  {\n",
        "    \"Puesto 1\": \"X\",\n",
        "  },\n",
        "  {\n",
        "    \"Puesto 2\": \"Y\",\n",
        "  },\n",
        "  {\n",
        "    \"Puesto 3\": \"Z\",\n",
        "  },\n",
        "];\n",
        "```\n"
      ]
    },
    {
      "cell_type": "code",
      "execution_count": 97,
      "metadata": {
        "id": "6s_PTaTlylKw"
      },
      "outputs": [],
      "source": [
        "def UsersRecommend(year: int):\n",
        "    \"\"\"\n",
        "    Devuelve el top 3 de juegos MÁS recomendados por usuarios para el año dado.\n",
        "    (reviews.recommend = True y comentarios positivos/neutrales)\n",
        "\n",
        "    Args:\n",
        "      year: El año a filtrar.\n",
        "\n",
        "    Returns:\n",
        "      El top 3 de juegos recomendados.\n",
        "      Ejemplo de retorno:\n",
        "          [\n",
        "            {\n",
        "                \"Puesto 1\":\"X\"\n",
        "            },\n",
        "            {\n",
        "                \"Puesto 2\":\"Y\"\n",
        "            },\n",
        "            {\n",
        "                \"Puesto 3\":\"Z\"\n",
        "            }\n",
        "          ]\n",
        "    \"\"\"\n",
        "    # Comprueba si el año se encuentra en el DataFrame\n",
        "    if ~df_pseudo_db2['posted_year'].isin([year]).any():\n",
        "        print(f\"Year {year} not found\")\n",
        "        return None\n",
        "\n",
        "    # Filtra el DataFrame por año y recomendación\n",
        "    df_year = df_pseudo_db2[(df_pseudo_db2['posted_year'] == year) & (\n",
        "        df_pseudo_db2['recommend'] == True) & (df_pseudo_db2['sentiment_analysis'] > 1)]\n",
        "\n",
        "    # Agrupa por juego y cuenta el número de recomendaciones para cada juego\n",
        "    recommendations = df_year.groupby('item_name').size()\n",
        "\n",
        "    # Ordena los juegos en función del número de recomendaciones y toma el top 3\n",
        "    top_games = recommendations.sort_values(ascending=False).head(3)\n",
        "\n",
        "    response = [{\"Puesto {}\".format(i+1): game}\n",
        "                for i, game in enumerate(top_games.index)]\n",
        "\n",
        "    return response"
      ]
    },
    {
      "cell_type": "code",
      "execution_count": 105,
      "metadata": {
        "colab": {
          "base_uri": "https://localhost:8080/"
        },
        "id": "2FeX3YVMy35R",
        "outputId": "d9133297-b8a1-414c-8ae9-d5a3d321083f"
      },
      "outputs": [
        {
          "name": "stdout",
          "output_type": "stream",
          "text": [
            "Year 2021 not found\n"
          ]
        }
      ],
      "source": [
        "UsersRecommend(2021)"
      ]
    },
    {
      "cell_type": "code",
      "execution_count": 99,
      "metadata": {
        "colab": {
          "base_uri": "https://localhost:8080/"
        },
        "id": "xuRcZGADjYhy",
        "outputId": "658d1968-5512-4eaf-e454-82288969f81e"
      },
      "outputs": [
        {
          "data": {
            "text/plain": [
              "[{'Puesto 1': 'Team Fortress 2'},\n",
              " {'Puesto 2': 'Killing Floor'},\n",
              " {'Puesto 3': 'Alien Swarm'}]"
            ]
          },
          "execution_count": 99,
          "metadata": {},
          "output_type": "execute_result"
        }
      ],
      "source": [
        "UsersRecommend(2010)"
      ]
    },
    {
      "cell_type": "markdown",
      "metadata": {
        "id": "tTGXo45Okazk"
      },
      "source": [
        "### 2.4 Endpoint 4\n"
      ]
    },
    {
      "cell_type": "markdown",
      "metadata": {
        "id": "cLL5TAo3Kwq1"
      },
      "source": [
        "- def **UsersWorstDeveloper( _`año` : int_ )**:\n",
        "  Devuelve el top 3 de desarrolladoras con juegos MENOS recomendados por usuarios para el año dado. (reviews.recommend = False y comentarios negativos)\n",
        "\n",
        "Ejemplo de retorno:\n",
        "\n",
        "```js\n",
        "[\n",
        "  {\n",
        "    \"Puesto 1\": \"X\",\n",
        "  },\n",
        "  {\n",
        "    \"Puesto 2\": \"Y\",\n",
        "  },\n",
        "  {\n",
        "    \"Puesto 3\": \"Z\",\n",
        "  },\n",
        "];\n",
        "```\n"
      ]
    },
    {
      "cell_type": "code",
      "execution_count": 106,
      "metadata": {
        "id": "Su-4MOpkfmk4"
      },
      "outputs": [],
      "source": [
        "def UsersWorstDeveloper(year: int):\n",
        "    \"\"\"\n",
        "    Devuelve el top 3 de desarrolladoras con juegos MENOS recomendados por usuarios para el año dado. (reviews.recommend = False y comentarios negativos)\n",
        "\n",
        "    Args:\n",
        "      year: El año a filtrar.\n",
        "\n",
        "    Returns:\n",
        "      El top 3 de desarrolladoras con juegos MENOS recomendados\n",
        "      Ejemplo de retorno:\n",
        "          [\n",
        "            {\n",
        "                \"Puesto 1\":\"X\"\n",
        "            },\n",
        "            {\n",
        "                \"Puesto 2\":\"Y\"\n",
        "            },\n",
        "            {\n",
        "                \"Puesto 3\":\"Z\"\n",
        "            }\n",
        "          ]\n",
        "    \"\"\"\n",
        "    # Comprueba si el año se encuentra en el DataFrame\n",
        "    if ~df_pseudo_db2['posted_year'].isin([year]).any():\n",
        "        print(f\"Year {year} not found\")\n",
        "        return None\n",
        "\n",
        "    # Filtra el DataFrame por año y no recomendación\n",
        "    df_year = df_pseudo_db2[(df_pseudo_db2['posted_year'] == year) & (\n",
        "        df_pseudo_db2['recommend'] == False) & (df_pseudo_db2['sentiment_analysis'] == 0)]\n",
        "\n",
        "    # Agrupa por juego y cuenta el número de no recomendaciones para cada juego\n",
        "    not_recommendations = df_year.groupby('developer').size()\n",
        "\n",
        "    # Ordena los juegos en función del número de no recomendaciones y toma el top 3\n",
        "    top_games = not_recommendations.sort_values(ascending=False).head(3)\n",
        "\n",
        "    response = [{\"Puesto {}\".format(i+1): game}\n",
        "                for i, game in enumerate(top_games.index)]\n",
        "\n",
        "    return response"
      ]
    },
    {
      "cell_type": "code",
      "execution_count": 107,
      "metadata": {
        "colab": {
          "base_uri": "https://localhost:8080/"
        },
        "id": "LfiI20MVkCwH",
        "outputId": "49bbf03e-9639-44b4-c838-1445ce60b985"
      },
      "outputs": [
        {
          "name": "stdout",
          "output_type": "stream",
          "text": [
            "Year 2025 not found\n"
          ]
        }
      ],
      "source": [
        "UsersWorstDeveloper(2025)"
      ]
    },
    {
      "cell_type": "code",
      "execution_count": 11,
      "metadata": {
        "colab": {
          "base_uri": "https://localhost:8080/"
        },
        "id": "h6AFJcRzIYlI",
        "outputId": "ed1ee6d9-9af1-4adc-d0fd-4213ea7800e4"
      },
      "outputs": [
        {
          "data": {
            "text/plain": [
              "[{'Puesto 1': 'Valve'},\n",
              " {'Puesto 2': 'Bohemia Interactive'},\n",
              " {'Puesto 3': 'Facepunch Studios'}]"
            ]
          },
          "execution_count": 11,
          "metadata": {},
          "output_type": "execute_result"
        }
      ],
      "source": [
        "UsersWorstDeveloper(2014)"
      ]
    },
    {
      "cell_type": "markdown",
      "metadata": {
        "id": "OFBIbcotkcGl"
      },
      "source": [
        "### 2.5 Endpoint 5\n"
      ]
    },
    {
      "cell_type": "markdown",
      "metadata": {
        "id": "HQwz5QUvh1WA"
      },
      "source": [
        "def **sentiment_analysis( _`empresa desarrolladora` : str_ )**:\n",
        "Según la empresa desarrolladora, se devuelve un diccionario con el nombre de la desarrolladora como llave y una lista con la cantidad total\n",
        "de registros de reseñas de usuarios que se encuentren categorizados con un análisis de sentimiento como valor.\n",
        "\n",
        "Ejemplo de retorno:\n",
        "\n",
        "```js\n",
        "{\n",
        "   \"Valve\":[\n",
        "      {\n",
        "         \"Negative\":1352\n",
        "      },\n",
        "      {\n",
        "         \"Neutral\":2202\n",
        "      },\n",
        "      {\n",
        "         \"Positive\":4840\n",
        "      }\n",
        "   ]\n",
        "}\n",
        "```\n"
      ]
    },
    {
      "cell_type": "code",
      "execution_count": 67,
      "metadata": {
        "id": "AdXg3cHuh0kt"
      },
      "outputs": [],
      "source": [
        "def sentiment_analysis(developer: str):\n",
        "    \"\"\"\n",
        "    Según la empresa desarrolladora, se devuelve un diccionario con el nombre de la desarrolladora como llave y una lista con la cantidad total de registros de reseñas de usuarios que se encuentren categorizados con un análisis de sentimiento como valor.\n",
        "\n",
        "    Args:\n",
        "      developer: La desarrolladora a filtrar.\n",
        "\n",
        "    Returns:\n",
        "      El análisis de sentimiento para la desarrolladora dada.\n",
        "      Ejemplo de retorno:\n",
        "          {\n",
        "            \"Valve\":[\n",
        "                {\n",
        "                  \"Negative\":1352\n",
        "                },\n",
        "                {\n",
        "                  \"Neutral\":2202\n",
        "                },\n",
        "                {\n",
        "                  \"Positive\":4840\n",
        "                }\n",
        "            ]\n",
        "          }\n",
        "    \"\"\"\n",
        "    # Convierte el nombre de la desarrolladora a minúsculas\n",
        "    developer_lower = developer.lower()\n",
        "\n",
        "    # Filtra el DataFrame por el nombre de la empresa desarrolladora\n",
        "    df_dev = df_pseudo_db2[df_pseudo_db2[\"developer\"].str.lower()\n",
        "                           == developer_lower]\n",
        "\n",
        "    # Verifica si el desarrollador ingresado existe en el DataFrame\n",
        "    if df_dev.empty:\n",
        "        print(f\"Developer {developer} not found\")\n",
        "        return None\n",
        "\n",
        "    # Contamos el número de registros por cada categoría de sentimiento\n",
        "    sentiment_counts = df_dev['sentiment_analysis'].value_counts()\n",
        "    negative_reviews = sentiment_counts.get(0, 0)\n",
        "    neutral_reviews = sentiment_counts.get(1, 0)\n",
        "    positive_reviews = sentiment_counts.get(2, 0)\n",
        "\n",
        "    # Crear el diccionario con el nombre de la empresa desarrolladora como llave y la lista con los conteos como valor\n",
        "    response = {\n",
        "        developer_lower.capitalize(): [\n",
        "            {\"Negative\": negative_reviews},\n",
        "            {\"Neutral\": neutral_reviews},\n",
        "            {\"Positive\": positive_reviews}\n",
        "        ]\n",
        "    }\n",
        "\n",
        "    return response"
      ]
    },
    {
      "cell_type": "code",
      "execution_count": 68,
      "metadata": {
        "colab": {
          "base_uri": "https://localhost:8080/"
        },
        "id": "6hP8YUPWiNIE",
        "outputId": "d68c921c-ea37-462a-e3b1-0ec0c6564061"
      },
      "outputs": [
        {
          "data": {
            "text/plain": [
              "{'Valve': [{'Negative': 1352}, {'Neutral': 2202}, {'Positive': 4840}]}"
            ]
          },
          "execution_count": 68,
          "metadata": {},
          "output_type": "execute_result"
        }
      ],
      "source": [
        "sentiment_analysis('Valve')"
      ]
    },
    {
      "cell_type": "code",
      "execution_count": 69,
      "metadata": {
        "colab": {
          "base_uri": "https://localhost:8080/"
        },
        "id": "ORGgdXQkcnb1",
        "outputId": "860ed2f1-555c-4662-d00b-488957c168ee"
      },
      "outputs": [
        {
          "data": {
            "text/plain": [
              "{'Valve': [{'Negative': 1352}, {'Neutral': 2202}, {'Positive': 4840}]}"
            ]
          },
          "execution_count": 69,
          "metadata": {},
          "output_type": "execute_result"
        }
      ],
      "source": [
        "sentiment_analysis('VAlVe')"
      ]
    },
    {
      "cell_type": "code",
      "execution_count": 71,
      "metadata": {
        "colab": {
          "base_uri": "https://localhost:8080/"
        },
        "id": "SJcis0GscoPv",
        "outputId": "84a4239b-0ed4-4f11-9243-7191dbdcc915"
      },
      "outputs": [
        {
          "name": "stdout",
          "output_type": "stream",
          "text": [
            "Developer V54aDSA not found\n"
          ]
        }
      ],
      "source": [
        "sentiment_analysis('V54aDSA')"
      ]
    },
    {
      "cell_type": "markdown",
      "metadata": {},
      "source": [
        "## 3 Recommendations"
      ]
    },
    {
      "cell_type": "markdown",
      "metadata": {},
      "source": [
        "### 3.1 Item-Item"
      ]
    },
    {
      "cell_type": "markdown",
      "metadata": {},
      "source": [
        "+ def **game_recommender( *`item_name`* )**:\n",
        "    Ingresando el nombre de un juego, deberíamos recibir una lista con 5 juegos recomendados similares al ingresado."
      ]
    },
    {
      "cell_type": "code",
      "execution_count": 5,
      "metadata": {},
      "outputs": [],
      "source": [
        "def game_recommender(item_name: str):\n",
        "    '''\n",
        "    Muestra una lista de juegos similares a un juego dado.\n",
        "\n",
        "    Args:\n",
        "        item_name: El nombre del juego para el cual se desean encontrar juegos similares.\n",
        "\n",
        "    Returns:\n",
        "        Los 5 juegos recomendados.\n",
        "\n",
        "    '''\n",
        "    # Verificamos si el juego ingresado está en el dataframe\n",
        "    if item_name not in df_item_sim.index:\n",
        "      return f\"Game {item_name} not found\"\n",
        "\n",
        "    # Buscamos la fila del dataframe que corresponde al juego ingresado\n",
        "    row = df_item_sim.loc[item_name]\n",
        "\n",
        "    # Ordenamos la fila de mayor a menor similitud\n",
        "    row_sorted = row.sort_values(ascending=False)\n",
        "\n",
        "    # Obtenemos los nombres de los 5 juegos más similares, excluyendo el mismo juego\n",
        "    similar_games = row_sorted.index[1:6]\n",
        "    \n",
        "    # Creamos un diccionario vacío para guardar los juegos y sus índices\n",
        "    recommendations = {}\n",
        "\n",
        "    for i, juego in enumerate(similar_games, start=1):\n",
        "      # Asignamos el índice y el nombre del juego al diccionario\n",
        "      recommendations[i] = juego\n",
        "    return recommendations"
      ]
    },
    {
      "cell_type": "code",
      "execution_count": 6,
      "metadata": {},
      "outputs": [
        {
          "data": {
            "text/plain": [
              "'Game Reign  not found'"
            ]
          },
          "execution_count": 6,
          "metadata": {},
          "output_type": "execute_result"
        }
      ],
      "source": [
        "game_recommender('Reign ')"
      ]
    },
    {
      "cell_type": "markdown",
      "metadata": {},
      "source": [
        "### 3.2 User-Item"
      ]
    },
    {
      "cell_type": "markdown",
      "metadata": {},
      "source": [
        "+ def **recomendacion_usuario( *`user_id`* )**:\n",
        "    Ingresando el id de un usuario, deberíamos recibir una lista con 5 juegos recomendados para dicho usuario."
      ]
    }
  ],
  "metadata": {
    "colab": {
      "include_colab_link": true,
      "provenance": []
    },
    "kernelspec": {
      "display_name": "Python 3",
      "name": "python3"
    },
    "language_info": {
      "codemirror_mode": {
        "name": "ipython",
        "version": 3
      },
      "file_extension": ".py",
      "mimetype": "text/x-python",
      "name": "python",
      "nbconvert_exporter": "python",
      "pygments_lexer": "ipython3",
      "version": "3.11.5"
    }
  },
  "nbformat": 4,
  "nbformat_minor": 0
}
