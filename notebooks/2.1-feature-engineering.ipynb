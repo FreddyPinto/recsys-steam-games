{
  "cells": [
    {
      "cell_type": "markdown",
      "metadata": {
        "colab_type": "text",
        "id": "view-in-github"
      },
      "source": [
        "<a href=\"https://colab.research.google.com/github/FreddyPinto/recsys-steam-games/blob/feature/notebooks/2.1-feature-engineering.ipynb\" target=\"_parent\"><img src=\"https://colab.research.google.com/assets/colab-badge.svg\" alt=\"Open In Colab\"/></a>"
      ]
    },
    {
      "cell_type": "markdown",
      "metadata": {
        "id": "1lXSwiQx3jCc"
      },
      "source": [
        "# Feature Engineering"
      ]
    },
    {
      "cell_type": "markdown",
      "metadata": {
        "id": "2qgeZ0h0BBn2"
      },
      "source": [
        "El objetivo de este notebook es enriquecer el dataset `user_reviews` con una nueva columna llamada `sentiment_analysis`. Esta columna contendrá el resultado de aplicar un análisis de sentimiento con NLP a las reseñas de los juegos escritas por los usuarios. De esta manera, podremos explorar la opinión de los usuarios sobre los diferentes juegos. Además, vamos a hacer un merge entre los distintos datasets para obtener una base de datos única y más eficiente para cada consulta, que nos permitirá optimizar el rendimiento de la API y reducir el tamaño de nuestra base de datos."
      ]
    },
    {
      "cell_type": "markdown",
      "metadata": {
        "id": "MAAHYNr13nLW"
      },
      "source": [
        "## 0 Configuraciones Globales e Importaciones"
      ]
    },
    {
      "cell_type": "markdown",
      "metadata": {
        "id": "minb4-nsBSdR"
      },
      "source": [
        "En esta sección, importamos todas las bibliotecas y/o modulos necesarios para nuestro proceso de feature engineering y establecemos configuraciones globales de ser requerido."
      ]
    },
    {
      "cell_type": "code",
      "execution_count": 2,
      "metadata": {
        "colab": {
          "base_uri": "https://localhost:8080/"
        },
        "id": "YQ49ZdnCn946",
        "outputId": "f08c8da1-4d1b-44b2-84b6-2e3db38ab374"
      },
      "outputs": [
        {
          "name": "stdout",
          "output_type": "stream",
          "text": [
            "System version: 3.11.5 (tags/v3.11.5:cce6ba9, Aug 24 2023, 14:38:34) [MSC v.1936 64 bit (AMD64)]\n",
            "Pandas version: 2.1.3\n",
            "TextBlob version: 0.17.1\n"
          ]
        }
      ],
      "source": [
        "import sys\n",
        "import os\n",
        "import pandas as pd\n",
        "import textblob\n",
        "from textblob import TextBlob\n",
        "\n",
        "print(f\"System version: {sys.version}\")\n",
        "print(f\"Pandas version: {pd.__version__}\")\n",
        "print(f\"TextBlob version: {textblob.__version__}\")"
      ]
    },
    {
      "cell_type": "markdown",
      "metadata": {
        "id": "3735XSBx7a23"
      },
      "source": [
        "## 1 Extracción"
      ]
    },
    {
      "cell_type": "markdown",
      "metadata": {
        "id": "e2yZ74Q8Gpv6"
      },
      "source": [
        "En esta sección, extraemos los datos de los archivos `steam_games`, `user_items` y `user_reviews` que estan en formato parquet."
      ]
    },
    {
      "cell_type": "markdown",
      "metadata": {
        "id": "OhTA5DDP79w6"
      },
      "source": [
        "### 1.1 Extracción de los datos"
      ]
    },
    {
      "cell_type": "markdown",
      "metadata": {
        "id": "f_oRjdvhtRF3"
      },
      "source": [
        "Creamos una función que lee cada archivo desde su directorio y lo carga a un DataFrame de `pandas`."
      ]
    },
    {
      "cell_type": "code",
      "execution_count": 3,
      "metadata": {
        "id": "2kIEIUairLY4"
      },
      "outputs": [],
      "source": [
        "# Cargamos los archivos parquet\n",
        "def read_parquet_files(parquet_files):\n",
        "    dataframes = {}\n",
        "    for name in parquet_files:\n",
        "        dataframes[name] = pd.read_parquet(f'../data/interim/{name}.parquet', engine='pyarrow')\n",
        "    return dataframes\n",
        "\n",
        "parquet_files = ['steam_games','user_items', 'user_reviews']\n",
        "dataframes = read_parquet_files(parquet_files)\n",
        "\n",
        "# Convertimos a df.\n",
        "df_steam_games = dataframes['steam_games']\n",
        "df_user_items = dataframes['user_items']\n",
        "df_user_reviews = dataframes['user_reviews']"
      ]
    },
    {
      "cell_type": "markdown",
      "metadata": {
        "id": "oF9YHbWmNFRe"
      },
      "source": [
        "## 2 Análisis de sentimiento"
      ]
    },
    {
      "cell_type": "markdown",
      "metadata": {
        "id": "8FhWwkabN6vr"
      },
      "source": [
        "El análisis de sentimiento consiste en asignar una etiqueta numérica a cada reseña, según el tono o la actitud que expresa el texto. Usaremos la siguiente escala:\n",
        "\n",
        "* 0: si la reseña es **negativa**, es decir, si el usuario muestra insatisfacción, disgusto o decepción con el juego.\n",
        "* 1: si la reseña es **neutral**, es decir, si el usuario muestra indiferencia, objetividad o ausencia de emoción con el juego.\n",
        "* 2: si la reseña es **positiva**, es decir, si el usuario muestra satisfacción, gusto o admiración con el juego.\n",
        "\n"
      ]
    },
    {
      "cell_type": "markdown",
      "metadata": {
        "id": "WN04wp4Ll6EG"
      },
      "source": [
        "### 2.1 Función `sentiment_analysis`"
      ]
    },
    {
      "cell_type": "markdown",
      "metadata": {
        "id": "DuqwsRSlRtP1"
      },
      "source": [
        "Para realizar el análisis de sentimiento con NLP a las reseñas de los juegos, crearemos una función usando la librería TextBlob que se considera facil de usar y muy intuitiva. Usaremos la polaridad que es una medida numérica que indica si el texto es negativo o positivo, según el tono o la actitud que expresa. La polaridad varía entre -1 y 1, donde -1 significa muy negativo, 0 significa neutro y 1 significa muy positivo."
      ]
    },
    {
      "cell_type": "code",
      "execution_count": 4,
      "metadata": {
        "id": "g5q6V5p0tJJx"
      },
      "outputs": [],
      "source": [
        "def sentiment_analysis(review):\n",
        "    # Si la reseña está ausente, retorna 1 (neutral)\n",
        "    if pd.isnull(review):\n",
        "        return 1\n",
        "\n",
        "    # Calcula la polaridad de la reseña usando TextBlob\n",
        "    polarity = TextBlob(review).sentiment.polarity\n",
        "\n",
        "    # Retorna 0 (malo) si la polaridad es menor que 0, 2 (positivo) si la polaridad es mayor que 0, y 1 (neutral) en caso contrario\n",
        "    if polarity < 0:\n",
        "        return 0\n",
        "    elif polarity > 0:\n",
        "        return 2\n",
        "    else:\n",
        "        return 1"
      ]
    },
    {
      "cell_type": "markdown",
      "metadata": {
        "id": "uYyf4xbxR5SC"
      },
      "source": [
        "* Aplicamos la función a la columna `review`."
      ]
    },
    {
      "cell_type": "code",
      "execution_count": 5,
      "metadata": {
        "id": "5mmFhInJ2iX7"
      },
      "outputs": [
        {
          "ename": "AttributeError",
          "evalue": "module 'numpy' has no attribute 'matrix'",
          "output_type": "error",
          "traceback": [
            "\u001b[1;31m---------------------------------------------------------------------------\u001b[0m",
            "\u001b[1;31mKeyError\u001b[0m                                  Traceback (most recent call last)",
            "File \u001b[1;32mc:\\Users\\Freddy\\Desktop\\Workspace\\Henry\\recsys-steam-games\\venv\\Lib\\site-packages\\pandas\\core\\indexes\\base.py:3790\u001b[0m, in \u001b[0;36mIndex.get_loc\u001b[1;34m(self, key)\u001b[0m\n\u001b[0;32m   3789\u001b[0m \u001b[39mtry\u001b[39;00m:\n\u001b[1;32m-> 3790\u001b[0m     \u001b[39mreturn\u001b[39;00m \u001b[39mself\u001b[39;49m\u001b[39m.\u001b[39;49m_engine\u001b[39m.\u001b[39;49mget_loc(casted_key)\n\u001b[0;32m   3791\u001b[0m \u001b[39mexcept\u001b[39;00m \u001b[39mKeyError\u001b[39;00m \u001b[39mas\u001b[39;00m err:\n",
            "File \u001b[1;32mindex.pyx:152\u001b[0m, in \u001b[0;36mpandas._libs.index.IndexEngine.get_loc\u001b[1;34m()\u001b[0m\n",
            "File \u001b[1;32mindex.pyx:181\u001b[0m, in \u001b[0;36mpandas._libs.index.IndexEngine.get_loc\u001b[1;34m()\u001b[0m\n",
            "File \u001b[1;32mpandas\\_libs\\hashtable_class_helper.pxi:7080\u001b[0m, in \u001b[0;36mpandas._libs.hashtable.PyObjectHashTable.get_item\u001b[1;34m()\u001b[0m\n",
            "File \u001b[1;32mpandas\\_libs\\hashtable_class_helper.pxi:7088\u001b[0m, in \u001b[0;36mpandas._libs.hashtable.PyObjectHashTable.get_item\u001b[1;34m()\u001b[0m\n",
            "\u001b[1;31mKeyError\u001b[0m: 'sentiment_analysis'",
            "\nThe above exception was the direct cause of the following exception:\n",
            "\u001b[1;31mKeyError\u001b[0m                                  Traceback (most recent call last)",
            "File \u001b[1;32mc:\\Users\\Freddy\\Desktop\\Workspace\\Henry\\recsys-steam-games\\venv\\Lib\\site-packages\\pandas\\core\\frame.py:4261\u001b[0m, in \u001b[0;36mDataFrame._set_item_mgr\u001b[1;34m(self, key, value, refs)\u001b[0m\n\u001b[0;32m   4260\u001b[0m \u001b[39mtry\u001b[39;00m:\n\u001b[1;32m-> 4261\u001b[0m     loc \u001b[39m=\u001b[39m \u001b[39mself\u001b[39;49m\u001b[39m.\u001b[39;49m_info_axis\u001b[39m.\u001b[39;49mget_loc(key)\n\u001b[0;32m   4262\u001b[0m \u001b[39mexcept\u001b[39;00m \u001b[39mKeyError\u001b[39;00m:\n\u001b[0;32m   4263\u001b[0m     \u001b[39m# This item wasn't present, just insert at end\u001b[39;00m\n",
            "File \u001b[1;32mc:\\Users\\Freddy\\Desktop\\Workspace\\Henry\\recsys-steam-games\\venv\\Lib\\site-packages\\pandas\\core\\indexes\\base.py:3797\u001b[0m, in \u001b[0;36mIndex.get_loc\u001b[1;34m(self, key)\u001b[0m\n\u001b[0;32m   3796\u001b[0m         \u001b[39mraise\u001b[39;00m InvalidIndexError(key)\n\u001b[1;32m-> 3797\u001b[0m     \u001b[39mraise\u001b[39;00m \u001b[39mKeyError\u001b[39;00m(key) \u001b[39mfrom\u001b[39;00m \u001b[39merr\u001b[39;00m\n\u001b[0;32m   3798\u001b[0m \u001b[39mexcept\u001b[39;00m \u001b[39mTypeError\u001b[39;00m:\n\u001b[0;32m   3799\u001b[0m     \u001b[39m# If we have a listlike key, _check_indexing_error will raise\u001b[39;00m\n\u001b[0;32m   3800\u001b[0m     \u001b[39m#  InvalidIndexError. Otherwise we fall through and re-raise\u001b[39;00m\n\u001b[0;32m   3801\u001b[0m     \u001b[39m#  the TypeError.\u001b[39;00m\n",
            "\u001b[1;31mKeyError\u001b[0m: 'sentiment_analysis'",
            "\nDuring handling of the above exception, another exception occurred:\n",
            "\u001b[1;31mAttributeError\u001b[0m                            Traceback (most recent call last)",
            "\u001b[1;32mc:\\Users\\Freddy\\Desktop\\Workspace\\Henry\\recsys-steam-games\\notebooks\\2.1-feature-engineering.ipynb Cell 18\u001b[0m line \u001b[0;36m1\n\u001b[1;32m----> <a href='vscode-notebook-cell:/c%3A/Users/Freddy/Desktop/Workspace/Henry/recsys-steam-games/notebooks/2.1-feature-engineering.ipynb#X23sZmlsZQ%3D%3D?line=0'>1</a>\u001b[0m df_user_reviews[\u001b[39m'\u001b[39;49m\u001b[39msentiment_analysis\u001b[39;49m\u001b[39m'\u001b[39;49m] \u001b[39m=\u001b[39m df_user_reviews[\u001b[39m'\u001b[39m\u001b[39mreview\u001b[39m\u001b[39m'\u001b[39m]\u001b[39m.\u001b[39mapply(sentiment_analysis)\n",
            "File \u001b[1;32mc:\\Users\\Freddy\\Desktop\\Workspace\\Henry\\recsys-steam-games\\venv\\Lib\\site-packages\\pandas\\core\\frame.py:4091\u001b[0m, in \u001b[0;36mDataFrame.__setitem__\u001b[1;34m(self, key, value)\u001b[0m\n\u001b[0;32m   4088\u001b[0m     \u001b[39mself\u001b[39m\u001b[39m.\u001b[39m_setitem_array([key], value)\n\u001b[0;32m   4089\u001b[0m \u001b[39melse\u001b[39;00m:\n\u001b[0;32m   4090\u001b[0m     \u001b[39m# set column\u001b[39;00m\n\u001b[1;32m-> 4091\u001b[0m     \u001b[39mself\u001b[39;49m\u001b[39m.\u001b[39;49m_set_item(key, value)\n",
            "File \u001b[1;32mc:\\Users\\Freddy\\Desktop\\Workspace\\Henry\\recsys-steam-games\\venv\\Lib\\site-packages\\pandas\\core\\frame.py:4314\u001b[0m, in \u001b[0;36mDataFrame._set_item\u001b[1;34m(self, key, value)\u001b[0m\n\u001b[0;32m   4311\u001b[0m             value \u001b[39m=\u001b[39m np\u001b[39m.\u001b[39mtile(value, (\u001b[39mlen\u001b[39m(existing_piece\u001b[39m.\u001b[39mcolumns), \u001b[39m1\u001b[39m))\u001b[39m.\u001b[39mT\n\u001b[0;32m   4312\u001b[0m             refs \u001b[39m=\u001b[39m \u001b[39mNone\u001b[39;00m\n\u001b[1;32m-> 4314\u001b[0m \u001b[39mself\u001b[39;49m\u001b[39m.\u001b[39;49m_set_item_mgr(key, value, refs)\n",
            "File \u001b[1;32mc:\\Users\\Freddy\\Desktop\\Workspace\\Henry\\recsys-steam-games\\venv\\Lib\\site-packages\\pandas\\core\\frame.py:4264\u001b[0m, in \u001b[0;36mDataFrame._set_item_mgr\u001b[1;34m(self, key, value, refs)\u001b[0m\n\u001b[0;32m   4261\u001b[0m     loc \u001b[39m=\u001b[39m \u001b[39mself\u001b[39m\u001b[39m.\u001b[39m_info_axis\u001b[39m.\u001b[39mget_loc(key)\n\u001b[0;32m   4262\u001b[0m \u001b[39mexcept\u001b[39;00m \u001b[39mKeyError\u001b[39;00m:\n\u001b[0;32m   4263\u001b[0m     \u001b[39m# This item wasn't present, just insert at end\u001b[39;00m\n\u001b[1;32m-> 4264\u001b[0m     \u001b[39mself\u001b[39;49m\u001b[39m.\u001b[39;49m_mgr\u001b[39m.\u001b[39;49minsert(\u001b[39mlen\u001b[39;49m(\u001b[39mself\u001b[39;49m\u001b[39m.\u001b[39;49m_info_axis), key, value, refs)\n\u001b[0;32m   4265\u001b[0m \u001b[39melse\u001b[39;00m:\n\u001b[0;32m   4266\u001b[0m     \u001b[39mself\u001b[39m\u001b[39m.\u001b[39m_iset_item_mgr(loc, value, refs\u001b[39m=\u001b[39mrefs)\n",
            "File \u001b[1;32mc:\\Users\\Freddy\\Desktop\\Workspace\\Henry\\recsys-steam-games\\venv\\Lib\\site-packages\\pandas\\core\\internals\\managers.py:1344\u001b[0m, in \u001b[0;36mBlockManager.insert\u001b[1;34m(self, loc, item, value, refs)\u001b[0m\n\u001b[0;32m   1342\u001b[0m \u001b[39melse\u001b[39;00m:\n\u001b[0;32m   1343\u001b[0m     \u001b[39mself\u001b[39m\u001b[39m.\u001b[39m_insert_update_mgr_locs(loc)\n\u001b[1;32m-> 1344\u001b[0m     \u001b[39mself\u001b[39;49m\u001b[39m.\u001b[39;49m_insert_update_blklocs_and_blknos(loc)\n\u001b[0;32m   1346\u001b[0m \u001b[39mself\u001b[39m\u001b[39m.\u001b[39maxes[\u001b[39m0\u001b[39m] \u001b[39m=\u001b[39m new_axis\n\u001b[0;32m   1347\u001b[0m \u001b[39mself\u001b[39m\u001b[39m.\u001b[39mblocks \u001b[39m+\u001b[39m\u001b[39m=\u001b[39m (block,)\n",
            "File \u001b[1;32mc:\\Users\\Freddy\\Desktop\\Workspace\\Henry\\recsys-steam-games\\venv\\Lib\\site-packages\\pandas\\core\\internals\\managers.py:1380\u001b[0m, in \u001b[0;36mBlockManager._insert_update_blklocs_and_blknos\u001b[1;34m(self, loc)\u001b[0m\n\u001b[0;32m   1377\u001b[0m \u001b[39m# Accessing public blklocs ensures the public versions are initialized\u001b[39;00m\n\u001b[0;32m   1378\u001b[0m \u001b[39mif\u001b[39;00m loc \u001b[39m==\u001b[39m \u001b[39mself\u001b[39m\u001b[39m.\u001b[39mblklocs\u001b[39m.\u001b[39mshape[\u001b[39m0\u001b[39m]:\n\u001b[0;32m   1379\u001b[0m     \u001b[39m# np.append is a lot faster, let's use it if we can.\u001b[39;00m\n\u001b[1;32m-> 1380\u001b[0m     \u001b[39mself\u001b[39m\u001b[39m.\u001b[39m_blklocs \u001b[39m=\u001b[39m np\u001b[39m.\u001b[39;49mappend(\u001b[39mself\u001b[39;49m\u001b[39m.\u001b[39;49m_blklocs, \u001b[39m0\u001b[39;49m)\n\u001b[0;32m   1381\u001b[0m     \u001b[39mself\u001b[39m\u001b[39m.\u001b[39m_blknos \u001b[39m=\u001b[39m np\u001b[39m.\u001b[39mappend(\u001b[39mself\u001b[39m\u001b[39m.\u001b[39m_blknos, \u001b[39mlen\u001b[39m(\u001b[39mself\u001b[39m\u001b[39m.\u001b[39mblocks))\n\u001b[0;32m   1382\u001b[0m \u001b[39melif\u001b[39;00m loc \u001b[39m==\u001b[39m \u001b[39m0\u001b[39m:\n\u001b[0;32m   1383\u001b[0m     \u001b[39m# np.append is a lot faster, let's use it if we can.\u001b[39;00m\n",
            "File \u001b[1;32mc:\\Users\\Freddy\\Desktop\\Workspace\\Henry\\recsys-steam-games\\venv\\Lib\\site-packages\\numpy\\lib\\function_base.py:5615\u001b[0m, in \u001b[0;36mappend\u001b[1;34m(arr, values, axis)\u001b[0m\n\u001b[0;32m   5613\u001b[0m     \u001b[39mif\u001b[39;00m arr\u001b[39m.\u001b[39mndim \u001b[39m!=\u001b[39m \u001b[39m1\u001b[39m:\n\u001b[0;32m   5614\u001b[0m         arr \u001b[39m=\u001b[39m arr\u001b[39m.\u001b[39mravel()\n\u001b[1;32m-> 5615\u001b[0m     values \u001b[39m=\u001b[39m ravel(values)\n\u001b[0;32m   5616\u001b[0m     axis \u001b[39m=\u001b[39m arr\u001b[39m.\u001b[39mndim\u001b[39m-\u001b[39m\u001b[39m1\u001b[39m\n\u001b[0;32m   5617\u001b[0m \u001b[39mreturn\u001b[39;00m concatenate((arr, values), axis\u001b[39m=\u001b[39maxis)\n",
            "File \u001b[1;32mc:\\Users\\Freddy\\Desktop\\Workspace\\Henry\\recsys-steam-games\\venv\\Lib\\site-packages\\numpy\\core\\fromnumeric.py:1871\u001b[0m, in \u001b[0;36mravel\u001b[1;34m(a, order)\u001b[0m\n\u001b[0;32m   1768\u001b[0m \u001b[39m@array_function_dispatch\u001b[39m(_ravel_dispatcher)\n\u001b[0;32m   1769\u001b[0m \u001b[39mdef\u001b[39;00m \u001b[39mravel\u001b[39m(a, order\u001b[39m=\u001b[39m\u001b[39m'\u001b[39m\u001b[39mC\u001b[39m\u001b[39m'\u001b[39m):\n\u001b[0;32m   1770\u001b[0m \u001b[39m    \u001b[39m\u001b[39m\"\"\"Return a contiguous flattened array.\u001b[39;00m\n\u001b[0;32m   1771\u001b[0m \n\u001b[0;32m   1772\u001b[0m \u001b[39m    A 1-D array, containing the elements of the input, is returned.  A copy is\u001b[39;00m\n\u001b[1;32m   (...)\u001b[0m\n\u001b[0;32m   1869\u001b[0m \n\u001b[0;32m   1870\u001b[0m \u001b[39m    \"\"\"\u001b[39;00m\n\u001b[1;32m-> 1871\u001b[0m     \u001b[39mif\u001b[39;00m \u001b[39misinstance\u001b[39m(a, np\u001b[39m.\u001b[39;49mmatrix):\n\u001b[0;32m   1872\u001b[0m         \u001b[39mreturn\u001b[39;00m asarray(a)\u001b[39m.\u001b[39mravel(order\u001b[39m=\u001b[39morder)\n\u001b[0;32m   1873\u001b[0m     \u001b[39melse\u001b[39;00m:\n",
            "\u001b[1;31mAttributeError\u001b[0m: module 'numpy' has no attribute 'matrix'"
          ]
        }
      ],
      "source": [
        "df_user_reviews['sentiment_analysis'] = df_user_reviews['review'].apply(sentiment_analysis)"
      ]
    },
    {
      "cell_type": "markdown",
      "metadata": {
        "id": "rVvRE7jjT-oz"
      },
      "source": [
        "* Veamos algunos ejemplos:"
      ]
    },
    {
      "cell_type": "code",
      "execution_count": null,
      "metadata": {
        "colab": {
          "base_uri": "https://localhost:8080/",
          "height": 226
        },
        "id": "9tmypGdaTPZ7",
        "outputId": "50e66ded-027c-4afa-dcfb-02e2b12c83d3"
      },
      "outputs": [
        {
          "data": {
            "text/html": [
              "<div>\n",
              "<style scoped>\n",
              "    .dataframe tbody tr th:only-of-type {\n",
              "        vertical-align: middle;\n",
              "    }\n",
              "\n",
              "    .dataframe tbody tr th {\n",
              "        vertical-align: top;\n",
              "    }\n",
              "\n",
              "    .dataframe thead th {\n",
              "        text-align: right;\n",
              "    }\n",
              "</style>\n",
              "<table border=\"1\" class=\"dataframe\">\n",
              "  <thead>\n",
              "    <tr style=\"text-align: right;\">\n",
              "      <th></th>\n",
              "      <th>review</th>\n",
              "      <th>sentiment_analysis</th>\n",
              "    </tr>\n",
              "  </thead>\n",
              "  <tbody>\n",
              "    <tr>\n",
              "      <th>45397</th>\n",
              "      <td>Probably the best game pc never made...My favo...</td>\n",
              "      <td>0</td>\n",
              "    </tr>\n",
              "    <tr>\n",
              "      <th>16290</th>\n",
              "      <td>( ͡◕ ͜ʖ ͡◕)</td>\n",
              "      <td>1</td>\n",
              "    </tr>\n",
              "    <tr>\n",
              "      <th>13513</th>\n",
              "      <td>Mint.</td>\n",
              "      <td>1</td>\n",
              "    </tr>\n",
              "    <tr>\n",
              "      <th>56545</th>\n",
              "      <td>Play this game and I beyour ♥♥♥ you will be im...</td>\n",
              "      <td>2</td>\n",
              "    </tr>\n",
              "    <tr>\n",
              "      <th>2248</th>\n",
              "      <td>Players ruin this game</td>\n",
              "      <td>0</td>\n",
              "    </tr>\n",
              "  </tbody>\n",
              "</table>\n",
              "</div>"
            ],
            "text/plain": [
              "                                                  review  sentiment_analysis\n",
              "45397  Probably the best game pc never made...My favo...                   0\n",
              "16290                                        ( ͡◕ ͜ʖ ͡◕)                   1\n",
              "13513                                              Mint.                   1\n",
              "56545  Play this game and I beyour ♥♥♥ you will be im...                   2\n",
              "2248                              Players ruin this game                   0"
            ]
          },
          "execution_count": 5,
          "metadata": {},
          "output_type": "execute_result"
        }
      ],
      "source": [
        "df_user_reviews[['review','sentiment_analysis']].sample(5)"
      ]
    },
    {
      "cell_type": "markdown",
      "metadata": {
        "id": "Kdk9f5nel1Tu"
      },
      "source": [
        "### 2.2 Eliminación de la columna `review`"
      ]
    },
    {
      "cell_type": "markdown",
      "metadata": {
        "id": "qxJGSa9gO5wU"
      },
      "source": [
        "La nueva columna `sentiment_analysis` reemplazará a la columna `review` en el dataset `user_reviews`, para facilitar el trabajo de los modelos de machine learning y el análisis de datos."
      ]
    },
    {
      "cell_type": "code",
      "execution_count": null,
      "metadata": {
        "colab": {
          "base_uri": "https://localhost:8080/",
          "height": 206
        },
        "id": "1Baopwg8O9Cl",
        "outputId": "6e2dde35-696a-4e7c-ce7b-0167cba20651"
      },
      "outputs": [
        {
          "data": {
            "text/html": [
              "<div>\n",
              "<style scoped>\n",
              "    .dataframe tbody tr th:only-of-type {\n",
              "        vertical-align: middle;\n",
              "    }\n",
              "\n",
              "    .dataframe tbody tr th {\n",
              "        vertical-align: top;\n",
              "    }\n",
              "\n",
              "    .dataframe thead th {\n",
              "        text-align: right;\n",
              "    }\n",
              "</style>\n",
              "<table border=\"1\" class=\"dataframe\">\n",
              "  <thead>\n",
              "    <tr style=\"text-align: right;\">\n",
              "      <th></th>\n",
              "      <th>item_id</th>\n",
              "      <th>recommend</th>\n",
              "      <th>user_id</th>\n",
              "      <th>posted_year</th>\n",
              "      <th>sentiment_analysis</th>\n",
              "    </tr>\n",
              "  </thead>\n",
              "  <tbody>\n",
              "    <tr>\n",
              "      <th>0</th>\n",
              "      <td>1250</td>\n",
              "      <td>True</td>\n",
              "      <td>76561197970982479</td>\n",
              "      <td>2011</td>\n",
              "      <td>2</td>\n",
              "    </tr>\n",
              "    <tr>\n",
              "      <th>1</th>\n",
              "      <td>22200</td>\n",
              "      <td>True</td>\n",
              "      <td>76561197970982479</td>\n",
              "      <td>2011</td>\n",
              "      <td>2</td>\n",
              "    </tr>\n",
              "    <tr>\n",
              "      <th>2</th>\n",
              "      <td>43110</td>\n",
              "      <td>True</td>\n",
              "      <td>76561197970982479</td>\n",
              "      <td>2011</td>\n",
              "      <td>2</td>\n",
              "    </tr>\n",
              "    <tr>\n",
              "      <th>3</th>\n",
              "      <td>251610</td>\n",
              "      <td>True</td>\n",
              "      <td>js41637</td>\n",
              "      <td>2014</td>\n",
              "      <td>2</td>\n",
              "    </tr>\n",
              "    <tr>\n",
              "      <th>4</th>\n",
              "      <td>227300</td>\n",
              "      <td>True</td>\n",
              "      <td>js41637</td>\n",
              "      <td>2013</td>\n",
              "      <td>0</td>\n",
              "    </tr>\n",
              "  </tbody>\n",
              "</table>\n",
              "</div>"
            ],
            "text/plain": [
              "  item_id  recommend            user_id posted_year  sentiment_analysis\n",
              "0    1250       True  76561197970982479        2011                   2\n",
              "1   22200       True  76561197970982479        2011                   2\n",
              "2   43110       True  76561197970982479        2011                   2\n",
              "3  251610       True            js41637        2014                   2\n",
              "4  227300       True            js41637        2013                   0"
            ]
          },
          "execution_count": 8,
          "metadata": {},
          "output_type": "execute_result"
        }
      ],
      "source": [
        "df_user_reviews.drop('review', axis=1, inplace=True)\n",
        "df_user_reviews.head()"
      ]
    },
    {
      "cell_type": "markdown",
      "metadata": {
        "id": "omRHpcSqlMQk"
      },
      "source": [
        "## 3 Diseño y estructura de las bases de datos para los endpoints de la API"
      ]
    },
    {
      "cell_type": "markdown",
      "metadata": {
        "id": "ucUgyA6ljT8a"
      },
      "source": [
        "En esta sección, nuestro objetivo es crear diferentes dataset a modo de pseudo base de datos para las funciones que se usarán en los endpoints de la API. De esta manera, podremos acceder a los datos que necesitamos de forma rápida y eficiente, sin tener que cargar toda la información para así, optimizar el rendimiento de la API."
      ]
    },
    {
      "cell_type": "markdown",
      "metadata": {
        "id": "Gh3QiR7Ekpq7"
      },
      "source": [
        "### 3.1 Endpoints 1 y 2"
      ]
    },
    {
      "cell_type": "markdown",
      "metadata": {
        "id": "6xxBRRsfS-u3"
      },
      "source": [
        "Estos endpoints comparten información en común, por lo que podemos crear un solo dataset para ambos."
      ]
    },
    {
      "cell_type": "markdown",
      "metadata": {
        "id": "yyRmMVAF_Zzh"
      },
      "source": [
        "#### 3.1.1 Endpoint 1"
      ]
    },
    {
      "cell_type": "markdown",
      "metadata": {
        "id": "IeiZl0XdQuP-"
      },
      "source": [
        "def **PlayTimeGenre( *`genero` : str* )**:\n",
        "    Retorna `año` con mas horas jugadas para el género dado.\n",
        "Ejemplo de retorno:\n",
        "\n",
        "``` js\n",
        "{\n",
        "   \"Año de lanzamiento con más horas jugadas para Género X\": 2013\n",
        "}\n",
        "```\n",
        "\n"
      ]
    },
    {
      "cell_type": "markdown",
      "metadata": {
        "id": "J1kxJDyFnfpB"
      },
      "source": [
        "#### 3.1.2 Endpoint 2"
      ]
    },
    {
      "cell_type": "markdown",
      "metadata": {
        "id": "j3vuvUAWzEMh"
      },
      "source": [
        "+ def **UserForGenre( *`genero` : str* )**:\n",
        "    Debe devolver el usuario que acumula más horas jugadas para el género dado y una lista de la acumulación de horas jugadas por año.\n",
        "\n",
        "Ejemplo de retorno:\n",
        "```js\n",
        "{\n",
        "   \"Usuario con más horas jugadas para Género X\":\"us213ndjss09sdf\",\n",
        "   \"Horas jugadas\":[\n",
        "      {\n",
        "         \"Año\":2013,\n",
        "         \"Horas\":203\n",
        "      },\n",
        "      {\n",
        "         \"Año\":2012,\n",
        "         \"Horas\":100\n",
        "      },\n",
        "      {\n",
        "         \"Año\":2011,\n",
        "         \"Horas\":23\n",
        "      }\n",
        "   ]\n",
        "}\n",
        "```"
      ]
    },
    {
      "cell_type": "markdown",
      "metadata": {
        "id": "RNi4qaXkfmEy"
      },
      "source": [
        "#### 3.1.4 Pseudo Database 1"
      ]
    },
    {
      "cell_type": "markdown",
      "metadata": {
        "id": "zsiFEDvm3PXZ"
      },
      "source": [
        "Para crear un solo dataset que pueda ser utilizado como pseudo base de datos para estos endpoints, necesitamos combinar `df_steam_games` con `df_user_items` de tal manera que tengamos toda la información necesaria en un solo lugar. Para esto solo necesitamos las columnas:\n",
        "`item_id`,`genres`,`release_year` del DataFrame `steam_games`. También `item_id`, `user_id` y `playtime_forever` del DataFrame `user_items`."
      ]
    },
    {
      "cell_type": "markdown",
      "metadata": {
        "id": "rBdNZkyM2kgz"
      },
      "source": [
        "* Primero, seleccionamos solo las columnas necesarias:"
      ]
    },
    {
      "cell_type": "code",
      "execution_count": 7,
      "metadata": {
        "id": "nsx6dpJz4rls"
      },
      "outputs": [],
      "source": [
        "steam_games_columns = ['item_id','genres','release_year']\n",
        "user_items_columns = ['item_id','user_id', 'playtime_forever']"
      ]
    },
    {
      "cell_type": "markdown",
      "metadata": {
        "id": "FuGoa8o2nVr3"
      },
      "source": [
        "* Segundo, creamos subsets de los DataFrames con solo las columnas necesarias:"
      ]
    },
    {
      "cell_type": "code",
      "execution_count": 8,
      "metadata": {
        "id": "5it6EPLd3_cD"
      },
      "outputs": [],
      "source": [
        "df_games_subset = df_steam_games[steam_games_columns]\n",
        "df_items_subset = df_user_items[user_items_columns]"
      ]
    },
    {
      "cell_type": "markdown",
      "metadata": {
        "id": "_xTBWhV72tkC"
      },
      "source": [
        "* Luego, hacemos un merge entre `steam_games` y `user_items` en la columna `item_id`."
      ]
    },
    {
      "cell_type": "code",
      "execution_count": 9,
      "metadata": {
        "colab": {
          "base_uri": "https://localhost:8080/",
          "height": 380
        },
        "id": "517wT4472pik",
        "outputId": "a4c1a4cc-fb8e-4b69-a555-33cd4980a218"
      },
      "outputs": [
        {
          "data": {
            "text/html": [
              "<div>\n",
              "<style scoped>\n",
              "    .dataframe tbody tr th:only-of-type {\n",
              "        vertical-align: middle;\n",
              "    }\n",
              "\n",
              "    .dataframe tbody tr th {\n",
              "        vertical-align: top;\n",
              "    }\n",
              "\n",
              "    .dataframe thead th {\n",
              "        text-align: right;\n",
              "    }\n",
              "</style>\n",
              "<table border=\"1\" class=\"dataframe\">\n",
              "  <thead>\n",
              "    <tr style=\"text-align: right;\">\n",
              "      <th></th>\n",
              "      <th>item_id</th>\n",
              "      <th>genres</th>\n",
              "      <th>release_year</th>\n",
              "      <th>user_id</th>\n",
              "      <th>playtime_forever</th>\n",
              "    </tr>\n",
              "  </thead>\n",
              "  <tbody>\n",
              "    <tr>\n",
              "      <th>0</th>\n",
              "      <td>282010</td>\n",
              "      <td>Racing</td>\n",
              "      <td>1997</td>\n",
              "      <td>UTNerd24</td>\n",
              "      <td>0.083333</td>\n",
              "    </tr>\n",
              "    <tr>\n",
              "      <th>1</th>\n",
              "      <td>282010</td>\n",
              "      <td>Racing</td>\n",
              "      <td>1997</td>\n",
              "      <td>I_DID_911_JUST_SAYING</td>\n",
              "      <td>0.000000</td>\n",
              "    </tr>\n",
              "    <tr>\n",
              "      <th>2</th>\n",
              "      <td>282010</td>\n",
              "      <td>Racing</td>\n",
              "      <td>1997</td>\n",
              "      <td>76561197962104795</td>\n",
              "      <td>0.000000</td>\n",
              "    </tr>\n",
              "    <tr>\n",
              "      <th>3</th>\n",
              "      <td>282010</td>\n",
              "      <td>Racing</td>\n",
              "      <td>1997</td>\n",
              "      <td>r3ap3r78</td>\n",
              "      <td>0.000000</td>\n",
              "    </tr>\n",
              "    <tr>\n",
              "      <th>4</th>\n",
              "      <td>282010</td>\n",
              "      <td>Racing</td>\n",
              "      <td>1997</td>\n",
              "      <td>saint556</td>\n",
              "      <td>0.216667</td>\n",
              "    </tr>\n",
              "  </tbody>\n",
              "</table>\n",
              "</div>"
            ],
            "text/plain": [
              "  item_id  genres release_year                user_id  playtime_forever\n",
              "0  282010  Racing         1997               UTNerd24          0.083333\n",
              "1  282010  Racing         1997  I_DID_911_JUST_SAYING          0.000000\n",
              "2  282010  Racing         1997      76561197962104795          0.000000\n",
              "3  282010  Racing         1997               r3ap3r78          0.000000\n",
              "4  282010  Racing         1997               saint556          0.216667"
            ]
          },
          "execution_count": 9,
          "metadata": {},
          "output_type": "execute_result"
        }
      ],
      "source": [
        "df_pseudo_db1 = pd.merge(df_games_subset, df_items_subset, on='item_id')\n",
        "df_pseudo_db1.head()"
      ]
    },
    {
      "cell_type": "code",
      "execution_count": 10,
      "metadata": {
        "colab": {
          "base_uri": "https://localhost:8080/"
        },
        "id": "7xrIFrYkSr1W",
        "outputId": "9ed5b998-4ce3-41c8-9ca2-7357c8488636"
      },
      "outputs": [
        {
          "data": {
            "text/plain": [
              "(15255102, 5)"
            ]
          },
          "execution_count": 10,
          "metadata": {},
          "output_type": "execute_result"
        }
      ],
      "source": [
        "df_pseudo_db1.shape"
      ]
    },
    {
      "cell_type": "markdown",
      "metadata": {
        "id": "PMEuqAYwUD2b"
      },
      "source": [
        "- Con el fin de ahorrar recursos, solo usaremos los registros de juegos que cumplan con las siguientes condiciones: tener un `release_year` válido, un `genres` con una popularidad alta tomando como referencia la frecuencia relativa y haber sido jugados al menos una vez."
      ]
    },
    {
      "cell_type": "code",
      "execution_count": 11,
      "metadata": {},
      "outputs": [
        {
          "data": {
            "text/plain": [
              "genres\n",
              "Action                       0.229263\n",
              "Adventure                    0.182320\n",
              "Indie                        0.127814\n",
              "Strategy                     0.098006\n",
              "RPG                          0.087476\n",
              "Simulation                   0.068177\n",
              "Casual                       0.062629\n",
              "Free to Play                 0.058383\n",
              "Massively Multiplayer        0.051663\n",
              "Racing                       0.010949\n",
              "Sports                       0.008968\n",
              "Early Access                 0.008278\n",
              "Education                    0.004132\n",
              "Utilities                    0.000933\n",
              "Video Production             0.000321\n",
              "Web Publishing               0.000259\n",
              "Software Training            0.000170\n",
              "unknown                      0.000129\n",
              "Audio Production             0.000077\n",
              "Photo Editing                0.000039\n",
              "Animation &amp; Modeling     0.000009\n",
              "Design &amp; Illustration    0.000005\n",
              "Name: count, dtype: float64"
            ]
          },
          "execution_count": 11,
          "metadata": {},
          "output_type": "execute_result"
        }
      ],
      "source": [
        "# Calculamos la frecuencia relativa de cada género\n",
        "df_pseudo_db1.genres.value_counts()/len(df_pseudo_db1)"
      ]
    },
    {
      "cell_type": "markdown",
      "metadata": {},
      "source": [
        "- De acuerdo con la observación anterior, seleccionamos los 10 géneros más frecuentes, excluyendo las categorías que no consideramos un género como tal, sino que hacen referencia a por ejemplo si el juego es gratis (`Free to Play`) o tiene un acceso temprano (`Early Access`). "
      ]
    },
    {
      "cell_type": "code",
      "execution_count": 12,
      "metadata": {
        "id": "eCNFTA1Ge-8m"
      },
      "outputs": [
        {
          "data": {
            "text/plain": [
              "(9753088, 5)"
            ]
          },
          "execution_count": 12,
          "metadata": {},
          "output_type": "execute_result"
        }
      ],
      "source": [
        "# Seleccionamos los 10 géneros mas frecuentes\n",
        "top_10_popular_genres = ['Action', 'Adventure', 'Indie', 'Strategy', 'RPG', 'Simulation', 'Casual', 'Massively Multiplayer', 'Racing', 'Sports']\n",
        "\n",
        "# Filtramos por las condiciones establecidas\n",
        "df_pseudo_db1 = df_pseudo_db1[(df_pseudo_db1['release_year'] != 'unknown') & (df_pseudo_db1['playtime_forever'] > 0) & (df_pseudo_db1['genres'].isin(top_10_popular_genres))].reset_index(drop=True)\n",
        "df_pseudo_db1.shape"
      ]
    },
    {
      "cell_type": "markdown",
      "metadata": {
        "id": "WVmvtpy-Lki0"
      },
      "source": [
        "- Para optimizar el uso de la memoria en el deploy, convertiremos las columnas a los tipos de datos adecuados según su contenido."
      ]
    },
    {
      "cell_type": "code",
      "execution_count": 13,
      "metadata": {
        "colab": {
          "base_uri": "https://localhost:8080/"
        },
        "id": "2mkb32jHrbmx",
        "outputId": "774b1dbf-ebc5-4650-85b1-c75407e98298"
      },
      "outputs": [
        {
          "data": {
            "text/plain": [
              "Index                     132\n",
              "item_id             609652065\n",
              "genres              629485325\n",
              "release_year         19506176\n",
              "user_id             686351247\n",
              "playtime_forever     39012352\n",
              "dtype: int64"
            ]
          },
          "execution_count": 13,
          "metadata": {},
          "output_type": "execute_result"
        }
      ],
      "source": [
        "df_pseudo_db1['release_year'] = df_pseudo_db1['release_year'].astype('int16')\n",
        "df_pseudo_db1['playtime_forever'] = df_pseudo_db1['playtime_forever'].astype('float32')\n",
        "df_pseudo_db1.memory_usage(deep=True)"
      ]
    },
    {
      "cell_type": "markdown",
      "metadata": {
        "id": "F3fRSA4xqzYb"
      },
      "source": [
        "* Por último, creamos una tabla pivote que tenga como índice `user_id` y `release_year`, como columnas `genres` y como valores únicos la suma de `playtime_forever`."
      ]
    },
    {
      "cell_type": "code",
      "execution_count": 14,
      "metadata": {},
      "outputs": [
        {
          "data": {
            "text/html": [
              "<div>\n",
              "<style scoped>\n",
              "    .dataframe tbody tr th:only-of-type {\n",
              "        vertical-align: middle;\n",
              "    }\n",
              "\n",
              "    .dataframe tbody tr th {\n",
              "        vertical-align: top;\n",
              "    }\n",
              "\n",
              "    .dataframe thead th {\n",
              "        text-align: right;\n",
              "    }\n",
              "</style>\n",
              "<table border=\"1\" class=\"dataframe\">\n",
              "  <thead>\n",
              "    <tr style=\"text-align: right;\">\n",
              "      <th></th>\n",
              "      <th>genres</th>\n",
              "      <th>Action</th>\n",
              "      <th>Adventure</th>\n",
              "      <th>Casual</th>\n",
              "      <th>Indie</th>\n",
              "      <th>Massively Multiplayer</th>\n",
              "      <th>RPG</th>\n",
              "      <th>Racing</th>\n",
              "      <th>Simulation</th>\n",
              "      <th>Sports</th>\n",
              "      <th>Strategy</th>\n",
              "    </tr>\n",
              "    <tr>\n",
              "      <th>user_id</th>\n",
              "      <th>release_year</th>\n",
              "      <th></th>\n",
              "      <th></th>\n",
              "      <th></th>\n",
              "      <th></th>\n",
              "      <th></th>\n",
              "      <th></th>\n",
              "      <th></th>\n",
              "      <th></th>\n",
              "      <th></th>\n",
              "      <th></th>\n",
              "    </tr>\n",
              "  </thead>\n",
              "  <tbody>\n",
              "    <tr>\n",
              "      <th rowspan=\"5\" valign=\"top\">--000--</th>\n",
              "      <th>2006</th>\n",
              "      <td>15.416667</td>\n",
              "      <td>15.416667</td>\n",
              "      <td>0.000000</td>\n",
              "      <td>15.416667</td>\n",
              "      <td>15.416667</td>\n",
              "      <td>0.000000</td>\n",
              "      <td>0.000000</td>\n",
              "      <td>15.416667</td>\n",
              "      <td>0.000000</td>\n",
              "      <td>0.000000</td>\n",
              "    </tr>\n",
              "    <tr>\n",
              "      <th>2009</th>\n",
              "      <td>88.816666</td>\n",
              "      <td>88.816666</td>\n",
              "      <td>0.000000</td>\n",
              "      <td>0.000000</td>\n",
              "      <td>0.000000</td>\n",
              "      <td>0.000000</td>\n",
              "      <td>0.000000</td>\n",
              "      <td>0.000000</td>\n",
              "      <td>0.000000</td>\n",
              "      <td>0.000000</td>\n",
              "    </tr>\n",
              "    <tr>\n",
              "      <th>2010</th>\n",
              "      <td>0.366667</td>\n",
              "      <td>0.000000</td>\n",
              "      <td>0.000000</td>\n",
              "      <td>0.366667</td>\n",
              "      <td>0.000000</td>\n",
              "      <td>0.000000</td>\n",
              "      <td>0.000000</td>\n",
              "      <td>0.000000</td>\n",
              "      <td>0.000000</td>\n",
              "      <td>0.000000</td>\n",
              "    </tr>\n",
              "    <tr>\n",
              "      <th>2011</th>\n",
              "      <td>108.699997</td>\n",
              "      <td>108.699997</td>\n",
              "      <td>0.000000</td>\n",
              "      <td>30.616665</td>\n",
              "      <td>46.049999</td>\n",
              "      <td>62.649998</td>\n",
              "      <td>46.049999</td>\n",
              "      <td>11.083333</td>\n",
              "      <td>0.000000</td>\n",
              "      <td>11.083333</td>\n",
              "    </tr>\n",
              "    <tr>\n",
              "      <th>2012</th>\n",
              "      <td>1822.516724</td>\n",
              "      <td>37.150002</td>\n",
              "      <td>30.016666</td>\n",
              "      <td>37.700001</td>\n",
              "      <td>10.500000</td>\n",
              "      <td>29.516666</td>\n",
              "      <td>0.000000</td>\n",
              "      <td>0.000000</td>\n",
              "      <td>7.683333</td>\n",
              "      <td>1796.400024</td>\n",
              "    </tr>\n",
              "    <tr>\n",
              "      <th>...</th>\n",
              "      <th>...</th>\n",
              "      <td>...</td>\n",
              "      <td>...</td>\n",
              "      <td>...</td>\n",
              "      <td>...</td>\n",
              "      <td>...</td>\n",
              "      <td>...</td>\n",
              "      <td>...</td>\n",
              "      <td>...</td>\n",
              "      <td>...</td>\n",
              "      <td>...</td>\n",
              "    </tr>\n",
              "    <tr>\n",
              "      <th rowspan=\"5\" valign=\"top\">zzzmidmiss</th>\n",
              "      <th>2010</th>\n",
              "      <td>7.783334</td>\n",
              "      <td>0.166667</td>\n",
              "      <td>3.916667</td>\n",
              "      <td>7.950000</td>\n",
              "      <td>0.000000</td>\n",
              "      <td>0.000000</td>\n",
              "      <td>0.000000</td>\n",
              "      <td>3.233333</td>\n",
              "      <td>3.233333</td>\n",
              "      <td>3.400000</td>\n",
              "    </tr>\n",
              "    <tr>\n",
              "      <th>2011</th>\n",
              "      <td>38.366665</td>\n",
              "      <td>38.366665</td>\n",
              "      <td>1.250000</td>\n",
              "      <td>1.750000</td>\n",
              "      <td>0.266667</td>\n",
              "      <td>37.599998</td>\n",
              "      <td>0.266667</td>\n",
              "      <td>0.000000</td>\n",
              "      <td>0.000000</td>\n",
              "      <td>1.150000</td>\n",
              "    </tr>\n",
              "    <tr>\n",
              "      <th>2012</th>\n",
              "      <td>98.366669</td>\n",
              "      <td>61.650005</td>\n",
              "      <td>6.083333</td>\n",
              "      <td>51.316666</td>\n",
              "      <td>8.016666</td>\n",
              "      <td>45.500000</td>\n",
              "      <td>0.000000</td>\n",
              "      <td>6.450000</td>\n",
              "      <td>0.000000</td>\n",
              "      <td>15.383334</td>\n",
              "    </tr>\n",
              "    <tr>\n",
              "      <th>2013</th>\n",
              "      <td>1.633333</td>\n",
              "      <td>1.750000</td>\n",
              "      <td>0.283333</td>\n",
              "      <td>1.750000</td>\n",
              "      <td>0.166667</td>\n",
              "      <td>0.166667</td>\n",
              "      <td>0.000000</td>\n",
              "      <td>0.000000</td>\n",
              "      <td>0.000000</td>\n",
              "      <td>1.466667</td>\n",
              "    </tr>\n",
              "    <tr>\n",
              "      <th>2014</th>\n",
              "      <td>0.266667</td>\n",
              "      <td>0.266667</td>\n",
              "      <td>0.266667</td>\n",
              "      <td>0.000000</td>\n",
              "      <td>0.266667</td>\n",
              "      <td>0.000000</td>\n",
              "      <td>0.000000</td>\n",
              "      <td>0.266667</td>\n",
              "      <td>0.266667</td>\n",
              "      <td>0.266667</td>\n",
              "    </tr>\n",
              "  </tbody>\n",
              "</table>\n",
              "<p>660003 rows × 10 columns</p>\n",
              "</div>"
            ],
            "text/plain": [
              "genres                        Action   Adventure     Casual      Indie  \\\n",
              "user_id    release_year                                                  \n",
              "--000--    2006            15.416667   15.416667   0.000000  15.416667   \n",
              "           2009            88.816666   88.816666   0.000000   0.000000   \n",
              "           2010             0.366667    0.000000   0.000000   0.366667   \n",
              "           2011           108.699997  108.699997   0.000000  30.616665   \n",
              "           2012          1822.516724   37.150002  30.016666  37.700001   \n",
              "...                              ...         ...        ...        ...   \n",
              "zzzmidmiss 2010             7.783334    0.166667   3.916667   7.950000   \n",
              "           2011            38.366665   38.366665   1.250000   1.750000   \n",
              "           2012            98.366669   61.650005   6.083333  51.316666   \n",
              "           2013             1.633333    1.750000   0.283333   1.750000   \n",
              "           2014             0.266667    0.266667   0.266667   0.000000   \n",
              "\n",
              "genres                   Massively Multiplayer        RPG     Racing  \\\n",
              "user_id    release_year                                                \n",
              "--000--    2006                      15.416667   0.000000   0.000000   \n",
              "           2009                       0.000000   0.000000   0.000000   \n",
              "           2010                       0.000000   0.000000   0.000000   \n",
              "           2011                      46.049999  62.649998  46.049999   \n",
              "           2012                      10.500000  29.516666   0.000000   \n",
              "...                                        ...        ...        ...   \n",
              "zzzmidmiss 2010                       0.000000   0.000000   0.000000   \n",
              "           2011                       0.266667  37.599998   0.266667   \n",
              "           2012                       8.016666  45.500000   0.000000   \n",
              "           2013                       0.166667   0.166667   0.000000   \n",
              "           2014                       0.266667   0.000000   0.000000   \n",
              "\n",
              "genres                   Simulation    Sports     Strategy  \n",
              "user_id    release_year                                     \n",
              "--000--    2006           15.416667  0.000000     0.000000  \n",
              "           2009            0.000000  0.000000     0.000000  \n",
              "           2010            0.000000  0.000000     0.000000  \n",
              "           2011           11.083333  0.000000    11.083333  \n",
              "           2012            0.000000  7.683333  1796.400024  \n",
              "...                             ...       ...          ...  \n",
              "zzzmidmiss 2010            3.233333  3.233333     3.400000  \n",
              "           2011            0.000000  0.000000     1.150000  \n",
              "           2012            6.450000  0.000000    15.383334  \n",
              "           2013            0.000000  0.000000     1.466667  \n",
              "           2014            0.266667  0.266667     0.266667  \n",
              "\n",
              "[660003 rows x 10 columns]"
            ]
          },
          "execution_count": 14,
          "metadata": {},
          "output_type": "execute_result"
        }
      ],
      "source": [
        "df_pseudo_db1 = df_pseudo_db1.pivot_table(index=['user_id', 'release_year'], columns='genres', values='playtime_forever', aggfunc='sum', fill_value=0)\n",
        "df_pseudo_db1"
      ]
    },
    {
      "cell_type": "code",
      "execution_count": 15,
      "metadata": {},
      "outputs": [
        {
          "name": "stdout",
          "output_type": "stream",
          "text": [
            "<class 'pandas.core.frame.DataFrame'>\n",
            "MultiIndex: 660003 entries, ('--000--', 2006) to ('zzzmidmiss', 2014)\n",
            "Data columns (total 10 columns):\n",
            " #   Column                 Non-Null Count   Dtype  \n",
            "---  ------                 --------------   -----  \n",
            " 0   Action                 660003 non-null  float32\n",
            " 1   Adventure              660003 non-null  float32\n",
            " 2   Casual                 660003 non-null  float32\n",
            " 3   Indie                  660003 non-null  float32\n",
            " 4   Massively Multiplayer  660003 non-null  float32\n",
            " 5   RPG                    660003 non-null  float32\n",
            " 6   Racing                 660003 non-null  float32\n",
            " 7   Simulation             660003 non-null  float32\n",
            " 8   Sports                 660003 non-null  float32\n",
            " 9   Strategy               660003 non-null  float32\n",
            "dtypes: float32(10)\n",
            "memory usage: 28.8+ MB\n"
          ]
        }
      ],
      "source": [
        "df_pseudo_db1.info()"
      ]
    },
    {
      "cell_type": "markdown",
      "metadata": {
        "id": "cgnKnR8-nfHg"
      },
      "source": [
        "### 3.2 Endpoints 3, 4 y 5."
      ]
    },
    {
      "cell_type": "markdown",
      "metadata": {
        "id": "pKp4Tma6eVYO"
      },
      "source": [
        "#### 3.2.1 Endpoint 3"
      ]
    },
    {
      "cell_type": "markdown",
      "metadata": {
        "id": "N2_GI187KOCp"
      },
      "source": [
        "+ def **UsersRecommend( *`año` : int* )**:\n",
        "   Devuelve el top 3 de juegos MÁS recomendados por usuarios para el año dado. (reviews.recommend = True y comentarios positivos/neutrales)\n",
        "  \n",
        "\n",
        "Ejemplo de retorno:\n",
        "```js\n",
        "[\n",
        "   {\n",
        "      \"Puesto 1\":\"X\"\n",
        "   },\n",
        "   {\n",
        "      \"Puesto 2\":\"Y\"\n",
        "   },\n",
        "   {\n",
        "      \"Puesto 3\":\"Z\"\n",
        "   }\n",
        "]\n",
        "```\n"
      ]
    },
    {
      "cell_type": "markdown",
      "metadata": {
        "id": "PY91dhN8nf6u"
      },
      "source": [
        "#### 3.2.2 Endpoint 4"
      ]
    },
    {
      "cell_type": "markdown",
      "metadata": {
        "id": "QsSxUWI_16Ws"
      },
      "source": [
        "+ def **UsersWorstDeveloper( *`año` : int* )**:\n",
        "   Devuelve el top 3 de desarrolladoras con juegos MENOS recomendados por usuarios para el año dado. (reviews.recommend = False y comentarios negativos)\n",
        "  \n",
        "Ejemplo de retorno:\n",
        "```js\n",
        "[\n",
        "   {\n",
        "      \"Puesto 1\":\"X\"\n",
        "   },\n",
        "   {\n",
        "      \"Puesto 2\":\"Y\"\n",
        "   },\n",
        "   {\n",
        "      \"Puesto 3\":\"Z\"\n",
        "   }\n",
        "]\n",
        "```"
      ]
    },
    {
      "cell_type": "markdown",
      "metadata": {
        "id": "elqpclVvngK6"
      },
      "source": [
        "#### 3.2.3 Endpoint 5"
      ]
    },
    {
      "cell_type": "markdown",
      "metadata": {
        "id": "RfOKYJSY2S5M"
      },
      "source": [
        "def **sentiment_analysis( *`empresa desarrolladora` : str* )**:\n",
        "    Según la empresa desarrolladora, se devuelve un diccionario con el nombre de la desarrolladora como llave y una lista con la cantidad total\n",
        "    de registros de reseñas de usuarios que se encuentren categorizados con un análisis de sentimiento como valor.\n",
        "\n",
        "Ejemplo de retorno:\n",
        "```js\n",
        "{\n",
        "   \"Valve\":[\n",
        "      Negative = 182,\n",
        "      Neutral = 120,\n",
        "      Positive = 278\n",
        "   ]\n",
        "}\n",
        "```\n"
      ]
    },
    {
      "cell_type": "markdown",
      "metadata": {
        "id": "8gY9tIDFhHYs"
      },
      "source": [
        "#### 3.1.4 Pseudo Database 2"
      ]
    },
    {
      "cell_type": "markdown",
      "metadata": {
        "id": "RVS40nfDhHYv"
      },
      "source": [
        "- Para crear un solo dataset que pueda ser utilizado como pseudo base de datos para estos endpoints, necesitamos combinar `df_steam_games` con `df_user_reviews` de tal manera que tengamos toda la información necesaria en un solo lugar. Para esto solo necesitamos las columnas:\n",
        "`item_id`,`item_name`,`developer` del DataFrame `steam_games`. También `item_id`, `recommend`, `sentiment_analysis` y `posted_year` del DataFrame `user_reviews`."
      ]
    },
    {
      "cell_type": "markdown",
      "metadata": {
        "id": "eCwWUmK-nvBA"
      },
      "source": [
        "- Primero, seleccionamos las columnas necesarias:"
      ]
    },
    {
      "cell_type": "code",
      "execution_count": 16,
      "metadata": {
        "id": "J7tKP3C7pa-t"
      },
      "outputs": [],
      "source": [
        "steam_games_columns = ['item_id', 'item_name', 'developer']\n",
        "user_reviews_columns = ['item_id', 'recommend','sentiment_analysis','posted_year']"
      ]
    },
    {
      "cell_type": "markdown",
      "metadata": {
        "id": "iWFkaACAnGkA"
      },
      "source": [
        "* Segundo, creamos subsets de los DataFrames con solo las columnas necesarias:"
      ]
    },
    {
      "cell_type": "code",
      "execution_count": 17,
      "metadata": {
        "id": "9aw1v5lZqmQC"
      },
      "outputs": [],
      "source": [
        "df_games_subset = df_steam_games[steam_games_columns]\n",
        "df_reviews_subset = df_user_reviews[user_reviews_columns]"
      ]
    },
    {
      "cell_type": "markdown",
      "metadata": {
        "id": "xEfERmUxtZgg"
      },
      "source": [
        "* Luego, hacemos un merge entre los subsets `steam_games` y `user_reviews` en la columna `item_id`."
      ]
    },
    {
      "cell_type": "code",
      "execution_count": 18,
      "metadata": {
        "colab": {
          "base_uri": "https://localhost:8080/",
          "height": 244
        },
        "id": "2L3CaJJftX5V",
        "outputId": "a6cb1071-cdd2-4854-dba4-de7d8bcab737"
      },
      "outputs": [
        {
          "data": {
            "text/html": [
              "<div>\n",
              "<style scoped>\n",
              "    .dataframe tbody tr th:only-of-type {\n",
              "        vertical-align: middle;\n",
              "    }\n",
              "\n",
              "    .dataframe tbody tr th {\n",
              "        vertical-align: top;\n",
              "    }\n",
              "\n",
              "    .dataframe thead th {\n",
              "        text-align: right;\n",
              "    }\n",
              "</style>\n",
              "<table border=\"1\" class=\"dataframe\">\n",
              "  <thead>\n",
              "    <tr style=\"text-align: right;\">\n",
              "      <th></th>\n",
              "      <th>item_id</th>\n",
              "      <th>item_name</th>\n",
              "      <th>developer</th>\n",
              "      <th>recommend</th>\n",
              "      <th>sentiment_analysis</th>\n",
              "      <th>posted_year</th>\n",
              "    </tr>\n",
              "  </thead>\n",
              "  <tbody>\n",
              "    <tr>\n",
              "      <th>0</th>\n",
              "      <td>282010</td>\n",
              "      <td>Carmageddon Max Pack</td>\n",
              "      <td>Stainless Games Ltd</td>\n",
              "      <td>True</td>\n",
              "      <td>1</td>\n",
              "      <td>unknown</td>\n",
              "    </tr>\n",
              "    <tr>\n",
              "      <th>1</th>\n",
              "      <td>282010</td>\n",
              "      <td>Carmageddon Max Pack</td>\n",
              "      <td>Stainless Games Ltd</td>\n",
              "      <td>True</td>\n",
              "      <td>1</td>\n",
              "      <td>unknown</td>\n",
              "    </tr>\n",
              "    <tr>\n",
              "      <th>2</th>\n",
              "      <td>282010</td>\n",
              "      <td>Carmageddon Max Pack</td>\n",
              "      <td>Stainless Games Ltd</td>\n",
              "      <td>True</td>\n",
              "      <td>1</td>\n",
              "      <td>unknown</td>\n",
              "    </tr>\n",
              "    <tr>\n",
              "      <th>3</th>\n",
              "      <td>70</td>\n",
              "      <td>Half-Life</td>\n",
              "      <td>Valve</td>\n",
              "      <td>True</td>\n",
              "      <td>0</td>\n",
              "      <td>2015</td>\n",
              "    </tr>\n",
              "    <tr>\n",
              "      <th>4</th>\n",
              "      <td>70</td>\n",
              "      <td>Half-Life</td>\n",
              "      <td>Valve</td>\n",
              "      <td>True</td>\n",
              "      <td>0</td>\n",
              "      <td>2011</td>\n",
              "    </tr>\n",
              "  </tbody>\n",
              "</table>\n",
              "</div>"
            ],
            "text/plain": [
              "  item_id             item_name            developer  recommend  \\\n",
              "0  282010  Carmageddon Max Pack  Stainless Games Ltd       True   \n",
              "1  282010  Carmageddon Max Pack  Stainless Games Ltd       True   \n",
              "2  282010  Carmageddon Max Pack  Stainless Games Ltd       True   \n",
              "3      70             Half-Life                Valve       True   \n",
              "4      70             Half-Life                Valve       True   \n",
              "\n",
              "   sentiment_analysis posted_year  \n",
              "0                   1     unknown  \n",
              "1                   1     unknown  \n",
              "2                   1     unknown  \n",
              "3                   0        2015  \n",
              "4                   0        2011  "
            ]
          },
          "execution_count": 18,
          "metadata": {},
          "output_type": "execute_result"
        }
      ],
      "source": [
        "df_pseudo_db2 = pd.merge(df_games_subset, df_reviews_subset, on='item_id')\n",
        "df_pseudo_db2.head()"
      ]
    },
    {
      "cell_type": "markdown",
      "metadata": {
        "id": "NEUBjQR9aWJo"
      },
      "source": [
        "- Con el objetivo de ahorrar recursos, filtraremos los registros de juegos que cumplan con las siguientes condiciones: tener un review con un `posted_year` válido y un `developer` conocido. Además, eliminaremos la columna `item_id`, ya que no la necesitamos."
      ]
    },
    {
      "cell_type": "code",
      "execution_count": 19,
      "metadata": {
        "colab": {
          "base_uri": "https://localhost:8080/",
          "height": 206
        },
        "id": "jv6Ha6YsaWJr",
        "outputId": "fc1746d4-fb3f-436a-9733-116730b07bbf"
      },
      "outputs": [
        {
          "data": {
            "text/html": [
              "<div>\n",
              "<style scoped>\n",
              "    .dataframe tbody tr th:only-of-type {\n",
              "        vertical-align: middle;\n",
              "    }\n",
              "\n",
              "    .dataframe tbody tr th {\n",
              "        vertical-align: top;\n",
              "    }\n",
              "\n",
              "    .dataframe thead th {\n",
              "        text-align: right;\n",
              "    }\n",
              "</style>\n",
              "<table border=\"1\" class=\"dataframe\">\n",
              "  <thead>\n",
              "    <tr style=\"text-align: right;\">\n",
              "      <th></th>\n",
              "      <th>item_name</th>\n",
              "      <th>developer</th>\n",
              "      <th>recommend</th>\n",
              "      <th>sentiment_analysis</th>\n",
              "      <th>posted_year</th>\n",
              "    </tr>\n",
              "  </thead>\n",
              "  <tbody>\n",
              "    <tr>\n",
              "      <th>0</th>\n",
              "      <td>Half-Life</td>\n",
              "      <td>Valve</td>\n",
              "      <td>True</td>\n",
              "      <td>0</td>\n",
              "      <td>2015</td>\n",
              "    </tr>\n",
              "    <tr>\n",
              "      <th>1</th>\n",
              "      <td>Half-Life</td>\n",
              "      <td>Valve</td>\n",
              "      <td>True</td>\n",
              "      <td>0</td>\n",
              "      <td>2011</td>\n",
              "    </tr>\n",
              "    <tr>\n",
              "      <th>2</th>\n",
              "      <td>Half-Life</td>\n",
              "      <td>Valve</td>\n",
              "      <td>True</td>\n",
              "      <td>0</td>\n",
              "      <td>2014</td>\n",
              "    </tr>\n",
              "    <tr>\n",
              "      <th>3</th>\n",
              "      <td>Half-Life</td>\n",
              "      <td>Valve</td>\n",
              "      <td>True</td>\n",
              "      <td>2</td>\n",
              "      <td>2013</td>\n",
              "    </tr>\n",
              "    <tr>\n",
              "      <th>4</th>\n",
              "      <td>Half-Life</td>\n",
              "      <td>Valve</td>\n",
              "      <td>True</td>\n",
              "      <td>0</td>\n",
              "      <td>2013</td>\n",
              "    </tr>\n",
              "  </tbody>\n",
              "</table>\n",
              "</div>"
            ],
            "text/plain": [
              "   item_name developer  recommend  sentiment_analysis posted_year\n",
              "0  Half-Life     Valve       True                   0        2015\n",
              "1  Half-Life     Valve       True                   0        2011\n",
              "2  Half-Life     Valve       True                   0        2014\n",
              "3  Half-Life     Valve       True                   2        2013\n",
              "4  Half-Life     Valve       True                   0        2013"
            ]
          },
          "execution_count": 19,
          "metadata": {},
          "output_type": "execute_result"
        }
      ],
      "source": [
        "df_pseudo_db2 = df_pseudo_db2[(df_pseudo_db2['posted_year'] != 'unknown') & (df_pseudo_db2['developer'] != 'unknown') ].reset_index(drop=True)\n",
        "df_pseudo_db2.drop('item_id',axis=1, inplace=True)\n",
        "df_pseudo_db2.head()"
      ]
    },
    {
      "cell_type": "markdown",
      "metadata": {
        "id": "VzUGOesmMUaY"
      },
      "source": [
        "- Por último, para optimizar el uso de la memoria en el deploy de la API, convertiremos las columnas a los tipos de datos adecuados según su contenido."
      ]
    },
    {
      "cell_type": "code",
      "execution_count": 20,
      "metadata": {
        "colab": {
          "base_uri": "https://localhost:8080/"
        },
        "id": "vgN6WX5b2idI",
        "outputId": "60d146fd-0073-4079-b6b5-a90087c846ee"
      },
      "outputs": [
        {
          "name": "stdout",
          "output_type": "stream",
          "text": [
            "<class 'pandas.core.frame.DataFrame'>\n",
            "RangeIndex: 152619 entries, 0 to 152618\n",
            "Data columns (total 5 columns):\n",
            " #   Column              Non-Null Count   Dtype \n",
            "---  ------              --------------   ----- \n",
            " 0   item_name           152619 non-null  object\n",
            " 1   developer           152619 non-null  object\n",
            " 2   recommend           152619 non-null  bool  \n",
            " 3   sentiment_analysis  152619 non-null  int8  \n",
            " 4   posted_year         152619 non-null  int16 \n",
            "dtypes: bool(1), int16(1), int8(1), object(2)\n",
            "memory usage: 2.9+ MB\n"
          ]
        }
      ],
      "source": [
        "df_pseudo_db2['sentiment_analysis'] = df_pseudo_db2['sentiment_analysis'].astype('int8')\n",
        "df_pseudo_db2['posted_year'] = df_pseudo_db2['posted_year'].astype('int16')\n",
        "df_pseudo_db2.info()"
      ]
    },
    {
      "cell_type": "markdown",
      "metadata": {},
      "source": [
        "## 4 Feature Engineering for RecSys"
      ]
    },
    {
      "cell_type": "markdown",
      "metadata": {},
      "source": [
        "Mejorar el rendimiento predictivo de un modelo\n",
        "Reducir las necesidades computacionales o de datos\n",
        "Mejorar la interpretabilidad de los resultados\n",
        "\n",
        "Determinar qué características son las más importantes con información mutua\n",
        "Inventar nuevas características en varios dominios de problemas del mundo real\n",
        "Codifique categóricos de alta cardinalidad con una codificación de destino\n",
        "Creación de entidades de segmentación con la agrupación en clústeres K-means\n",
        "Descomponer la variación de un conjunto de datos en entidades con el análisis de componentes principales"
      ]
    },
    {
      "cell_type": "markdown",
      "metadata": {},
      "source": [
        "* Primero, vamos unir los tres conjuntos de datos por el campo user_id, que es el identificador único de cada usuario. Esto nos permitirá tener un solo conjunto de datos con toda la información relevante sobre los usuarios, como los juegos que han comprado o jugado, las reseñas que han escrito, el análisis de sentimiento, etc. Vamos a usar la función merge de pandas para hacer esta operación."
      ]
    },
    {
      "cell_type": "code",
      "execution_count": null,
      "metadata": {},
      "outputs": [
        {
          "ename": "MemoryError",
          "evalue": "Unable to allocate 116. MiB for an array with shape (15255102,) and data type int64",
          "output_type": "error",
          "traceback": [
            "\u001b[1;31m---------------------------------------------------------------------------\u001b[0m",
            "\u001b[1;31mMemoryError\u001b[0m                               Traceback (most recent call last)",
            "\u001b[1;32mc:\\Users\\Freddy\\Desktop\\Workspace\\Henry\\recsys-steam-games\\notebooks\\2.1-feature-engineering.ipynb Cell 72\u001b[0m line \u001b[0;36m1\n\u001b[1;32m----> <a href='vscode-notebook-cell:/c%3A/Users/Freddy/Desktop/Workspace/Henry/recsys-steam-games/notebooks/2.1-feature-engineering.ipynb#Y134sZmlsZQ%3D%3D?line=0'>1</a>\u001b[0m df_user_games \u001b[39m=\u001b[39m pd\u001b[39m.\u001b[39;49mmerge(df_user_items, df_steam_games, on\u001b[39m=\u001b[39;49m\u001b[39m'\u001b[39;49m\u001b[39mitem_id\u001b[39;49m\u001b[39m'\u001b[39;49m)\n\u001b[0;32m      <a href='vscode-notebook-cell:/c%3A/Users/Freddy/Desktop/Workspace/Henry/recsys-steam-games/notebooks/2.1-feature-engineering.ipynb#Y134sZmlsZQ%3D%3D?line=1'>2</a>\u001b[0m df_user_games\n",
            "File \u001b[1;32mc:\\Users\\Freddy\\Desktop\\Workspace\\Henry\\recsys-steam-games\\venv\\Lib\\site-packages\\pandas\\core\\reshape\\merge.py:183\u001b[0m, in \u001b[0;36mmerge\u001b[1;34m(left, right, how, on, left_on, right_on, left_index, right_index, sort, suffixes, copy, indicator, validate)\u001b[0m\n\u001b[0;32m    168\u001b[0m \u001b[39melse\u001b[39;00m:\n\u001b[0;32m    169\u001b[0m     op \u001b[39m=\u001b[39m _MergeOperation(\n\u001b[0;32m    170\u001b[0m         left_df,\n\u001b[0;32m    171\u001b[0m         right_df,\n\u001b[1;32m   (...)\u001b[0m\n\u001b[0;32m    181\u001b[0m         validate\u001b[39m=\u001b[39mvalidate,\n\u001b[0;32m    182\u001b[0m     )\n\u001b[1;32m--> 183\u001b[0m     \u001b[39mreturn\u001b[39;00m op\u001b[39m.\u001b[39;49mget_result(copy\u001b[39m=\u001b[39;49mcopy)\n",
            "File \u001b[1;32mc:\\Users\\Freddy\\Desktop\\Workspace\\Henry\\recsys-steam-games\\venv\\Lib\\site-packages\\pandas\\core\\reshape\\merge.py:883\u001b[0m, in \u001b[0;36m_MergeOperation.get_result\u001b[1;34m(self, copy)\u001b[0m\n\u001b[0;32m    880\u001b[0m \u001b[39mif\u001b[39;00m \u001b[39mself\u001b[39m\u001b[39m.\u001b[39mindicator:\n\u001b[0;32m    881\u001b[0m     \u001b[39mself\u001b[39m\u001b[39m.\u001b[39mleft, \u001b[39mself\u001b[39m\u001b[39m.\u001b[39mright \u001b[39m=\u001b[39m \u001b[39mself\u001b[39m\u001b[39m.\u001b[39m_indicator_pre_merge(\u001b[39mself\u001b[39m\u001b[39m.\u001b[39mleft, \u001b[39mself\u001b[39m\u001b[39m.\u001b[39mright)\n\u001b[1;32m--> 883\u001b[0m join_index, left_indexer, right_indexer \u001b[39m=\u001b[39m \u001b[39mself\u001b[39;49m\u001b[39m.\u001b[39;49m_get_join_info()\n\u001b[0;32m    885\u001b[0m result \u001b[39m=\u001b[39m \u001b[39mself\u001b[39m\u001b[39m.\u001b[39m_reindex_and_concat(\n\u001b[0;32m    886\u001b[0m     join_index, left_indexer, right_indexer, copy\u001b[39m=\u001b[39mcopy\n\u001b[0;32m    887\u001b[0m )\n\u001b[0;32m    888\u001b[0m result \u001b[39m=\u001b[39m result\u001b[39m.\u001b[39m__finalize__(\u001b[39mself\u001b[39m, method\u001b[39m=\u001b[39m\u001b[39mself\u001b[39m\u001b[39m.\u001b[39m_merge_type)\n",
            "File \u001b[1;32mc:\\Users\\Freddy\\Desktop\\Workspace\\Henry\\recsys-steam-games\\venv\\Lib\\site-packages\\pandas\\core\\reshape\\merge.py:1133\u001b[0m, in \u001b[0;36m_MergeOperation._get_join_info\u001b[1;34m(self)\u001b[0m\n\u001b[0;32m   1129\u001b[0m     join_index, right_indexer, left_indexer \u001b[39m=\u001b[39m _left_join_on_index(\n\u001b[0;32m   1130\u001b[0m         right_ax, left_ax, \u001b[39mself\u001b[39m\u001b[39m.\u001b[39mright_join_keys, sort\u001b[39m=\u001b[39m\u001b[39mself\u001b[39m\u001b[39m.\u001b[39msort\n\u001b[0;32m   1131\u001b[0m     )\n\u001b[0;32m   1132\u001b[0m \u001b[39melse\u001b[39;00m:\n\u001b[1;32m-> 1133\u001b[0m     (left_indexer, right_indexer) \u001b[39m=\u001b[39m \u001b[39mself\u001b[39;49m\u001b[39m.\u001b[39;49m_get_join_indexers()\n\u001b[0;32m   1135\u001b[0m     \u001b[39mif\u001b[39;00m \u001b[39mself\u001b[39m\u001b[39m.\u001b[39mright_index:\n\u001b[0;32m   1136\u001b[0m         \u001b[39mif\u001b[39;00m \u001b[39mlen\u001b[39m(\u001b[39mself\u001b[39m\u001b[39m.\u001b[39mleft) \u001b[39m>\u001b[39m \u001b[39m0\u001b[39m:\n",
            "File \u001b[1;32mc:\\Users\\Freddy\\Desktop\\Workspace\\Henry\\recsys-steam-games\\venv\\Lib\\site-packages\\pandas\\core\\reshape\\merge.py:1105\u001b[0m, in \u001b[0;36m_MergeOperation._get_join_indexers\u001b[1;34m(self)\u001b[0m\n\u001b[0;32m   1103\u001b[0m \u001b[39mdef\u001b[39;00m \u001b[39m_get_join_indexers\u001b[39m(\u001b[39mself\u001b[39m) \u001b[39m-\u001b[39m\u001b[39m>\u001b[39m \u001b[39mtuple\u001b[39m[npt\u001b[39m.\u001b[39mNDArray[np\u001b[39m.\u001b[39mintp], npt\u001b[39m.\u001b[39mNDArray[np\u001b[39m.\u001b[39mintp]]:\n\u001b[0;32m   1104\u001b[0m \u001b[39m    \u001b[39m\u001b[39m\"\"\"return the join indexers\"\"\"\u001b[39;00m\n\u001b[1;32m-> 1105\u001b[0m     \u001b[39mreturn\u001b[39;00m get_join_indexers(\n\u001b[0;32m   1106\u001b[0m         \u001b[39mself\u001b[39;49m\u001b[39m.\u001b[39;49mleft_join_keys, \u001b[39mself\u001b[39;49m\u001b[39m.\u001b[39;49mright_join_keys, sort\u001b[39m=\u001b[39;49m\u001b[39mself\u001b[39;49m\u001b[39m.\u001b[39;49msort, how\u001b[39m=\u001b[39;49m\u001b[39mself\u001b[39;49m\u001b[39m.\u001b[39;49mhow\n\u001b[0;32m   1107\u001b[0m     )\n",
            "File \u001b[1;32mc:\\Users\\Freddy\\Desktop\\Workspace\\Henry\\recsys-steam-games\\venv\\Lib\\site-packages\\pandas\\core\\reshape\\merge.py:1728\u001b[0m, in \u001b[0;36mget_join_indexers\u001b[1;34m(left_keys, right_keys, sort, how)\u001b[0m\n\u001b[0;32m   1718\u001b[0m join_func \u001b[39m=\u001b[39m {\n\u001b[0;32m   1719\u001b[0m     \u001b[39m\"\u001b[39m\u001b[39minner\u001b[39m\u001b[39m\"\u001b[39m: libjoin\u001b[39m.\u001b[39minner_join,\n\u001b[0;32m   1720\u001b[0m     \u001b[39m\"\u001b[39m\u001b[39mleft\u001b[39m\u001b[39m\"\u001b[39m: libjoin\u001b[39m.\u001b[39mleft_outer_join,\n\u001b[1;32m   (...)\u001b[0m\n\u001b[0;32m   1724\u001b[0m     \u001b[39m\"\u001b[39m\u001b[39mouter\u001b[39m\u001b[39m\"\u001b[39m: libjoin\u001b[39m.\u001b[39mfull_outer_join,\n\u001b[0;32m   1725\u001b[0m }[how]\n\u001b[0;32m   1727\u001b[0m \u001b[39m# error: Cannot call function of unknown type\u001b[39;00m\n\u001b[1;32m-> 1728\u001b[0m \u001b[39mreturn\u001b[39;00m join_func(lkey, rkey, count, \u001b[39m*\u001b[39;49m\u001b[39m*\u001b[39;49mkwargs)\n",
            "File \u001b[1;32mjoin.pyx:49\u001b[0m, in \u001b[0;36mpandas._libs.join.inner_join\u001b[1;34m()\u001b[0m\n",
            "\u001b[1;31mMemoryError\u001b[0m: Unable to allocate 116. MiB for an array with shape (15255102,) and data type int64"
          ]
        }
      ],
      "source": [
        "df_user_games = pd.merge(df_user_items, df_steam_games, on='item_id')\n",
        "df_user_games"
      ]
    },
    {
      "cell_type": "code",
      "execution_count": null,
      "metadata": {},
      "outputs": [],
      "source": [
        "df_final = pd.merge(df_reviews_items, df_user_reviews, on='item_id')"
      ]
    },
    {
      "cell_type": "code",
      "execution_count": 9,
      "metadata": {},
      "outputs": [
        {
          "data": {
            "text/plain": [
              "Index(['item_id', 'playtime_forever', 'user_id'], dtype='object')"
            ]
          },
          "execution_count": 9,
          "metadata": {},
          "output_type": "execute_result"
        }
      ],
      "source": [
        "df_user_items.columns"
      ]
    },
    {
      "cell_type": "code",
      "execution_count": 10,
      "metadata": {},
      "outputs": [
        {
          "data": {
            "text/plain": [
              "Index(['item_id', 'recommend', 'user_id', 'posted_year', 'sentiment_analysis'], dtype='object')"
            ]
          },
          "execution_count": 10,
          "metadata": {},
          "output_type": "execute_result"
        }
      ],
      "source": [
        "df_user_reviews.columns"
      ]
    },
    {
      "cell_type": "code",
      "execution_count": 11,
      "metadata": {},
      "outputs": [
        {
          "data": {
            "text/plain": [
              "Index(['publisher', 'item_name', 'price', 'early_access', 'item_id',\n",
              "       'developer', 'release_year', 'genres'],\n",
              "      dtype='object')"
            ]
          },
          "execution_count": 11,
          "metadata": {},
          "output_type": "execute_result"
        }
      ],
      "source": [
        "df_steam_games.columns"
      ]
    },
    {
      "cell_type": "markdown",
      "metadata": {
        "id": "gALdAKCl0ZaT"
      },
      "source": [
        "## 5 Carga"
      ]
    },
    {
      "cell_type": "markdown",
      "metadata": {
        "id": "LpmNGMg5FfZ4"
      },
      "source": [
        "Finalmente, en esta sección cargamos nuestros datos transformados para los endpoints que se consumirán en la API a su destino final. Optamos por almacenarlos en formato parquet con compresion snappy para reducir su tamaño de almacenamiento."
      ]
    },
    {
      "cell_type": "code",
      "execution_count": 21,
      "metadata": {
        "colab": {
          "base_uri": "https://localhost:8080/"
        },
        "id": "4BzIWF9kkZwA",
        "outputId": "532fa6bb-304d-4265-b3d2-6b3e31d61148"
      },
      "outputs": [
        {
          "name": "stdout",
          "output_type": "stream",
          "text": [
            "'pseudo-db1.parquet' fue guardado correctamente en '../data/processed/'\n",
            "'pseudo-db2.parquet' fue guardado correctamente en '../data/processed/'\n",
            "'user_sentiment_analysis.parquet' fue guardado correctamente en '../data/processed/'\n"
          ]
        }
      ],
      "source": [
        "# Nombres correspondientes a cada DataFrame\n",
        "dfs = [df_pseudo_db1, df_pseudo_db2, df_user_reviews]\n",
        "names = ['pseudo-db1.parquet', 'pseudo-db2.parquet', 'user_sentiment_analysis.parquet' ]\n",
        "\n",
        "for dfs, n in zip(dfs, names):\n",
        "    # Definimos la ruta del directorio\n",
        "    folder_path = f'../data/processed/'\n",
        "\n",
        "    # Verificamos si el folder_path existe\n",
        "    if not os.path.exists(folder_path):\n",
        "        # Si no existe, lo creamos\n",
        "        os.makedirs(folder_path)\n",
        "\n",
        "    # Definimos la ruta completa del archivo\n",
        "    path = os.path.join(folder_path, n)\n",
        "\n",
        "    # Guardamos el DataFrame como un archivo parquet\n",
        "    dfs.to_parquet(path, engine='pyarrow', compression='snappy')\n",
        "\n",
        "    print(f\"'{n}' fue guardado correctamente en '{folder_path}'\")"
      ]
    }
  ],
  "metadata": {
    "colab": {
      "include_colab_link": true,
      "provenance": []
    },
    "kernelspec": {
      "display_name": "Python 3",
      "name": "python3"
    },
    "language_info": {
      "codemirror_mode": {
        "name": "ipython",
        "version": 3
      },
      "file_extension": ".py",
      "mimetype": "text/x-python",
      "name": "python",
      "nbconvert_exporter": "python",
      "pygments_lexer": "ipython3",
      "version": "3.11.5"
    }
  },
  "nbformat": 4,
  "nbformat_minor": 0
}
